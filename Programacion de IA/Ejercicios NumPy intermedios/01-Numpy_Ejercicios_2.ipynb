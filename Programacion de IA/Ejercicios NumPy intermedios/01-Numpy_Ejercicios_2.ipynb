{
 "cells": [
  {
   "cell_type": "markdown",
   "metadata": {
    "id": "titulo"
   },
   "source": [
    "# Práctica 2 de NumPy - Manipulación de Matrices\n",
    "\n",
    "Practica para seguir trabajando con la librería Numpy.\n",
    "\n",
    "Vas a tener que investigar funciones nuevas por lo que es altamente recomendado que te sumerjas en la documentación oficial de la librería y te vayas familiarizando con todo.\n",
    "\n",
    "Enlace oficial: https://numpy.org/doc/stable/reference/index.html"
   ]
  },
  {
   "cell_type": "markdown",
   "metadata": {
    "id": "ej1"
   },
   "source": [
    "### Ejercicio 1\n",
    "Crea un array 2D de tamaño 5x5 con valores enteros aleatorios entre 0 y 50 y muestra la matriz junto con su forma y tamaño."
   ]
  },
  {
   "cell_type": "code",
   "execution_count": 2,
   "metadata": {
    "id": "cod1"
   },
   "outputs": [
    {
     "name": "stdout",
     "output_type": "stream",
     "text": [
      "[[49 28 16  2  2]\n",
      " [44 39 15 14 45]\n",
      " [34 42 19 34 39]\n",
      " [33 40  4  1 37]\n",
      " [31 22 43 11  1]] \n",
      "\n",
      "Forma: (5, 5) \n",
      "\n",
      "Tamaño: 25\n"
     ]
    }
   ],
   "source": [
    "import numpy as np\n",
    "\n",
    "array5x5 = np.random.randint(0, 50, (5, 5))\n",
    "print(array5x5, \"\\n\")\n",
    "print(f\"Forma: {array5x5.shape} \\n\")\n",
    "print(f\"Tamaño: {array5x5.size}\")"
   ]
  },
  {
   "cell_type": "markdown",
   "metadata": {
    "id": "ej2"
   },
   "source": [
    "### Ejercicio 2\n",
    "Crea un array 1D de 20 elementos con valores consecutivos de 10 a 29 y luego reorganízalo en una matriz 4x5."
   ]
  },
  {
   "cell_type": "code",
   "execution_count": 5,
   "metadata": {
    "id": "cod2"
   },
   "outputs": [
    {
     "name": "stdout",
     "output_type": "stream",
     "text": [
      "[10 11 12 13 14 15 16 17 18 19 20 21 22 23 24 25 26 27 28 29] \n",
      "\n",
      "[[10 11 12 13 14]\n",
      " [15 16 17 18 19]\n",
      " [20 21 22 23 24]\n",
      " [25 26 27 28 29]]\n"
     ]
    }
   ],
   "source": [
    "array1d = np.arange(10, 30)\n",
    "print(array1d, \"\\n\")\n",
    "array4x5 = array1d.reshape(4,5)\n",
    "print(array4x5)"
   ]
  },
  {
   "cell_type": "markdown",
   "metadata": {
    "id": "ej3"
   },
   "source": [
    "### Ejercicio 3\n",
    "Dada una matriz 6x6 de valores aleatorios entre 0 y 100, extrae todas las filas pares y columnas impares."
   ]
  },
  {
   "cell_type": "code",
   "execution_count": 8,
   "metadata": {
    "id": "cod3"
   },
   "outputs": [
    {
     "name": "stdout",
     "output_type": "stream",
     "text": [
      "[[36  0 14 78 69 91]\n",
      " [88 10 24 39 44 68]\n",
      " [ 8 66 95 99 17  7]\n",
      " [96 14 92 12 31 57]\n",
      " [ 4 70 91 61 38 47]\n",
      " [ 9 28 75  2 77 67]] \n",
      "\n",
      "[[ 0 78 91]\n",
      " [66 99  7]\n",
      " [70 61 47]]\n"
     ]
    }
   ],
   "source": [
    "matriz6x6 = np.random.randint(0,100,(6,6))\n",
    "print(matriz6x6, \"\\n\")\n",
    "print(matriz6x6[::2,1::2])"
   ]
  },
  {
   "cell_type": "markdown",
   "metadata": {
    "id": "ej4"
   },
   "source": [
    "### Ejercicio 4\n",
    "Crea una matriz de identidad de tamaño 7x7 y reemplaza la diagonal principal por números aleatorios enteros entre 1 y 10."
   ]
  },
  {
   "cell_type": "code",
   "execution_count": 26,
   "metadata": {
    "id": "cod4"
   },
   "outputs": [
    {
     "name": "stdout",
     "output_type": "stream",
     "text": [
      "[[7 0 0 0 0 0 0]\n",
      " [0 7 0 0 0 0 0]\n",
      " [0 0 7 0 0 0 0]\n",
      " [0 0 0 7 0 0 0]\n",
      " [0 0 0 0 7 0 0]\n",
      " [0 0 0 0 0 7 0]\n",
      " [0 0 0 0 0 0 7]]\n"
     ]
    }
   ],
   "source": [
    "matriz7x7 = np.identity(7, dtype=int)\n",
    "np.fill_diagonal(matriz7x7, np.random.randint(1,10))\n",
    "print(matriz7x7)"
   ]
  },
  {
   "cell_type": "markdown",
   "metadata": {
    "id": "ej5"
   },
   "source": [
    "### Ejercicio 5\n",
    "Genera dos matrices 3x3 de valores aleatorios enteros entre 0 y 10 y calcula su suma, resta, multiplicación elemento a elemento y producto matricial."
   ]
  },
  {
   "cell_type": "code",
   "execution_count": 35,
   "metadata": {
    "id": "cod5"
   },
   "outputs": [
    {
     "name": "stdout",
     "output_type": "stream",
     "text": [
      "Matriz 1:\n",
      "[[8 5 2]\n",
      " [7 2 9]\n",
      " [4 3 3]] \n",
      "\n",
      "Matriz 2:\n",
      "[[7 7 7]\n",
      " [2 4 2]\n",
      " [9 1 0]] \n",
      "\n",
      "Suma:\n",
      "[[15 12  9]\n",
      " [ 9  6 11]\n",
      " [13  4  3]] \n",
      "\n",
      "Resta:\n",
      "[[ 1 -2 -5]\n",
      " [ 5 -2  7]\n",
      " [-5  2  3]] \n",
      "\n",
      "Multiplicación elemento a elemento:\n",
      "[[56 35 14]\n",
      " [14  8 18]\n",
      " [36  3  0]] \n",
      "\n",
      "Producto matricial:\n",
      "[[ 84  78  66]\n",
      " [134  66  53]\n",
      " [ 61  43  34]]\n"
     ]
    }
   ],
   "source": [
    "matriz3x3_1 = np.random.randint(0,10,(3,3))\n",
    "matriz3x3_2 = np.random.randint(0,10,(3,3))\n",
    "print(\"Matriz 1:\")\n",
    "print(matriz3x3_1, \"\\n\")\n",
    "print(\"Matriz 2:\")\n",
    "print(matriz3x3_2, \"\\n\")\n",
    "print(\"Suma:\")\n",
    "print(matriz3x3_1 + matriz3x3_2, \"\\n\")\n",
    "print(\"Resta:\")\n",
    "print(matriz3x3_1 - matriz3x3_2, \"\\n\")\n",
    "print(\"Multiplicación elemento a elemento:\")\n",
    "print(matriz3x3_1 * matriz3x3_2, \"\\n\")\n",
    "print(\"Producto matricial:\")\n",
    "print(matriz3x3_1 @ matriz3x3_2)"
   ]
  },
  {
   "cell_type": "markdown",
   "metadata": {
    "id": "ej6"
   },
   "source": [
    "### Ejercicio 6\n",
    "Crea un array de 10 elementos aleatorios entre 0 y 1, calcula su media, desviación estándar y normalízalo."
   ]
  },
  {
   "cell_type": "code",
   "execution_count": 19,
   "metadata": {
    "id": "cod6"
   },
   "outputs": [
    {
     "name": "stdout",
     "output_type": "stream",
     "text": [
      "Array 1D:\n",
      "[0.58498682 0.5568261  0.46563135 0.9888914  0.51574127 0.65538307\n",
      " 0.60331052 0.20132234 0.25237401 0.5548025 ] \n",
      "\n",
      "Media: 0.537926937878449\n",
      "Desviación estándar: 0.20612095550430637\n",
      "Array normalizado:\n",
      "[0.48715027 0.45139377 0.33560106 1.         0.39922713 0.5765345\n",
      " 0.51041643 0.         0.06482184 0.44882433]\n"
     ]
    }
   ],
   "source": [
    "array1d = np.random.random(10)\n",
    "print(\"Array 1D:\")\n",
    "print(array1d, \"\\n\")\n",
    "print(f\"Media: {array1d.mean()}\")\n",
    "print(f\"Desviación estándar: {array1d.std()}\")\n",
    "array_normalizado = (array1d - array1d.min()) / (array1d.max() - array1d.min())\n",
    "print(\"Array normalizado:\")\n",
    "print(array_normalizado)"
   ]
  },
  {
   "cell_type": "markdown",
   "metadata": {
    "id": "ej7"
   },
   "source": [
    "### Ejercicio 7\n",
    "Crea una matriz 5x5 con valores enteros aleatorios entre 1 y 100 y encuentra el índice de los elementos mínimo y máximo."
   ]
  },
  {
   "cell_type": "code",
   "execution_count": 24,
   "metadata": {
    "id": "cod7"
   },
   "outputs": [
    {
     "name": "stdout",
     "output_type": "stream",
     "text": [
      "Matriz original:\n",
      "[[78  5 48 92 36]\n",
      " [64 58 66 68 97]\n",
      " [32 72 19 52 47]\n",
      " [84 47 33 58 30]\n",
      " [10 12  5 68 28]] \n",
      "\n",
      "Índice del valor mínimo: 1\n",
      "Índice del valor máximo: 9\n"
     ]
    }
   ],
   "source": [
    "matriz5x5 = np.random.randint(1, 100, (5, 5))\n",
    "print(\"Matriz original:\")\n",
    "print(matriz5x5, \"\\n\")\n",
    "indice_min = matriz5x5.argmin()\n",
    "indice_max = matriz5x5.argmax()\n",
    "print(f\"Índice del valor mínimo: {indice_min}\")\n",
    "print(f\"Índice del valor máximo: {indice_max}\")"
   ]
  },
  {
   "cell_type": "markdown",
   "metadata": {
    "id": "ej8"
   },
   "source": [
    "### Ejercicio 8\n",
    "Crea una matriz 4x4 con valores aleatorios enteros entre 0 y 20, inserta una fila [100,100,100,100] en la segunda posición y luego elimina la última columna."
   ]
  },
  {
   "cell_type": "code",
   "execution_count": null,
   "metadata": {
    "id": "cod8"
   },
   "outputs": [
    {
     "name": "stdout",
     "output_type": "stream",
     "text": [
      "Matriz 4x4:\n",
      "[[19 10 17  7]\n",
      " [16 10  7  2]\n",
      " [13  4 18  5]\n",
      " [18  4 17 16]] \n",
      "\n",
      "[[19 10 17  7]\n",
      " [16 10  7  2]\n",
      " [13  4 18  5]\n",
      " [18  4 17 16]]\n"
     ]
    }
   ],
   "source": [
    "matriz4x4 = np.random.randint(0, 20, (4, 4))\n",
    "print(\"Matriz 4x4:\")\n",
    "print(matriz4x4, \"\\n\")\n",
    "matriz4x4 = np.insert(matriz4x4, 2, [100,100,100,100], axis=0)\n",
    "print(matriz4x4)\n",
    "#TODO delete ulrima columna"
   ]
  },
  {
   "cell_type": "markdown",
   "metadata": {
    "id": "ej9"
   },
   "source": [
    "### Ejercicio 9\n",
    "Genera una matriz 5x5 de valores aleatorios enteros entre 0 y 50 y reemplaza todos los valores mayores que 25 por 25."
   ]
  },
  {
   "cell_type": "code",
   "execution_count": null,
   "metadata": {
    "id": "cod9"
   },
   "outputs": [],
   "source": []
  },
  {
   "cell_type": "markdown",
   "metadata": {
    "id": "ej10"
   },
   "source": [
    "### Ejercicio 10\n",
    "Crea una matriz 3x4 de números aleatorios y ordénala por filas de menor a mayor."
   ]
  },
  {
   "cell_type": "code",
   "execution_count": null,
   "metadata": {
    "id": "cod10"
   },
   "outputs": [],
   "source": []
  }
 ],
 "metadata": {
  "colab": {
   "authorship_tag": "ABX9TyMmdJCjYGtp7wBqRcYMM8yq",
   "collapsed_sections": [],
   "name": "02-Numpy_Practica_Matrices_Soluciones.ipynb",
   "provenance": []
  },
  "kernelspec": {
   "display_name": "Python 3",
   "name": "python3"
  },
  "language_info": {
   "codemirror_mode": {
    "name": "ipython",
    "version": 3
   },
   "file_extension": ".py",
   "mimetype": "text/x-python",
   "name": "python",
   "nbconvert_exporter": "python",
   "pygments_lexer": "ipython3",
   "version": "3.11.1"
  }
 },
 "nbformat": 4,
 "nbformat_minor": 0
}
