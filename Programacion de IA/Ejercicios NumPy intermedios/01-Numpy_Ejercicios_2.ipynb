{
 "cells": [
  {
   "cell_type": "markdown",
   "metadata": {
    "id": "titulo"
   },
   "source": [
    "# Práctica 2 de NumPy - Manipulación de Matrices\n",
    "\n",
    "Practica para seguir trabajando con la librería Numpy.\n",
    "\n",
    "Vas a tener que investigar funciones nuevas por lo que es altamente recomendado que te sumerjas en la documentación oficial de la librería y te vayas familiarizando con todo.\n",
    "\n",
    "Enlace oficial: https://numpy.org/doc/stable/reference/index.html"
   ]
  },
  {
   "cell_type": "markdown",
   "metadata": {
    "id": "ej1"
   },
   "source": [
    "### Ejercicio 1\n",
    "Crea un array 2D de tamaño 5x5 con valores enteros aleatorios entre 0 y 50 y muestra la matriz junto con su forma y tamaño."
   ]
  },
  {
   "cell_type": "code",
   "execution_count": 3,
   "metadata": {
    "id": "cod1"
   },
   "outputs": [
    {
     "name": "stdout",
     "output_type": "stream",
     "text": [
      "[[29  6 44 12 20]\n",
      " [ 5  1 24 14 32]\n",
      " [ 8  9 40 32  2]\n",
      " [41 13  2 42 19]\n",
      " [42 34 21 30 43]] \n",
      "\n",
      "Forma: (5, 5) \n",
      "\n",
      "Tamaño: 25\n"
     ]
    }
   ],
   "source": [
    "import numpy as np\n",
    "\n",
    "array5x5 = np.random.randint(0, 50, (5, 5))\n",
    "print(array5x5, \"\\n\")\n",
    "print(f\"Forma: {array5x5.shape} \\n\")\n",
    "print(f\"Tamaño: {array5x5.size}\")"
   ]
  },
  {
   "cell_type": "markdown",
   "metadata": {
    "id": "ej2"
   },
   "source": [
    "### Ejercicio 2\n",
    "Crea un array 1D de 20 elementos con valores consecutivos de 10 a 29 y luego reorganízalo en una matriz 4x5."
   ]
  },
  {
   "cell_type": "code",
   "execution_count": 4,
   "metadata": {
    "id": "cod2"
   },
   "outputs": [
    {
     "name": "stdout",
     "output_type": "stream",
     "text": [
      "[10 11 12 13 14 15 16 17 18 19 20 21 22 23 24 25 26 27 28 29] \n",
      "\n",
      "[[10 11 12 13 14]\n",
      " [15 16 17 18 19]\n",
      " [20 21 22 23 24]\n",
      " [25 26 27 28 29]]\n"
     ]
    }
   ],
   "source": [
    "array1d = np.arange(10, 30)\n",
    "print(array1d, \"\\n\")\n",
    "array4x5 = array1d.reshape(4,5)\n",
    "print(array4x5)"
   ]
  },
  {
   "cell_type": "markdown",
   "metadata": {
    "id": "ej3"
   },
   "source": [
    "### Ejercicio 3\n",
    "Dada una matriz 6x6 de valores aleatorios entre 0 y 100, extrae todas las filas pares y columnas impares."
   ]
  },
  {
   "cell_type": "code",
   "execution_count": 5,
   "metadata": {
    "id": "cod3"
   },
   "outputs": [
    {
     "name": "stdout",
     "output_type": "stream",
     "text": [
      "[[21 68 37  8 14 54]\n",
      " [15 51 64 20 89  3]\n",
      " [53 23 51 87 22 39]\n",
      " [23 64 49 48  5 49]\n",
      " [10 98 55 92 89 49]\n",
      " [67 53 32 98 12 97]] \n",
      "\n",
      "[[68  8 54]\n",
      " [23 87 39]\n",
      " [98 92 49]]\n"
     ]
    }
   ],
   "source": [
    "matriz6x6 = np.random.randint(0,100,(6,6))\n",
    "print(matriz6x6, \"\\n\")\n",
    "print(matriz6x6[::2,1::2])"
   ]
  },
  {
   "cell_type": "markdown",
   "metadata": {
    "id": "ej4"
   },
   "source": [
    "### Ejercicio 4\n",
    "Crea una matriz de identidad de tamaño 7x7 y reemplaza la diagonal principal por números aleatorios enteros entre 1 y 10."
   ]
  },
  {
   "cell_type": "code",
   "execution_count": 6,
   "metadata": {
    "id": "cod4"
   },
   "outputs": [
    {
     "name": "stdout",
     "output_type": "stream",
     "text": [
      "[[2 0 0 0 0 0 0]\n",
      " [0 2 0 0 0 0 0]\n",
      " [0 0 2 0 0 0 0]\n",
      " [0 0 0 2 0 0 0]\n",
      " [0 0 0 0 2 0 0]\n",
      " [0 0 0 0 0 2 0]\n",
      " [0 0 0 0 0 0 2]]\n"
     ]
    }
   ],
   "source": [
    "matriz7x7 = np.identity(7, dtype=int)\n",
    "np.fill_diagonal(matriz7x7, np.random.randint(1,10))\n",
    "print(matriz7x7)"
   ]
  },
  {
   "cell_type": "markdown",
   "metadata": {
    "id": "ej5"
   },
   "source": [
    "### Ejercicio 5\n",
    "Genera dos matrices 3x3 de valores aleatorios enteros entre 0 y 10 y calcula su suma, resta, multiplicación elemento a elemento y producto matricial."
   ]
  },
  {
   "cell_type": "code",
   "execution_count": 7,
   "metadata": {
    "id": "cod5"
   },
   "outputs": [
    {
     "name": "stdout",
     "output_type": "stream",
     "text": [
      "Matriz 1:\n",
      "[[3 0 8]\n",
      " [0 6 6]\n",
      " [6 5 4]] \n",
      "\n",
      "Matriz 2:\n",
      "[[5 2 4]\n",
      " [3 7 6]\n",
      " [9 2 7]] \n",
      "\n",
      "Suma:\n",
      "[[ 8  2 12]\n",
      " [ 3 13 12]\n",
      " [15  7 11]] \n",
      "\n",
      "Resta:\n",
      "[[-2 -2  4]\n",
      " [-3 -1  0]\n",
      " [-3  3 -3]] \n",
      "\n",
      "Multiplicación elemento a elemento:\n",
      "[[15  0 32]\n",
      " [ 0 42 36]\n",
      " [54 10 28]] \n",
      "\n",
      "Producto matricial:\n",
      "[[87 22 68]\n",
      " [72 54 78]\n",
      " [81 55 82]]\n"
     ]
    }
   ],
   "source": [
    "matriz3x3_1 = np.random.randint(0,10,(3,3))\n",
    "matriz3x3_2 = np.random.randint(0,10,(3,3))\n",
    "print(\"Matriz 1:\")\n",
    "print(matriz3x3_1, \"\\n\")\n",
    "print(\"Matriz 2:\")\n",
    "print(matriz3x3_2, \"\\n\")\n",
    "print(\"Suma:\")\n",
    "print(matriz3x3_1 + matriz3x3_2, \"\\n\")\n",
    "print(\"Resta:\")\n",
    "print(matriz3x3_1 - matriz3x3_2, \"\\n\")\n",
    "print(\"Multiplicación elemento a elemento:\")\n",
    "print(matriz3x3_1 * matriz3x3_2, \"\\n\")\n",
    "print(\"Producto matricial:\")\n",
    "print(matriz3x3_1 @ matriz3x3_2)"
   ]
  },
  {
   "cell_type": "markdown",
   "metadata": {
    "id": "ej6"
   },
   "source": [
    "### Ejercicio 6\n",
    "Crea un array de 10 elementos aleatorios entre 0 y 1, calcula su media, desviación estándar y normalízalo."
   ]
  },
  {
   "cell_type": "code",
   "execution_count": 8,
   "metadata": {
    "id": "cod6"
   },
   "outputs": [
    {
     "name": "stdout",
     "output_type": "stream",
     "text": [
      "Array 1D:\n",
      "[0.84575314 0.28534238 0.16503269 0.35282086 0.48863956 0.40038493\n",
      " 0.52614114 0.59763225 0.22905702 0.00932437] \n",
      "\n",
      "Media: 0.39001283472614146\n",
      "Desviación estándar: 0.22648542373878275\n",
      "Array normalizado:\n",
      "[1.         0.32999584 0.1861585  0.41067035 0.57304962 0.467536\n",
      " 0.61788497 0.70335682 0.26270337 0.        ]\n"
     ]
    }
   ],
   "source": [
    "array1d = np.random.random(10)\n",
    "print(\"Array 1D:\")\n",
    "print(array1d, \"\\n\")\n",
    "print(f\"Media: {array1d.mean()}\")\n",
    "print(f\"Desviación estándar: {array1d.std()}\")\n",
    "array_normalizado = (array1d - array1d.min()) / (array1d.max() - array1d.min())\n",
    "print(\"Array normalizado:\")\n",
    "print(array_normalizado)"
   ]
  },
  {
   "cell_type": "markdown",
   "metadata": {
    "id": "ej7"
   },
   "source": [
    "### Ejercicio 7\n",
    "Crea una matriz 5x5 con valores enteros aleatorios entre 1 y 100 y encuentra el índice de los elementos mínimo y máximo."
   ]
  },
  {
   "cell_type": "code",
   "execution_count": 9,
   "metadata": {
    "id": "cod7"
   },
   "outputs": [
    {
     "name": "stdout",
     "output_type": "stream",
     "text": [
      "Matriz original:\n",
      "[[10 68 72 18 15]\n",
      " [51 99 74 58 79]\n",
      " [35 76 61 53 58]\n",
      " [31 10 83 96 53]\n",
      " [73 69 24 43 63]] \n",
      "\n",
      "Índice del valor mínimo: 0\n",
      "Índice del valor máximo: 6\n"
     ]
    }
   ],
   "source": [
    "matriz5x5 = np.random.randint(1, 100, (5, 5))\n",
    "print(\"Matriz original:\")\n",
    "print(matriz5x5, \"\\n\")\n",
    "indice_min = matriz5x5.argmin()\n",
    "indice_max = matriz5x5.argmax()\n",
    "print(f\"Índice del valor mínimo: {indice_min}\")\n",
    "print(f\"Índice del valor máximo: {indice_max}\")"
   ]
  },
  {
   "cell_type": "markdown",
   "metadata": {
    "id": "ej8"
   },
   "source": [
    "### Ejercicio 8\n",
    "Crea una matriz 4x4 con valores aleatorios enteros entre 0 y 20, inserta una fila [100,100,100,100] en la segunda posición y luego elimina la última columna."
   ]
  },
  {
   "cell_type": "code",
   "execution_count": null,
   "metadata": {
    "id": "cod8"
   },
   "outputs": [
    {
     "name": "stdout",
     "output_type": "stream",
     "text": [
      "Matriz 4x4:\n",
      "[[ 4  9  1  6]\n",
      " [ 5  7  9  1]\n",
      " [ 0  2  2  0]\n",
      " [ 0 13 16 10]] \n",
      "\n",
      "[[  4   9   1   6]\n",
      " [  5   7   9   1]\n",
      " [100 100 100 100]\n",
      " [  0   2   2   0]\n",
      " [  0  13  16  10]] \n",
      "\n",
      "[[  4   9   1]\n",
      " [  5   7   9]\n",
      " [100 100 100]\n",
      " [  0   2   2]\n",
      " [  0  13  16]]\n"
     ]
    }
   ],
   "source": [
    "matriz4x4 = np.random.randint(0, 20, (4, 4))\n",
    "print(\"Matriz 4x4:\")\n",
    "print(matriz4x4, \"\\n\")\n",
    "matriz4x4 = np.insert(matriz4x4, 2, [100,100,100,100], axis=0)\n",
    "print(matriz4x4, \"\\n\")\n",
    "# axis se refiere a la dimensión: 0 para filas, 1 para columnas, al decirle -1 se refiere a que elimine\n",
    "# el último elemento de esa dimensión\n",
    "matriz4x4 = np.delete(matriz4x4, -1, axis=1)\n",
    "print(matriz4x4)"
   ]
  },
  {
   "cell_type": "markdown",
   "metadata": {
    "id": "ej9"
   },
   "source": [
    "### Ejercicio 9\n",
    "Genera una matriz 5x5 de valores aleatorios enteros entre 0 y 50 y reemplaza todos los valores mayores que 25 por 25."
   ]
  },
  {
   "cell_type": "code",
   "execution_count": 32,
   "metadata": {
    "id": "cod9"
   },
   "outputs": [
    {
     "name": "stdout",
     "output_type": "stream",
     "text": [
      "Matriz original:\n",
      "[[ 0 17 27 25 23]\n",
      " [ 3 14 14 42 48]\n",
      " [14 22 14 15  4]\n",
      " [14 47 31 10 36]\n",
      " [34 24 19 12 19]] \n",
      "\n",
      "Matriz reemplazada:\n",
      "[[ 0 17 25 25 23]\n",
      " [ 3 14 14 25 25]\n",
      " [14 22 14 15  4]\n",
      " [14 25 25 10 25]\n",
      " [25 24 19 12 19]]\n"
     ]
    }
   ],
   "source": [
    "matriz5x5 = np.random.randint(0, 50, (5, 5))\n",
    "print(\"Matriz original:\")\n",
    "print(matriz5x5, \"\\n\")\n",
    "matriz5x5[matriz5x5 > 25] = 25\n",
    "print(\"Matriz reemplazada:\")\n",
    "print(matriz5x5)"
   ]
  },
  {
   "cell_type": "markdown",
   "metadata": {
    "id": "ej10"
   },
   "source": [
    "### Ejercicio 10\n",
    "Crea una matriz 3x4 de números aleatorios y ordénala por filas de menor a mayor."
   ]
  },
  {
   "cell_type": "code",
   "execution_count": 36,
   "metadata": {
    "id": "cod10"
   },
   "outputs": [
    {
     "name": "stdout",
     "output_type": "stream",
     "text": [
      "Matriz original:\n",
      "[[ 3 33 46  5]\n",
      " [23 34 33 25]\n",
      " [17  7  5 24]] \n",
      "\n",
      "Matriz ordenada por filas:\n",
      "[[ 3  5 33 46]\n",
      " [23 25 33 34]\n",
      " [ 5  7 17 24]]\n"
     ]
    }
   ],
   "source": [
    "matriz3x4 = np.random.randint(0, 50, (3, 4))\n",
    "print(\"Matriz original:\")\n",
    "print(matriz3x4, \"\\n\")\n",
    "matriz3x4.sort(axis=1)\n",
    "print(\"Matriz ordenada por filas:\")\n",
    "print(matriz3x4)"
   ]
  }
 ],
 "metadata": {
  "colab": {
   "authorship_tag": "ABX9TyMmdJCjYGtp7wBqRcYMM8yq",
   "collapsed_sections": [],
   "name": "02-Numpy_Practica_Matrices_Soluciones.ipynb",
   "provenance": []
  },
  "kernelspec": {
   "display_name": "Python 3",
   "name": "python3"
  },
  "language_info": {
   "codemirror_mode": {
    "name": "ipython",
    "version": 3
   },
   "file_extension": ".py",
   "mimetype": "text/x-python",
   "name": "python",
   "nbconvert_exporter": "python",
   "pygments_lexer": "ipython3",
   "version": "3.11.1"
  }
 },
 "nbformat": 4,
 "nbformat_minor": 0
}
