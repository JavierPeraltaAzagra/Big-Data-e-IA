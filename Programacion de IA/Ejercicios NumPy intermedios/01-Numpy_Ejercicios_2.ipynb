{
 "cells": [
  {
   "cell_type": "markdown",
   "metadata": {
    "id": "titulo"
   },
   "source": [
    "# Práctica 2 de NumPy - Manipulación de Matrices\n",
    "\n",
    "Practica para seguir trabajando con la librería Numpy.\n",
    "\n",
    "Vas a tener que investigar funciones nuevas por lo que es altamente recomendado que te sumerjas en la documentación oficial de la librería y te vayas familiarizando con todo.\n",
    "\n",
    "Enlace oficial: https://numpy.org/doc/stable/reference/index.html"
   ]
  },
  {
   "cell_type": "markdown",
   "metadata": {
    "id": "ej1"
   },
   "source": [
    "### Ejercicio 1\n",
    "Crea un array 2D de tamaño 5x5 con valores enteros aleatorios entre 0 y 50 y muestra la matriz junto con su forma y tamaño."
   ]
  },
  {
   "cell_type": "code",
   "execution_count": 3,
   "metadata": {
    "id": "cod1"
   },
   "outputs": [
    {
     "name": "stdout",
     "output_type": "stream",
     "text": [
      "[[49 15 31 11 44]\n",
      " [31 40 17 18 30]\n",
      " [ 6 22 39 35  1]\n",
      " [45  1 25 36 29]\n",
      " [ 3 44 26 32  0]] \n",
      "\n",
      "Forma: (5, 5) \n",
      "\n",
      "Tamaño: 25\n"
     ]
    }
   ],
   "source": [
    "import numpy as np\n",
    "\n",
    "array5x5 = np.random.randint(0, 50, (5, 5))\n",
    "print(array5x5, \"\\n\")\n",
    "print(f\"Forma: {array5x5.shape} \\n\")\n",
    "print(f\"Tamaño: {array5x5.size}\")"
   ]
  },
  {
   "cell_type": "markdown",
   "metadata": {
    "id": "ej2"
   },
   "source": [
    "### Ejercicio 2\n",
    "Crea un array 1D de 20 elementos con valores consecutivos de 10 a 29 y luego reorganízalo en una matriz 4x5."
   ]
  },
  {
   "cell_type": "code",
   "execution_count": 5,
   "metadata": {
    "id": "cod2"
   },
   "outputs": [
    {
     "name": "stdout",
     "output_type": "stream",
     "text": [
      "[10 11 12 13 14 15 16 17 18 19 20 21 22 23 24 25 26 27 28 29] \n",
      "\n",
      "[[10 11 12 13 14]\n",
      " [15 16 17 18 19]\n",
      " [20 21 22 23 24]\n",
      " [25 26 27 28 29]]\n"
     ]
    }
   ],
   "source": [
    "array1d = np.arange(10, 30)\n",
    "print(array1d, \"\\n\")\n",
    "array4x5 = array1d.reshape(4,5)\n",
    "print(array4x5)"
   ]
  },
  {
   "cell_type": "markdown",
   "metadata": {
    "id": "ej3"
   },
   "source": [
    "### Ejercicio 3\n",
    "Dada una matriz 6x6 de valores aleatorios entre 0 y 100, extrae todas las filas pares y columnas impares."
   ]
  },
  {
   "cell_type": "code",
   "execution_count": 8,
   "metadata": {
    "id": "cod3"
   },
   "outputs": [
    {
     "name": "stdout",
     "output_type": "stream",
     "text": [
      "[[36  0 14 78 69 91]\n",
      " [88 10 24 39 44 68]\n",
      " [ 8 66 95 99 17  7]\n",
      " [96 14 92 12 31 57]\n",
      " [ 4 70 91 61 38 47]\n",
      " [ 9 28 75  2 77 67]] \n",
      "\n",
      "[[ 0 78 91]\n",
      " [66 99  7]\n",
      " [70 61 47]]\n"
     ]
    }
   ],
   "source": [
    "matriz6x6 = np.random.randint(0,100,(6,6))\n",
    "print(matriz6x6, \"\\n\")\n",
    "print(matriz6x6[::2,1::2])"
   ]
  },
  {
   "cell_type": "markdown",
   "metadata": {
    "id": "ej4"
   },
   "source": [
    "### Ejercicio 4\n",
    "Crea una matriz de identidad de tamaño 7x7 y reemplaza la diagonal principal por números aleatorios enteros entre 1 y 10."
   ]
  },
  {
   "cell_type": "code",
   "execution_count": 26,
   "metadata": {
    "id": "cod4"
   },
   "outputs": [
    {
     "name": "stdout",
     "output_type": "stream",
     "text": [
      "[[7 0 0 0 0 0 0]\n",
      " [0 7 0 0 0 0 0]\n",
      " [0 0 7 0 0 0 0]\n",
      " [0 0 0 7 0 0 0]\n",
      " [0 0 0 0 7 0 0]\n",
      " [0 0 0 0 0 7 0]\n",
      " [0 0 0 0 0 0 7]]\n"
     ]
    }
   ],
   "source": [
    "matriz7x7 = np.identity(7, dtype=int)\n",
    "np.fill_diagonal(matriz7x7, np.random.randint(1,10))\n",
    "print(matriz7x7)"
   ]
  },
  {
   "cell_type": "markdown",
   "metadata": {
    "id": "ej5"
   },
   "source": [
    "### Ejercicio 5\n",
    "Genera dos matrices 3x3 de valores aleatorios enteros entre 0 y 10 y calcula su suma, resta, multiplicación elemento a elemento y producto matricial."
   ]
  },
  {
   "cell_type": "code",
   "execution_count": 35,
   "metadata": {
    "id": "cod5"
   },
   "outputs": [
    {
     "name": "stdout",
     "output_type": "stream",
     "text": [
      "Matriz 1:\n",
      "[[8 5 2]\n",
      " [7 2 9]\n",
      " [4 3 3]] \n",
      "\n",
      "Matriz 2:\n",
      "[[7 7 7]\n",
      " [2 4 2]\n",
      " [9 1 0]] \n",
      "\n",
      "Suma:\n",
      "[[15 12  9]\n",
      " [ 9  6 11]\n",
      " [13  4  3]] \n",
      "\n",
      "Resta:\n",
      "[[ 1 -2 -5]\n",
      " [ 5 -2  7]\n",
      " [-5  2  3]] \n",
      "\n",
      "Multiplicación elemento a elemento:\n",
      "[[56 35 14]\n",
      " [14  8 18]\n",
      " [36  3  0]] \n",
      "\n",
      "Producto matricial:\n",
      "[[ 84  78  66]\n",
      " [134  66  53]\n",
      " [ 61  43  34]]\n"
     ]
    }
   ],
   "source": [
    "matriz3x3_1 = np.random.randint(0,10,(3,3))\n",
    "matriz3x3_2 = np.random.randint(0,10,(3,3))\n",
    "print(\"Matriz 1:\")\n",
    "print(matriz3x3_1, \"\\n\")\n",
    "print(\"Matriz 2:\")\n",
    "print(matriz3x3_2, \"\\n\")\n",
    "print(\"Suma:\")\n",
    "print(matriz3x3_1 + matriz3x3_2, \"\\n\")\n",
    "print(\"Resta:\")\n",
    "print(matriz3x3_1 - matriz3x3_2, \"\\n\")\n",
    "print(\"Multiplicación elemento a elemento:\")\n",
    "print(matriz3x3_1 * matriz3x3_2, \"\\n\")\n",
    "print(\"Producto matricial:\")\n",
    "print(matriz3x3_1 @ matriz3x3_2)"
   ]
  },
  {
   "cell_type": "markdown",
   "metadata": {
    "id": "ej6"
   },
   "source": [
    "### Ejercicio 6\n",
    "Crea un array de 10 elementos aleatorios entre 0 y 1, calcula su media, desviación estándar y normalízalo."
   ]
  },
  {
   "cell_type": "code",
   "execution_count": null,
   "metadata": {
    "id": "cod6"
   },
   "outputs": [],
   "source": []
  },
  {
   "cell_type": "markdown",
   "metadata": {
    "id": "ej7"
   },
   "source": [
    "### Ejercicio 7\n",
    "Crea una matriz 5x5 con valores enteros aleatorios entre 1 y 100 y encuentra el índice de los elementos mínimo y máximo."
   ]
  },
  {
   "cell_type": "code",
   "execution_count": null,
   "metadata": {
    "id": "cod7"
   },
   "outputs": [],
   "source": []
  },
  {
   "cell_type": "markdown",
   "metadata": {
    "id": "ej8"
   },
   "source": [
    "### Ejercicio 8\n",
    "Crea una matriz 4x4 con valores aleatorios enteros entre 0 y 20, inserta una fila [100,100,100,100] en la segunda posición y luego elimina la última columna."
   ]
  },
  {
   "cell_type": "code",
   "execution_count": null,
   "metadata": {
    "id": "cod8"
   },
   "outputs": [],
   "source": []
  },
  {
   "cell_type": "markdown",
   "metadata": {
    "id": "ej9"
   },
   "source": [
    "### Ejercicio 9\n",
    "Genera una matriz 5x5 de valores aleatorios enteros entre 0 y 50 y reemplaza todos los valores mayores que 25 por 25."
   ]
  },
  {
   "cell_type": "code",
   "execution_count": null,
   "metadata": {
    "id": "cod9"
   },
   "outputs": [],
   "source": []
  },
  {
   "cell_type": "markdown",
   "metadata": {
    "id": "ej10"
   },
   "source": [
    "### Ejercicio 10\n",
    "Crea una matriz 3x4 de números aleatorios y ordénala por filas de menor a mayor."
   ]
  },
  {
   "cell_type": "code",
   "execution_count": null,
   "metadata": {
    "id": "cod10"
   },
   "outputs": [],
   "source": []
  }
 ],
 "metadata": {
  "colab": {
   "authorship_tag": "ABX9TyMmdJCjYGtp7wBqRcYMM8yq",
   "collapsed_sections": [],
   "name": "02-Numpy_Practica_Matrices_Soluciones.ipynb",
   "provenance": []
  },
  "kernelspec": {
   "display_name": "Python 3",
   "name": "python3"
  },
  "language_info": {
   "codemirror_mode": {
    "name": "ipython",
    "version": 3
   },
   "file_extension": ".py",
   "mimetype": "text/x-python",
   "name": "python",
   "nbconvert_exporter": "python",
   "pygments_lexer": "ipython3",
   "version": "3.11.1"
  }
 },
 "nbformat": 4,
 "nbformat_minor": 0
}
