{
  "nbformat": 4,
  "nbformat_minor": 0,
  "metadata": {
    "colab": {
      "provenance": []
    },
    "kernelspec": {
      "name": "python3",
      "display_name": "Python 3"
    },
    "language_info": {
      "name": "python"
    }
  },
  "cells": [
    {
      "cell_type": "markdown",
      "source": [
        "#Tipos de títulos:\n",
        "# Título 1\n",
        "## Título 2\n",
        "### Título 3\n",
        "#### Título 4\n",
        "\n",
        "*Texto en cursiva*\n",
        "\n",
        "**Texto en negrita**\n",
        "\n",
        "~~texto tachado~~\n",
        "\n",
        "---\n",
        "#Lista no ordenada:\n",
        "- Elemento 1\n",
        "- Elemento 2\n",
        "  - Subelemento 1\n",
        "---\n",
        "#Lista ordenada:\n",
        "1. Primer elemento\n",
        "2. Segundo elemento\n",
        "3. Tercer elemento\n",
        "---\n",
        "#Enlaces e imágenes:\n",
        "- Enlace:\n",
        "[Google](https://google.com)\n",
        "- Imagen:\n",
        "![Texto alternativo de la imagen de prueba](https://img.freepik.com/foto-gratis/ejemplo-3d-pluma-que-pone-garrapatas-azules-papel_107791-15675.jpg)\n",
        "---\n",
        "#Código:\n",
        "##Código en línea\n",
        "Usa la función `print()`\n",
        "\n",
        "##Bloques de código\n",
        "```python\n",
        "def suma(a, b):\n",
        "    return a + b\n",
        "```\n",
        "---\n",
        "#Citas y notas:\n",
        ">Esto es una cita destacada.\n",
        "---\n",
        "#Tablas:\n",
        "| Columna 1 | Columna 2 |\n",
        "|-----------|-----------|\n",
        "| Dato 1    | Dato 2    |\n",
        "| Dato 3    | Dato 4    |\n",
        "---\n",
        "#Ecuaciones matemáticas (LaTeX)\n",
        "##En línea\n",
        "La fórmula de la recta es $y = mx + b$\n",
        "##En bloque\n",
        "$$\n",
        "E = mc^2\n",
        "$$\n",
        "---\n",
        "#Listas de verificación\n",
        "- [X] Tarea completada\n",
        "- [ ] Tarea pendiente\n",
        "- [ ] Otra tarea pendiente\n",
        "---\n",
        "#Saltos de línea forzados\n",
        "Si quieres un salto de línea explícito introduce dos espacios al final de la línea.\n",
        "Primera línea  \n",
        "Segunda línea\n",
        "---\n",
        "#Encapsular HTML\n",
        "Se puede usar HTML embebido:  \n",
        "<b>Texto en negrita con HTML</b><br>\n",
        "<font color=\"red\">Texto en rojo</font>\n",
        "---\n",
        "#Emojis\n",
        "Utiliza : y después escribe el nombre del emoji.  \n",
        "😀\n",
        "---"
      ],
      "metadata": {
        "id": "zbZdn91iTZBa"
      }
    },
    {
      "cell_type": "code",
      "source": [],
      "metadata": {
        "id": "3cTWWR4hhisB"
      },
      "execution_count": null,
      "outputs": []
    }
  ]
}