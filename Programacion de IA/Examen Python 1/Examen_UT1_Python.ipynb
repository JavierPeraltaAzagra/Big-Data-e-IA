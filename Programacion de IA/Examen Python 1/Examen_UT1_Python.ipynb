{
 "cells": [
  {
   "cell_type": "markdown",
   "id": "5a6a0993",
   "metadata": {},
   "source": [
    "**Ejercicio 1**\n",
    "\n",
    "Pide al usuario un texto de entrada. Comprueba su longitud e indica si es mayor o menor de 20 caracteres. En caso de contar con 20 caracteres muestra el mensaje 'PERFECT!'."
   ]
  },
  {
   "cell_type": "code",
   "execution_count": 4,
   "id": "22a4fe22",
   "metadata": {},
   "outputs": [
    {
     "name": "stdout",
     "output_type": "stream",
     "text": [
      "PERFECT!\n"
     ]
    }
   ],
   "source": [
    "texto = input(\"Escribe un texto: \")\n",
    "longitud = len(texto)\n",
    "if longitud > 20:\n",
    "    print(\"El texto tiene más de 20 caracteres.\")\n",
    "elif longitud < 20:\n",
    "    print(\"El texto tiene menos de 20 caracteres.\")\n",
    "else:\n",
    "    print(\"PERFECT!\")"
   ]
  },
  {
   "cell_type": "markdown",
   "id": "f95e77a3",
   "metadata": {},
   "source": [
    "**Ejercicio 2**\n",
    "\n",
    "Pide al usuario un número de entrada. Primero comprueba que sea un número, en caso de ser un texto muestra el mensaje 'Esto no es un número'. Si es un número, comprueba si es mayor o menor que 10 e indícalo por pantalla."
   ]
  },
  {
   "cell_type": "code",
   "execution_count": null,
   "id": "cd4642d8",
   "metadata": {},
   "outputs": [
    {
     "name": "stdout",
     "output_type": "stream",
     "text": [
      "10 es igual a 10\n"
     ]
    }
   ],
   "source": [
    "num = input(\"Introduce un número: \")\n",
    "if not num.isdigit():\n",
    "    print(\"Esto no es un número.\")\n",
    "else:\n",
    "    num = int(num)\n",
    "    if num < 10:\n",
    "        print(f\"{num} es menor que 10\")\n",
    "    elif num > 10:\n",
    "        print(f\"{num} es mayor que 10\")\n",
    "    else:\n",
    "        print(f\"{num} es igual a 10\")"
   ]
  },
  {
   "cell_type": "markdown",
   "id": "7682cc56",
   "metadata": {},
   "source": [
    "**Ejercicio 3**\n",
    "\n",
    "Pide al usuario que introduzca números hasta que introduzca un 0. En caso de que la suma de los números introducidos supere el valor 100 sal del bucle de manera forzada."
   ]
  },
  {
   "cell_type": "code",
   "execution_count": 7,
   "id": "a6f03f84",
   "metadata": {},
   "outputs": [
    {
     "name": "stdout",
     "output_type": "stream",
     "text": [
      "Esto no es un número.\n",
      "Suma de números mayor que 100\n"
     ]
    }
   ],
   "source": [
    "num = 1\n",
    "suma = 0\n",
    "while num != 0:\n",
    "    num = input(\"Introduce un número: \")\n",
    "    if not num.isdigit():\n",
    "        print(\"Esto no es un número.\")\n",
    "    else:\n",
    "        num = int(num)\n",
    "        suma += num\n",
    "        if suma > 100:\n",
    "            print(\"Suma de números mayor que 100\")\n",
    "            break"
   ]
  },
  {
   "cell_type": "markdown",
   "id": "d6e67af6",
   "metadata": {},
   "source": [
    "**Ejercicio 4**\n",
    "\n",
    "Pide al usuario que introduzca números cada vez mayores en cada iteración. Si introduce un número igual o menor que el anterior termina el bucle. Además, el usuario siempre tendrá la opción de forzar el final del bucle mediante el valor 0. En caso de haber terminado el bucle correctamente (sin ser forzado), muestra el mensaje 'END'."
   ]
  },
  {
   "cell_type": "code",
   "execution_count": 12,
   "id": "e454becb",
   "metadata": {},
   "outputs": [
    {
     "name": "stdout",
     "output_type": "stream",
     "text": [
      "Forzado final del bucle\n"
     ]
    }
   ],
   "source": [
    "num = 0\n",
    "numAnterior = -1\n",
    "while not num <= numAnterior:\n",
    "    numAnterior = num\n",
    "    num = int(input(\"Introduce un número: \"))\n",
    "    if num == 0:\n",
    "        print(\"Forzado final del bucle\")\n",
    "        break\n",
    "if num != 0:\n",
    "    print(\"END\")"
   ]
  },
  {
   "cell_type": "markdown",
   "id": "ade5db1e",
   "metadata": {},
   "source": [
    "**Ejercicio 5**\n",
    "\n",
    "Muestra por pantalla la siguiente estructura numérica:\n",
    "- 5\n",
    "- 54\n",
    "- 5432\n",
    "- 54321"
   ]
  },
  {
   "cell_type": "code",
   "execution_count": 28,
   "id": "7f1ed4ab",
   "metadata": {},
   "outputs": [
    {
     "name": "stdout",
     "output_type": "stream",
     "text": [
      "5\n",
      "54\n",
      "5432\n",
      "54321\n"
     ]
    }
   ],
   "source": [
    "texto = \"\"\n",
    "for num in range(5, 0, -1):\n",
    "    if num == 3:\n",
    "        texto += str(num)\n",
    "    else:\n",
    "        texto += str(num)\n",
    "        print(texto)"
   ]
  },
  {
   "cell_type": "markdown",
   "id": "a8208800",
   "metadata": {},
   "source": [
    "**Ejercicio 6**\n",
    "\n",
    "Recorre todos los elementos del diccionario 'cars' y muestra aquellos que su clave empiece por la letra 'S' o que el coche empiece por la letra 'M'. El bucle termina de manera forzada si encuentra algún coche que empiece por la letra 'C':\n",
    "\n",
    "cars = {\n",
    "    'Ford': 'Fiesta',\n",
    "    'BMW': 'M3',\n",
    "    'Seat': 'Ibiza',\n",
    "    'Citroen': 'C3',\n",
    "    'Nissan': 'Micra' }"
   ]
  },
  {
   "cell_type": "code",
   "execution_count": 29,
   "id": "30eeb6d2",
   "metadata": {},
   "outputs": [
    {
     "name": "stdout",
     "output_type": "stream",
     "text": [
      "BMW: M3\n",
      "Seat: Ibiza\n"
     ]
    }
   ],
   "source": [
    "cars = {\n",
    "    'Ford': 'Fiesta',\n",
    "    'BMW': 'M3',\n",
    "    'Seat': 'Ibiza',\n",
    "    'Citroen': 'C3',\n",
    "    'Nissan': 'Micra' }\n",
    "for key, value in cars.items():\n",
    "    if value.startswith(\"C\"):\n",
    "        break\n",
    "    if key.startswith(\"S\") or value.startswith(\"M\"):\n",
    "        print(f\"{key}: {value}\")"
   ]
  },
  {
   "cell_type": "markdown",
   "id": "c45ef36b",
   "metadata": {},
   "source": [
    "**Ejercicio 7**\n",
    "\n",
    "Define una función que acepte dos parámetros numéricos pero que cada uno de ellos tenga un valor predefinido en caso de no ser recibido. Dicha función devolverá la suma de los dos parámetros recibidos."
   ]
  },
  {
   "cell_type": "code",
   "execution_count": 33,
   "id": "9754e74d",
   "metadata": {},
   "outputs": [
    {
     "name": "stdout",
     "output_type": "stream",
     "text": [
      "Llamada a la función sin pasarle parámetros\n",
      "15\n",
      "Llamada a la función pasándole parámetros\n",
      "6\n"
     ]
    }
   ],
   "source": [
    "def suma(num1 = 5, num2 = 10):\n",
    "    return num1 + num2\n",
    "print(\"Llamada a la función sin pasarle parámetros\")\n",
    "print(suma())\n",
    "print(\"Llamada a la función pasándole parámetros\")\n",
    "print(suma(2, 4))"
   ]
  },
  {
   "cell_type": "markdown",
   "id": "5d38544d",
   "metadata": {},
   "source": [
    "**Ejercicio 8**\n",
    "\n",
    "Pide al usuario que introduzca números y muéstralos por pantalla hasta que introduzca un 0."
   ]
  },
  {
   "cell_type": "code",
   "execution_count": 35,
   "id": "300f4092",
   "metadata": {},
   "outputs": [
    {
     "name": "stdout",
     "output_type": "stream",
     "text": [
      "2\n",
      "5\n",
      "6\n",
      "8\n",
      "1\n",
      "-2\n",
      "0\n"
     ]
    }
   ],
   "source": [
    "num = 1\n",
    "while num != 0:\n",
    "    num = int(input(\"Introduce un número: \"))\n",
    "    print(num)"
   ]
  },
  {
   "cell_type": "markdown",
   "id": "fad894c0",
   "metadata": {},
   "source": [
    "**Ejercicio 9**\n",
    "\n",
    "Pide al usuario que introduzca nombres de personas hasta que escriba “FIN”.\n",
    "A continuación, muestra por pantalla:\n",
    "- Cuántos nombres ha introducido.\n",
    "- El nombre más largo.\n",
    "- El primer y último nombre introducido (sin contar “FIN”)."
   ]
  },
  {
   "cell_type": "code",
   "execution_count": 36,
   "id": "5838d26e",
   "metadata": {},
   "outputs": [
    {
     "name": "stdout",
     "output_type": "stream",
     "text": [
      "Número de nombres introducidos: 4\n",
      "Nombre más largo: Alberto\n",
      "Primer nombre introducido: Juan\n",
      "Último nombre introducido: Pedro\n"
     ]
    }
   ],
   "source": [
    "cont_nombres = 0\n",
    "nombre_mas_largo = \"\"\n",
    "primer_nombre = \"\"\n",
    "ultimo_nombre = \"\"\n",
    "texto = \"\"\n",
    "while texto != \"FIN\":\n",
    "    texto = input(\"Introduce un nombre: \")\n",
    "    if texto != \"FIN\":\n",
    "        if primer_nombre == \"\":\n",
    "            primer_nombre = texto\n",
    "        cont_nombres += 1\n",
    "        ultimo_nombre = texto\n",
    "        if len(texto) > len(nombre_mas_largo):\n",
    "            nombre_mas_largo = texto\n",
    "print(f\"Número de nombres introducidos: {cont_nombres}\")\n",
    "print(f\"Nombre más largo: {nombre_mas_largo}\")\n",
    "print(f\"Primer nombre introducido: {primer_nombre}\")\n",
    "print(f\"Último nombre introducido: {ultimo_nombre}\")"
   ]
  },
  {
   "cell_type": "markdown",
   "id": "b27eaf08",
   "metadata": {},
   "source": [
    "**Ejercicio 10**\n",
    "\n",
    "Crea un programa que pida al usuario una serie de números enteros (hasta introducir un 0) y los guarde en una lista.\n",
    "Una vez terminado, el programa debe mostrar:\n",
    "- El número mayor y el menor.\n",
    "- La media de los números introducidos.\n",
    "- Cuántos números son pares."
   ]
  },
  {
   "cell_type": "code",
   "execution_count": 5,
   "id": "cbc1e0bc",
   "metadata": {},
   "outputs": [
    {
     "name": "stdout",
     "output_type": "stream",
     "text": [
      "[2, 9, 5, 1]\n",
      "Número mayor: 9\n",
      "Número menor: 1\n",
      "Media: 4.25\n",
      "Número de números pares: 1\n"
     ]
    }
   ],
   "source": [
    "num = 1\n",
    "suma = 0\n",
    "lista_nums = []\n",
    "num_mayor = 0\n",
    "num_menor = 0\n",
    "media = 0\n",
    "cont_num_pares = 0\n",
    "while num != 0:\n",
    "    num = input(\"Introduce un número: \")\n",
    "    if not num.isdigit():\n",
    "        print(\"No has introducido un número.\")\n",
    "    else:\n",
    "        num = int(num)\n",
    "        if num != 0:\n",
    "            lista_nums.append(num)\n",
    "for numero in lista_nums:\n",
    "    if numero > num_mayor:\n",
    "        num_mayor = numero\n",
    "    elif numero < num_menor:\n",
    "        num_menor = numero\n",
    "    if num_menor == 0:\n",
    "        num_menor = numero\n",
    "    suma += numero\n",
    "    if numero % 2 == 0:\n",
    "        cont_num_pares += 1\n",
    "media = suma / len(lista_nums)\n",
    "print(lista_nums)\n",
    "print(f\"Número mayor: {num_mayor}\")\n",
    "print(f\"Número menor: {num_menor}\")\n",
    "print(f\"Media: {media}\")\n",
    "print(f\"Número de números pares: {cont_num_pares}\")"
   ]
  }
 ],
 "metadata": {
  "kernelspec": {
   "display_name": "Python 3",
   "language": "python",
   "name": "python3"
  },
  "language_info": {
   "codemirror_mode": {
    "name": "ipython",
    "version": 3
   },
   "file_extension": ".py",
   "mimetype": "text/x-python",
   "name": "python",
   "nbconvert_exporter": "python",
   "pygments_lexer": "ipython3",
   "version": "3.11.1"
  }
 },
 "nbformat": 4,
 "nbformat_minor": 5
}
