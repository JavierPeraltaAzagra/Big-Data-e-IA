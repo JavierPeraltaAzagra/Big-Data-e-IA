{
 "cells": [
  {
   "cell_type": "markdown",
   "metadata": {
    "id": "LXgzv1V5lPXi"
   },
   "source": [
    "# Ejercicios NumPy"
   ]
  },
  {
   "cell_type": "markdown",
   "metadata": {
    "id": "dA5cYe7AlShE"
   },
   "source": [
    "Tras hacer tus propias pruebas con la teoría de NumPy, completa los siguientes ejercicios en orden"
   ]
  },
  {
   "cell_type": "markdown",
   "metadata": {
    "id": "ADfp2pApl4BF"
   },
   "source": [
    "---\n",
    "## Ejercicio 1"
   ]
  },
  {
   "cell_type": "markdown",
   "metadata": {
    "id": "KXZZO1zol8Qo"
   },
   "source": [
    "Antes de empezar a trabajar de verdad, tendrás que importar la librería de NumPy para poder trabajar con ella:"
   ]
  },
  {
   "cell_type": "code",
   "execution_count": 2,
   "metadata": {
    "id": "KZOgslZVl9OD"
   },
   "outputs": [],
   "source": [
    "import numpy as np"
   ]
  },
  {
   "cell_type": "markdown",
   "metadata": {
    "id": "4VkL00bgl9ge"
   },
   "source": [
    "---\n",
    "## Ejercicio 2"
   ]
  },
  {
   "cell_type": "markdown",
   "metadata": {
    "id": "BoZhx3JLl-Si"
   },
   "source": [
    "Crea un array de **una dimensión** con los 10 valores que tu quieras y muéstralo por pantalla:"
   ]
  },
  {
   "cell_type": "code",
   "execution_count": 3,
   "metadata": {
    "id": "Dy7Unk9Wl-qx"
   },
   "outputs": [
    {
     "name": "stdout",
     "output_type": "stream",
     "text": [
      "[ 1  2  3  4  5  6  7  8  9 10]\n"
     ]
    }
   ],
   "source": [
    "array1d = np.array([1,2,3,4,5,6,7,8,9,10])\n",
    "print(array1d)"
   ]
  },
  {
   "cell_type": "markdown",
   "metadata": {
    "id": "6677oBi5l--F"
   },
   "source": [
    "---\n",
    "## Ejercicio 3"
   ]
  },
  {
   "cell_type": "markdown",
   "metadata": {
    "id": "41JYosl8l_wm"
   },
   "source": [
    "Crea un array de distinto nombre al anterior de **dos dimensiones** con los 3x3 valores que tu quieras y muéstrala por pantalla:"
   ]
  },
  {
   "cell_type": "code",
   "execution_count": 4,
   "metadata": {
    "id": "5mlfPZf6mABE"
   },
   "outputs": [
    {
     "name": "stdout",
     "output_type": "stream",
     "text": [
      "[[1 2 3]\n",
      " [4 5 6]\n",
      " [7 8 9]]\n"
     ]
    }
   ],
   "source": [
    "array2d = np.array([[1,2,3],[4,5,6],[7,8,9]])\n",
    "print(array2d)"
   ]
  },
  {
   "cell_type": "markdown",
   "metadata": {
    "id": "eVg9kk42mAX_"
   },
   "source": [
    "---\n",
    "## Ejercicio 4"
   ]
  },
  {
   "cell_type": "markdown",
   "metadata": {
    "id": "pedf75MGmA-I"
   },
   "source": [
    "Crea un array de distinto nombre a los anteriores de **tres dimensiones** con los 2x2x2 valores que tu quieras y muéstrala por pantalla:"
   ]
  },
  {
   "cell_type": "code",
   "execution_count": 5,
   "metadata": {
    "id": "N6u9E6i3mBLv"
   },
   "outputs": [
    {
     "name": "stdout",
     "output_type": "stream",
     "text": [
      "[[[1 2]\n",
      "  [3 4]]\n",
      "\n",
      " [[5 6]\n",
      "  [7 8]]]\n"
     ]
    }
   ],
   "source": [
    "array3d = np.array([[[1,2],[3,4]],[[5,6],[7,8]]])\n",
    "print(array3d)"
   ]
  },
  {
   "cell_type": "markdown",
   "metadata": {
    "id": "NK3e4TpmmBfN"
   },
   "source": [
    "---\n",
    "## Ejercicio 5"
   ]
  },
  {
   "cell_type": "markdown",
   "metadata": {
    "id": "YNcdlYDjmCBY"
   },
   "source": [
    "Muestra las dimensiones, el tamaño y la forma que tienen las tres matrices creadas anteriormente:"
   ]
  },
  {
   "cell_type": "code",
   "execution_count": 6,
   "metadata": {
    "id": "kB77aVDhmCN2"
   },
   "outputs": [
    {
     "name": "stdout",
     "output_type": "stream",
     "text": [
      "Dimensiones\n",
      "Array 1D: 1\n",
      "Array 2D: 2\n",
      "Array 3D: 3\n",
      "Tamaños\n",
      "Array 1D: 10\n",
      "Array 2D: 9\n",
      "Array 3D: 8\n",
      "Formas\n",
      "Array 1D: (10,)\n",
      "Array 2D: (3, 3)\n",
      "Array 3D: (2, 2, 2)\n"
     ]
    }
   ],
   "source": [
    "print(\"Dimensiones\")\n",
    "print(\"Array 1D:\", array1d.ndim)\n",
    "print(\"Array 2D:\", array2d.ndim)\n",
    "print(\"Array 3D:\", array3d.ndim)\n",
    "print(\"Tamaños\")\n",
    "print(\"Array 1D:\", array1d.size)\n",
    "print(\"Array 2D:\", array2d.size)\n",
    "print(\"Array 3D:\", array3d.size)\n",
    "print(\"Formas\")\n",
    "print(\"Array 1D:\", array1d.shape)\n",
    "print(\"Array 2D:\", array2d.shape)\n",
    "print(\"Array 3D:\", array3d.shape)"
   ]
  },
  {
   "cell_type": "markdown",
   "metadata": {
    "id": "dWM-6b0lnBbZ"
   },
   "source": [
    "---\n",
    "## Ejercicio 6"
   ]
  },
  {
   "cell_type": "markdown",
   "metadata": {
    "id": "oowvRvyrnCMy"
   },
   "source": [
    "Crea un array de una dimensión de tipo int8. En una de las posiciones pon el valor 1000. ¿Qué ocurre y porqué?"
   ]
  },
  {
   "cell_type": "code",
   "execution_count": 21,
   "metadata": {
    "id": "8l_eEmAvnCcL"
   },
   "outputs": [
    {
     "ename": "OverflowError",
     "evalue": "Python integer 1000 out of bounds for int8",
     "output_type": "error",
     "traceback": [
      "\u001b[31m---------------------------------------------------------------------------\u001b[39m",
      "\u001b[31mOverflowError\u001b[39m                             Traceback (most recent call last)",
      "\u001b[36mCell\u001b[39m\u001b[36m \u001b[39m\u001b[32mIn[21]\u001b[39m\u001b[32m, line 1\u001b[39m\n\u001b[32m----> \u001b[39m\u001b[32m1\u001b[39m arrayInt8 = \u001b[43mnp\u001b[49m\u001b[43m.\u001b[49m\u001b[43marray\u001b[49m\u001b[43m(\u001b[49m\u001b[43m[\u001b[49m\u001b[32;43m1\u001b[39;49m\u001b[43m,\u001b[49m\u001b[32;43m2\u001b[39;49m\u001b[43m,\u001b[49m\u001b[32;43m3\u001b[39;49m\u001b[43m,\u001b[49m\u001b[32;43m4\u001b[39;49m\u001b[43m,\u001b[49m\u001b[32;43m1000\u001b[39;49m\u001b[43m]\u001b[49m\u001b[43m,\u001b[49m\u001b[43m \u001b[49m\u001b[43mdtype\u001b[49m\u001b[43m=\u001b[49m\u001b[43mnp\u001b[49m\u001b[43m.\u001b[49m\u001b[43mint8\u001b[49m\u001b[43m)\u001b[49m\n\u001b[32m      2\u001b[39m \u001b[38;5;28mprint\u001b[39m(arrayInt8)\n\u001b[32m      3\u001b[39m \u001b[38;5;66;03m# Da error al crear el array porque 1000 excede el rango de int8 (-128 a 127)\u001b[39;00m\n\u001b[32m      4\u001b[39m \u001b[38;5;66;03m# int8 son 8 bits, 2^8 = 256 valores posibles, desde -128 hasta 127\u001b[39;00m\n",
      "\u001b[31mOverflowError\u001b[39m: Python integer 1000 out of bounds for int8"
     ]
    }
   ],
   "source": [
    "arrayInt8 = np.array([1,2,3,4,1000], dtype=np.int8)\n",
    "print(arrayInt8)\n",
    "# Da error al crear el array porque 1000 excede el rango de int8 (-128 a 127)\n",
    "# int8 son 8 bits, 2^8 = 256 valores posibles, desde -128 hasta 127"
   ]
  },
  {
   "cell_type": "markdown",
   "metadata": {
    "id": "qV3M-sd0nC26"
   },
   "source": [
    "---\n",
    "## Ejercicio 7"
   ]
  },
  {
   "cell_type": "markdown",
   "metadata": {
    "id": "yYZC-dFOnDmZ"
   },
   "source": [
    "Crea un array de dos dimensiones de tipo float128 y luego muestra su tipo por pantalla:"
   ]
  },
  {
   "cell_type": "code",
   "execution_count": null,
   "metadata": {
    "id": "LkAGxyuFnDwh"
   },
   "outputs": [
    {
     "name": "stdout",
     "output_type": "stream",
     "text": [
      "float64\n"
     ]
    }
   ],
   "source": [
    "# Lo pongo en float64 porque float128 no existe en numpy\n",
    "array2dFloat = np.array([[1.5,2.3,3.1],[4.7,5.6,6.4],[7.8,8.9,9.0]], dtype=np.float64)\n",
    "print(array2dFloat.dtype)"
   ]
  },
  {
   "cell_type": "markdown",
   "metadata": {
    "id": "OZ3XX41HnEO1"
   },
   "source": [
    "---\n",
    "## Ejercicio 8"
   ]
  },
  {
   "cell_type": "markdown",
   "metadata": {
    "id": "3qBso9AbnE-9"
   },
   "source": [
    "Crea un array con todos los múltiplos de 5 en una sola instrucción y muéstralo por pantalla:"
   ]
  },
  {
   "cell_type": "code",
   "execution_count": null,
   "metadata": {
    "id": "NpShB_oUnFKN"
   },
   "outputs": [
    {
     "name": "stdout",
     "output_type": "stream",
     "text": [
      "[  5  10  15  20  25  30  35  40  45  50  55  60  65  70  75  80  85  90\n",
      "  95 100]\n"
     ]
    }
   ],
   "source": [
    "# Pongo hasta el 100 porque hay infinitos múltiplos de 5\n",
    "multiplos5 = np.arange(5, 101, 5)\n",
    "print(multiplos5)"
   ]
  },
  {
   "cell_type": "markdown",
   "metadata": {
    "id": "Z2Ymsre1nFp-"
   },
   "source": [
    "---\n",
    "## Ejercicio 9"
   ]
  },
  {
   "cell_type": "markdown",
   "metadata": {
    "id": "R2LvvpIUnGXJ"
   },
   "source": [
    "Crea un array con 20 valores entre los números 1 y 2. Estos valores deben estar distribuídos de manera equitativa:"
   ]
  },
  {
   "cell_type": "code",
   "execution_count": 25,
   "metadata": {
    "id": "ft9_dnY1nGhd"
   },
   "outputs": [
    {
     "name": "stdout",
     "output_type": "stream",
     "text": [
      "[1.         1.05263158 1.10526316 1.15789474 1.21052632 1.26315789\n",
      " 1.31578947 1.36842105 1.42105263 1.47368421 1.52631579 1.57894737\n",
      " 1.63157895 1.68421053 1.73684211 1.78947368 1.84210526 1.89473684\n",
      " 1.94736842 2.        ]\n"
     ]
    }
   ],
   "source": [
    "arrayEntre1y2 = np.linspace(1, 2, 20)\n",
    "print(arrayEntre1y2)"
   ]
  },
  {
   "cell_type": "markdown",
   "metadata": {
    "id": "V_2YvVrUnGzO"
   },
   "source": [
    "---\n",
    "## Ejercicio 10"
   ]
  },
  {
   "cell_type": "markdown",
   "metadata": {
    "id": "veIUhoHdnHkC"
   },
   "source": [
    "Crea una matriz de forma 2x3 y muéstrala por pantalla. A continuación cambia su forma a una matriz 3x2"
   ]
  },
  {
   "cell_type": "code",
   "execution_count": 26,
   "metadata": {
    "id": "4xmNj-genHwf"
   },
   "outputs": [
    {
     "name": "stdout",
     "output_type": "stream",
     "text": [
      "[[1 2 3]\n",
      " [4 5 6]] \n",
      "\n",
      "[[1 2]\n",
      " [3 4]\n",
      " [5 6]]\n"
     ]
    }
   ],
   "source": [
    "matrizReshape = np.array([[1,2,3],[4,5,6]])\n",
    "print(matrizReshape, \"\\n\")\n",
    "matrizReshape = matrizReshape.reshape((3, 2))\n",
    "print(matrizReshape)"
   ]
  },
  {
   "cell_type": "markdown",
   "metadata": {
    "id": "0OKve7lDoPMT"
   },
   "source": [
    "---\n",
    "## Ejercicio 11"
   ]
  },
  {
   "cell_type": "markdown",
   "metadata": {
    "id": "O-WK7p6soR8-"
   },
   "source": [
    "Crea una matriz de 3x6 con valores aleatorios. Después muestra por pantalla las siguientes combinaciones:\n",
    "*   La primera fila entera\n",
    "*   La primera columna entera\n",
    "*   Todos los valores entre las columnas 2 y 4\n",
    "*   Todos los valores de las filas 1 y 2\n",
    "*   Todos los valores entre las filas 2 y 3 y las columnas 5 y 6"
   ]
  },
  {
   "cell_type": "code",
   "execution_count": 52,
   "metadata": {
    "id": "A21uA-KdohAT"
   },
   "outputs": [
    {
     "name": "stdout",
     "output_type": "stream",
     "text": [
      "Matriz entera\n",
      "[[75 82 53  8 80 34]\n",
      " [43 89 64 20 20 60]\n",
      " [85 25 50 18 26 48]] \n",
      "\n",
      "Primera fila entera\n",
      "[75 82 53  8 80 34] \n",
      "\n",
      "Primera columna entera\n",
      "[75 43 85] \n",
      "\n",
      "Todos los valores entre las columnas 2 y 4\n",
      "[[82 53  8]\n",
      " [89 64 20]\n",
      " [25 50 18]] \n",
      "\n",
      "Todos los valores de las filas 1 y 2\n",
      "[[75 82 53  8 80 34]\n",
      " [43 89 64 20 20 60]] \n",
      "\n",
      "Todos los valores entre las filas 2 y 3 y las columnas 5 y 6\n",
      "[[20 60]\n",
      " [26 48]]\n"
     ]
    }
   ],
   "source": [
    "matriz3x6 = np.random.randint(100, size=(3, 6))\n",
    "print(\"Matriz entera\")\n",
    "print(matriz3x6, \"\\n\")\n",
    "print(\"Primera fila entera\")\n",
    "print(matriz3x6[0,:], \"\\n\")\n",
    "print(\"Primera columna entera\")\n",
    "print(matriz3x6[:,0], \"\\n\")\n",
    "print(\"Todos los valores entre las columnas 2 y 4\")\n",
    "print(matriz3x6[:,1:4], \"\\n\")\n",
    "print(\"Todos los valores de las filas 1 y 2\")\n",
    "print(matriz3x6[0:2,:], \"\\n\")\n",
    "print(\"Todos los valores entre las filas 2 y 3 y las columnas 5 y 6\")\n",
    "print(matriz3x6[1:3,4:6])"
   ]
  },
  {
   "cell_type": "markdown",
   "metadata": {
    "id": "NcMs8O0xohx0"
   },
   "source": [
    "---\n",
    "## Ejercicio 12"
   ]
  },
  {
   "cell_type": "markdown",
   "metadata": {
    "id": "O2Aabc_Uoiqe"
   },
   "source": [
    "Crea un array de tamaño 1x5. Después añádele 5 elementos nuevos. Por último, elimina los dos primeros valores y muéstralo por pantalla:"
   ]
  },
  {
   "cell_type": "code",
   "execution_count": 54,
   "metadata": {
    "id": "8tSosR39oi2O"
   },
   "outputs": [
    {
     "name": "stdout",
     "output_type": "stream",
     "text": [
      "Array principal\n",
      "[1 2 3 4 5] \n",
      "\n",
      "Array con 5 elementos más\n",
      "[ 1  2  3  4  5  6  7  8  9 10] \n",
      "\n",
      "Array con los 2 primeros valores eliminados\n",
      "[ 3  4  5  6  7  8  9 10]\n"
     ]
    }
   ],
   "source": [
    "array1x5 = np.array([1,2,3,4,5])\n",
    "print(\"Array principal\")\n",
    "print(array1x5, \"\\n\")\n",
    "print(\"Array con 5 elementos más\")\n",
    "array1x5 = np.append(array1x5, [6,7,8,9,10])\n",
    "print(array1x5, \"\\n\")\n",
    "print(\"Array con los 2 primeros valores eliminados\")\n",
    "array1x5 = np.delete(array1x5, [0,1])\n",
    "print(array1x5)"
   ]
  },
  {
   "cell_type": "markdown",
   "metadata": {
    "id": "M9WW962tojUz"
   },
   "source": [
    "---\n",
    "## Ejercicio 13"
   ]
  },
  {
   "cell_type": "markdown",
   "metadata": {
    "id": "kPfnKIW6okVX"
   },
   "source": [
    "Crea dos matrices 3x3, una con valores aleatorios y otra de identidad. Realiza las cuatro operaciones básicas entre ellas (suma, resta, multiplicación y división). Por último, calcula la raíz cuadrada de matriz de identidad."
   ]
  },
  {
   "cell_type": "code",
   "execution_count": 76,
   "metadata": {
    "id": "h5PJEntqoks0"
   },
   "outputs": [
    {
     "name": "stdout",
     "output_type": "stream",
     "text": [
      "Matriz random\n",
      "[[5 0 2]\n",
      " [0 2 2]\n",
      " [5 9 5]] \n",
      "\n",
      "Matriz identidad\n",
      "[[1 0 0]\n",
      " [0 1 0]\n",
      " [0 0 1]] \n",
      "\n",
      "Suma\n",
      "[[6 0 2]\n",
      " [0 3 2]\n",
      " [5 9 6]] \n",
      "\n",
      "Resta\n",
      "[[4 0 2]\n",
      " [0 1 2]\n",
      " [5 9 4]] \n",
      "\n",
      "Multiplicación\n",
      "[[5 0 0]\n",
      " [0 2 0]\n",
      " [0 0 5]] \n",
      "\n",
      "División\n",
      "[[ 5. nan inf]\n",
      " [nan  2. inf]\n",
      " [inf inf  5.]] \n",
      "\n",
      "Raíz cuadrada de matriz de identidad\n",
      "[[1. 0. 0.]\n",
      " [0. 1. 0.]\n",
      " [0. 0. 1.]]\n"
     ]
    },
    {
     "name": "stderr",
     "output_type": "stream",
     "text": [
      "C:\\Users\\jperaltaza\\AppData\\Local\\Temp\\ipykernel_3012\\1812462332.py:15: RuntimeWarning: divide by zero encountered in divide\n",
      "  print(matriz3x3Random / matriz3x3Identidad, \"\\n\")\n",
      "C:\\Users\\jperaltaza\\AppData\\Local\\Temp\\ipykernel_3012\\1812462332.py:15: RuntimeWarning: invalid value encountered in divide\n",
      "  print(matriz3x3Random / matriz3x3Identidad, \"\\n\")\n"
     ]
    }
   ],
   "source": [
    "matriz3x3Random = np.random.randint(10, size=(3,3))\n",
    "print(\"Matriz random\")\n",
    "print(matriz3x3Random, \"\\n\")\n",
    "matriz3x3Identidad = np.identity(3, dtype=int)\n",
    "print(\"Matriz identidad\")\n",
    "print(matriz3x3Identidad, \"\\n\")\n",
    "print(\"Suma\")\n",
    "print(matriz3x3Random + matriz3x3Identidad, \"\\n\")\n",
    "print(\"Resta\")\n",
    "print(matriz3x3Random - matriz3x3Identidad, \"\\n\")\n",
    "print(\"Multiplicación\")\n",
    "print(matriz3x3Random * matriz3x3Identidad, \"\\n\")\n",
    "print(\"División\")\n",
    "# La división da algun warning porque no se puede dividir entre 0\n",
    "print(matriz3x3Random / matriz3x3Identidad, \"\\n\")\n",
    "print(\"Raíz cuadrada de matriz de identidad\")\n",
    "print(np.sqrt(matriz3x3Identidad))"
   ]
  },
  {
   "cell_type": "markdown",
   "metadata": {
    "id": "-pvYqcfFolmh"
   },
   "source": [
    "---\n",
    "## Ejercicio 14"
   ]
  },
  {
   "cell_type": "markdown",
   "metadata": {
    "id": "sM9V2Ulnomoo"
   },
   "source": [
    "Sin utilizar las funciones std, mean y median de NumPy, programa dichas funcionalidades:"
   ]
  },
  {
   "cell_type": "code",
   "execution_count": null,
   "metadata": {
    "id": "eeN5RTZQom_m"
   },
   "outputs": [
    {
     "name": "stdout",
     "output_type": "stream",
     "text": [
      "Media:  2.5\n",
      "Mediana:  [1, 2, 3, 4]\n"
     ]
    }
   ],
   "source": [
    "def media(matriz):\n",
    "    suma = 0\n",
    "    longitud = 0\n",
    "    for array in matriz:\n",
    "        for num in array:\n",
    "            suma += num\n",
    "            longitud += 1\n",
    "    return suma / longitud\n",
    "\n",
    "#TODO Adaptarlo a matriz, está hecho para un array\n",
    "def mediana(matriz):\n",
    "    longMatriz = len(matriz)\n",
    "    if longMatriz % 2 != 0:\n",
    "        # Divido la longitud / 2 para sacar la mitad de la matriz, como va a dar decimal porque es impar (*.5) le sumo 0,5 para\n",
    "        # que no sea decimal y lo que salga sea la posición del número central (la misma cantidad de números por la izq y der).\n",
    "        # Le resto 1 porque la posición en la matriz empieza desde 0\n",
    "        # Lo convierto a int porque al hacer la división se convierte en float\n",
    "        return matriz[int(longMatriz / 2 + 0.5 - 1)]\n",
    "    else:\n",
    "        # Resto 1 a pos1 porque las posiciones de las matrices empiezan en 0\n",
    "        # A pos2 no le sumo 1 porque ya se resta 1 al empezar en 0\n",
    "        pos1 = int(longMatriz / 2) - 1\n",
    "        pos2 = int(longMatriz / 2)\n",
    "        sumaNumCentrales = matriz[pos1] + matriz[pos2]\n",
    "        return sumaNumCentrales\n",
    "    \n",
    "#def desviacion_estandar(matriz):\n",
    "    #TODO\n",
    "\n",
    "\n",
    "matrizPrueba = [[1,2],[3,4]]\n",
    "print(\"Media: \", media(matrizPrueba))\n",
    "print(\"Mediana: \", mediana(matrizPrueba))"
   ]
  },
  {
   "cell_type": "markdown",
   "metadata": {
    "id": "-QL_QTj-oncQ"
   },
   "source": [
    "---\n",
    "## Ejercicio 15"
   ]
  },
  {
   "cell_type": "markdown",
   "metadata": {
    "id": "jxdjFioFooZS"
   },
   "source": [
    "Compara los tiempos de ejecución entre las funciones que has creado anteriormente  y las de NumPy para matrices de tamaño 1.000.000 x 1.000.000 con valores aleatorios:"
   ]
  },
  {
   "cell_type": "code",
   "execution_count": null,
   "metadata": {
    "id": "3Z7iVaiooosD"
   },
   "outputs": [],
   "source": []
  }
 ],
 "metadata": {
  "colab": {
   "authorship_tag": "ABX9TyNt1XDyjcHWB9nBhpu/20A5",
   "collapsed_sections": [],
   "name": "01-Numpy_Ejercicios_1.ipynb",
   "provenance": []
  },
  "kernelspec": {
   "display_name": "Python 3",
   "name": "python3"
  },
  "language_info": {
   "codemirror_mode": {
    "name": "ipython",
    "version": 3
   },
   "file_extension": ".py",
   "mimetype": "text/x-python",
   "name": "python",
   "nbconvert_exporter": "python",
   "pygments_lexer": "ipython3",
   "version": "3.11.1"
  }
 },
 "nbformat": 4,
 "nbformat_minor": 0
}
