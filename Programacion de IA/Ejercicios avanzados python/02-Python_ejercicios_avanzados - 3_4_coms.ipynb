{
 "cells": [
  {
   "cell_type": "markdown",
   "metadata": {
    "id": "ZmX0AObVDj-Z"
   },
   "source": [
    "En esta hoja de ejercicios, vamos a intentar resolver problemas más complejos con Python. El objetivo es trabajar vuestra capacidad de abstracción para resolver problemas más complejos, de forma que tengáis que pensar y plantear vuestras propias soluciones."
   ]
  },
  {
   "cell_type": "markdown",
   "metadata": {
    "id": "5pD_FLb2FGjN"
   },
   "source": [
    "---\n",
    "# Orden y limpieza\n"
   ]
  },
  {
   "cell_type": "markdown",
   "metadata": {
    "id": "snKu25P_yiiO"
   },
   "source": [
    "Define una función \"clean_order\" que:\n",
    "\n",
    "*   Acepte una lista de números enteros\n",
    "*   Verifique que todo son números enteros (en caso de no ser así que elimine de la lista los elementos que no lo sean)\n",
    "*   Devuelva la lista ordenada de menor a mayor\n",
    "\n",
    "Llama a la función con la lista \"co_data\" e imprime su resultado por pantalla:"
   ]
  },
  {
   "cell_type": "code",
   "execution_count": 1,
   "metadata": {
    "id": "HwUOlkJxHFGR"
   },
   "outputs": [
    {
     "name": "stdout",
     "output_type": "stream",
     "text": [
      "[-31, -4, 0, 3, 12, 47, 100]\n"
     ]
    }
   ],
   "source": [
    "co_data = [\"first\", 12, 47, 0, -4, 23.02, [2, 3, 4, 8, -3], \"last\", 3, 100, -31]\n",
    "def clean_order(lista):\n",
    "    elementos_a_eliminar = []\n",
    "    for x in lista:\n",
    "        if not isinstance(x, int):\n",
    "            elementos_a_eliminar.append(x)\n",
    "    for y in elementos_a_eliminar:\n",
    "        lista.remove(y)\n",
    "    return sorted(lista)\n",
    "print(clean_order(co_data))"
   ]
  },
  {
   "cell_type": "markdown",
   "metadata": {
    "id": "wW4J2rPXP4lI"
   },
   "source": [
    "---\n",
    "# Palíndromo\n",
    "Un palíndromo es una palabra que se lee igual de derecha a izquierda que de izquierda a derecha, por ejemplo \"reconocer\". Haz una función que devuelva verdadero si el parámetro de entrada es una palabra que cumpla con esta definición:"
   ]
  },
  {
   "cell_type": "code",
   "execution_count": 3,
   "metadata": {
    "id": "NHCHAk2cQWsy"
   },
   "outputs": [
    {
     "name": "stdout",
     "output_type": "stream",
     "text": [
      "True\n"
     ]
    }
   ],
   "source": [
    "def es_palindromo(palabra):\n",
    "    palabra_invertida = palabra[::-1]\n",
    "    if palabra == palabra_invertida:\n",
    "        return True\n",
    "    else:\n",
    "        return False\n",
    "palabra = input(\"Introduce una palabra: \")\n",
    "print(es_palindromo(palabra))"
   ]
  },
  {
   "cell_type": "markdown",
   "metadata": {
    "id": "Yw32WXKGHgVc"
   },
   "source": [
    "---\n",
    "# Autobusero"
   ]
  },
  {
   "cell_type": "markdown",
   "metadata": {
    "id": "ongRBo8Fyn2U"
   },
   "source": [
    "Define una función \"bus_stops\" que:\n",
    "\n",
    "*   Acepte una lista de diccionarios con una serie de coordenadas (\"x\" e \"y\") con números enteros\n",
    "*   Verifique que todo son números enteros (en caso de no ser así que elimine las coordenadas que no lo cumplan)\n",
    "*   Calcule el orden que optimice la distancia mínima a recorrer si tenemos que pasar por todos los puntos.\n",
    "*   Muestre por pantalla la distancia mínima obtenida y devuelva un diccionario con el orden correcto de los puntos.\n",
    "\n",
    "Llama a la función con el diccionario \"bs_data\" e imprime su resultado por pantalla:"
   ]
  },
  {
   "cell_type": "code",
   "execution_count": null,
   "metadata": {
    "id": "7-AVFc50KXi3"
   },
   "outputs": [],
   "source": [
    "bs_data = [{\"x\": 1, \"y\": 1},\n",
    "        {\"x\": \"some\", \"y\": 12},\n",
    "        {\"x\": 3, \"y\": 9},\n",
    "        {\"x\": 9, \"y\": 4},\n",
    "        {\"x\": 1, \"y\": 1},\n",
    "        {\"x\": 1, \"y\": 5},\n",
    "        {\"x\": 5, \"y\": 2},\n",
    "        {\"x\": 4, \"y\": 10},\n",
    "        {\"x\": 8, \"y\": 8},\n",
    "        {\"x\": -3, \"y\": 2.3}]\n",
    "\n",
    "# Importo la librería math para hacer la raíz cuadrada en la función \"distance\"\n",
    "import math\n",
    "\n",
    "# Función general que busca la mejor solución al problema\n",
    "def bus_stops(stops):\n",
    "  # Limpiamos el mapa de coordenadas\n",
    "\n",
    "  # Ahora recorreremos las distintas paradas y tendremos en cuenta cada una de ellas como punto de partida.\n",
    "\n",
    "    # En cada iteración hago una copia de la lista (excluyendo la parada actual) para no modificar la original\n",
    "\n",
    "\n",
    "    # Para cada punto de partida calcularemos todas las combinaciones posibles, quedándonos con la mejor para dicho punto de partida.\n",
    "    shortest_way = calc_shortest_way(start_point, other_stops)\n",
    "\n",
    "    # Finalmente, almacenaremos únicamente la mejor conbinación de todas (la primera la almacenamos por defecto).\n",
    "    \n",
    "      \n",
    "      # Añadimos el punto de partida en la primera posición (lo habíamos excluido de la lista)\n",
    "      \n",
    "  \n",
    "  # Una vez seleccionado el mejor camino, muestro por pantalla la distancia mínima obtenida y devuelvo el orden correcto\n",
    "  \n",
    "\n",
    "# Función utilizada para limpiar los datos\n",
    "def clean_bus_stops(lista):\n",
    "  # Recorro de atrás adelante el listado de diccionarios para poder ir eliminando los elementos sin que afecte al orden y sin saltarme ninguno.\n",
    "  # Si se hace en el sentido \"normal\" (de la posición 0 en adelante), al eliminar un elemento estaríamos saltandonos la \n",
    "  # comprobación del siguiente (ya que ocupa la misma posición que el eliminado).\n",
    "\n",
    "  # En mi caso he hecho un array con los elementos a elminar, y después eliminar de la lista original los elementos de la lista \"basura\"\n",
    "  elementos_a_eliminar = []\n",
    "  for w in lista:\n",
    "      for x, y in w.items():\n",
    "          if not isinstance(y, int):\n",
    "              elementos_a_eliminar.append(w)\n",
    "  for z in elementos_a_eliminar:\n",
    "      lista.remove(z)\n",
    "  return lista\n",
    "\n",
    "# Función que calcula el mejor camino a partir de un punto concreto de manera recursiva\n",
    "def calc_shortest_way(start_point, other_stops):\n",
    "\n",
    "  # Si solo queda un elemento más contra el que medir distancias, el cálculo es rápido\n",
    "  \n",
    "    # En caso contrario debo medir las distancias entre este punto de inicio y los otros posibles puntos y quedarme con la menor\n",
    "    \n",
    "      # Me hago una copia para no modificar la lista sobre la que estoy recorriendo el for\n",
    "      \n",
    "\n",
    "      # Para cada punto de partida calcularemos todas las combinaciones posibles, quedándonos con la mejor para dicho punto de partida.\n",
    "      shortest_way = calc_shortest_way(stop, new_other_stops)\n",
    "\n",
    "      # Finalmente, almacenaremos únicamente la mejor conbinación de todas (la primera la almacenamos por defecto).\n",
    "      \n",
    "        # Añadimos el punto de partida en la primera posición (lo habíamos excluido de la lista)\n",
    "        \n",
    "    \n",
    "    # Llegados a este punto, tenemos la distancia más corta y el mejor orden de paradas\n",
    "    \n",
    "\n",
    "# Función que calcula la distancia entre dos puntos utilizando pitágoras\n",
    "def distance(stop_1, stop_2):\n",
    "\n",
    "\n",
    "# Punto de arranque del programa\n"
   ]
  },
  {
   "cell_type": "markdown",
   "metadata": {
    "id": "bZ0s0Oe3PfPK"
   },
   "source": [
    "---\n",
    "# Mochila"
   ]
  },
  {
   "cell_type": "markdown",
   "metadata": {
    "id": "WqHPBvfuylVI"
   },
   "source": [
    "Define una función \"backpack\" que:\n",
    "\n",
    "*   Acepte dos parámetros de entrada: un número entero que especificará el peso que es capaz de soportar la mochila y una lista de pares de elementos (definidos en diccionarios) que contenga el peso y el valor de cada objeto\n",
    "*   Verifique que todos los parámetros son números enteros (los que no sean así serán eliminados)\n",
    "*   Calcule la mejor combinación de objetos que permita la máxima ganancia limitandose al peso que soporta la mochila\n",
    "*   Muestre por pantalla el valor obtenido\n",
    "*   Devuelva una lista con los elementos escogidos\n",
    "\n",
    "Llama a la función con los parámetros \"backpack_weight_limit\" y \"objects\" e imprime su resultado por pantalla:"
   ]
  },
  {
   "cell_type": "code",
   "execution_count": null,
   "metadata": {
    "id": "wRMdmv0YR3zq"
   },
   "outputs": [],
   "source": [
    "backpack_weight_limit = 15\n",
    "objects = [{\"weight\": 1, \"value\": 1},\n",
    "           {\"weight\": 6, \"value\": 4},\n",
    "           {\"weight\": 4, \"value\": 7},\n",
    "           {\"weight\": 5, \"value\": 6},\n",
    "           {\"weight\": 1, \"value\": 3},\n",
    "           {\"weight\": 6, \"value\": 8},\n",
    "           {\"weight\": 3, \"value\": 6},\n",
    "           {\"weight\": 10, \"value\": 11},\n",
    "           {\"weight\": 4, \"value\": 4},\n",
    "           {\"weight\": 7, \"value\": 3}]\n",
    "\n",
    "def backpack(weight_limit, objects):\n",
    "  # Limpio los datos (aunque no haya ninguno el enunciado lo pide)\n",
    "  \n",
    "  # Busco la mejor combinación de manera recursiva y muestro los resultados\n",
    "  \n",
    "\n",
    "# Función utilizada para buscar la mejor combinación comprobando todas las alternativas de manera recursiva\n",
    "def calc_best_combination(weight_limit, objects):\n",
    "  # Comprobamos si quedan objetos que pesen menos o igual que el limite de peso restante y que el límite de peso no sea 0\n",
    "  \n",
    "      # Compruebo que el objeto quepa en la bolsa\n",
    "      \n",
    "        # Hago una copia del listado de objetos y elimino este\n",
    "        \n",
    "        \n",
    "        # Busco de manera recursiva la mejor combinación partiendo de que he seleccionado temporalmente este elemento\n",
    "        \n",
    "\n",
    "        \n",
    "\n",
    "# Función utilizada para comprobar que dentro del límite de peso, existan objectos que quepan\n",
    "def check_weight_and_objects(weight_limit, objects):\n",
    "  \n",
    "\n",
    "# Función utilizada para limpiar los datos\n",
    "def clean_objects(objects):\n",
    "  # Recorro de atrás adelante el listado de diccionarios para poder ir eliminando los elementos sin que afecte al orden y sin saltarme ninguno.\n",
    "  # Si se hace en el sentido \"normal\" (de la posición 0 en adelante), al eliminar un elemento estaríamos saltandonos la \n",
    "  # comprobación del siguiente (ya que ocupa la misma posición que el eliminado).\n",
    "  "
   ]
  },
  {
   "cell_type": "markdown",
   "metadata": {
    "id": "Wxa6x-OOGbph"
   },
   "source": [
    "---\n",
    "# Jarras de agua"
   ]
  },
  {
   "cell_type": "markdown",
   "metadata": {
    "id": "ulhWGz1QyqHg"
   },
   "source": [
    "Define una función \"water_pitcher\" que:\n",
    "*   Acepte dos parámetros: el primero la cantidad objetivo de agua a separar, el segundo una lista de números enteros que serán las distintas jarras de agua de que disponemos (por ejemplo, una de 3 litros y otra de 5 --> [3, 5])\n",
    "*   Verifica que en ningún caso, la cantidad objetivo de agua es superior al tamaño de la mayor jarra.\n",
    "*   Calcule cómo separar la cantidad de agua objetivo de manera exacta utilizando las jarras disponibles (se pueden llenar las jarras tantas veces como se quiera)\n",
    "*   Muestre por pantalla el orden correcto para hallar la solución o indica si es imposible\n",
    "\n",
    "Llamar a la función con el agua objetivo \"required_water\" y la lista de jarras \"water_pitchers\":"
   ]
  },
  {
   "cell_type": "code",
   "execution_count": null,
   "metadata": {
    "id": "qLnFX7qmxZxH"
   },
   "outputs": [],
   "source": [
    "required_water = 4\n",
    "water_pitchers = [3, 5]"
   ]
  },
  {
   "cell_type": "markdown",
   "metadata": {
    "id": "hXfnIEb0ZH07"
   },
   "source": [
    "---\n",
    "# Tres en raya"
   ]
  },
  {
   "cell_type": "markdown",
   "metadata": {
    "id": "MmsNCcgvys-Z"
   },
   "source": [
    "Define una función \"tic_tac_toe\" que:\n",
    "\n",
    "1.   No acepte ningún parámetro\n",
    "2.   Muestre por pantalla el estado actual del tablero del tres en raya (vacío al principio)\n",
    "3.   Pida al usuario una posición donde colocar su ficha\n",
    "4.   Verifique que esa posición existe y está vacía\n",
    "5.   Muestre el tablero con la ficha introducida y verifique la condición de victoria\n",
    "6.   En caso de ganar que termine ahí. En caso contrario va al paso siguiente\n",
    "7.   Decida la mejor jugada posible siendo la máquina el adversario del usuario\n",
    "8.   Muestre el movimiento a realizar\n",
    "9.   Muestre el tablero con el movimiento realizado\n",
    "10.  Compruebe la condición de victoria\n",
    "11.  Si ha ganado la máquina termina ahí. En caso contrario volver al paso 3\n",
    "\n",
    "Llamar a la función:"
   ]
  },
  {
   "cell_type": "code",
   "execution_count": null,
   "metadata": {
    "id": "HiDAEG-fiaK9"
   },
   "outputs": [],
   "source": []
  }
 ],
 "metadata": {
  "colab": {
   "authorship_tag": "ABX9TyNrmNErkyGypCATbd6rz2/W",
   "name": "02-Python_ejercicios_avanzados.ipynb",
   "provenance": [
    {
     "file_id": "1wgaarSQ6D1wdpR7X_sRHpz4iMOHz8r9l",
     "timestamp": 1633448186468
    }
   ]
  },
  "kernelspec": {
   "display_name": "Python 3",
   "name": "python3"
  },
  "language_info": {
   "codemirror_mode": {
    "name": "ipython",
    "version": 3
   },
   "file_extension": ".py",
   "mimetype": "text/x-python",
   "name": "python",
   "nbconvert_exporter": "python",
   "pygments_lexer": "ipython3",
   "version": "3.11.1"
  }
 },
 "nbformat": 4,
 "nbformat_minor": 0
}
