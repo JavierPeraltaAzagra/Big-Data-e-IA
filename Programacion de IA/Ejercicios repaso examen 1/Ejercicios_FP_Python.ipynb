{
 "cells": [
  {
   "cell_type": "markdown",
   "id": "d2c0efbe",
   "metadata": {},
   "source": [
    "**Ejercicio 1**: Pide al usuario una frase y muestra cuántas palabras contienen la letra 'a'."
   ]
  },
  {
   "cell_type": "code",
   "execution_count": 7,
   "id": "23a3088a",
   "metadata": {},
   "outputs": [
    {
     "name": "stdout",
     "output_type": "stream",
     "text": [
      "2\n"
     ]
    }
   ],
   "source": [
    "frase = input(\"Escribe una frase: \")\n",
    "palabras_separadas = frase.split(\" \")\n",
    "numPalabrasA = 0\n",
    "for palabra in palabras_separadas:\n",
    "    if palabra.lower().__contains__(\"a\"):\n",
    "        numPalabrasA += 1\n",
    "print(numPalabrasA)"
   ]
  },
  {
   "cell_type": "markdown",
   "id": "5ff59ff3",
   "metadata": {},
   "source": [
    "**Ejercicio 2**: Solicita al usuario un nombre completo y muestra las iniciales en mayúscula."
   ]
  },
  {
   "cell_type": "code",
   "execution_count": 10,
   "id": "61d618cb",
   "metadata": {},
   "outputs": [
    {
     "name": "stdout",
     "output_type": "stream",
     "text": [
      "JP\n"
     ]
    }
   ],
   "source": [
    "nombre = input(\"Escribe tu nombre completo: \")\n",
    "palabras_separadas = nombre.split(\" \")\n",
    "iniciales = \"\"\n",
    "for palabra in palabras_separadas:\n",
    "    iniciales += palabra[0].upper()\n",
    "print(iniciales)"
   ]
  },
  {
   "cell_type": "markdown",
   "id": "909b6397",
   "metadata": {},
   "source": [
    "**Ejercicio 3**: Pide un texto y muestra solo las palabras que tienen más de 4 letras."
   ]
  },
  {
   "cell_type": "code",
   "execution_count": 12,
   "id": "babe9d33",
   "metadata": {},
   "outputs": [
    {
     "name": "stdout",
     "output_type": "stream",
     "text": [
      " hacemos ahora\n"
     ]
    }
   ],
   "source": [
    "texto = input(\"Escribe una frase: \")\n",
    "palabras_separadas = texto.split(\" \")\n",
    "palabras_largas = \"\"\n",
    "for palabra in palabras_separadas:\n",
    "    if palabra.__len__() > 4:\n",
    "        palabras_largas += \" \" + palabra\n",
    "print(palabras_largas)"
   ]
  },
  {
   "cell_type": "markdown",
   "id": "240054ae",
   "metadata": {},
   "source": [
    "**Ejercicio 4**: Pide al usuario una frase y cuenta cuántas veces aparece la letra más repetida."
   ]
  },
  {
   "cell_type": "code",
   "execution_count": 32,
   "id": "3c281142",
   "metadata": {},
   "outputs": [
    {
     "name": "stdout",
     "output_type": "stream",
     "text": [
      "Letra más repetida: o -> 5\n"
     ]
    }
   ],
   "source": [
    "texto = input(\"Escribe una frase: \")\n",
    "contador_letras = {}\n",
    "primera_letra = True\n",
    "for letra in texto:\n",
    "    # Si es la primera letra que se recorre, se añade automáticamente\n",
    "    if primera_letra == True:\n",
    "        contador_letras[letra] = 1\n",
    "        primera_letra = False\n",
    "    else:\n",
    "        existe_letra = False\n",
    "        for key, value in contador_letras.items():\n",
    "            # Si la letra existe en las key del diccionario, se le suma 1 al valor\n",
    "            if letra == str(key):\n",
    "                existe_letra = True\n",
    "            if existe_letra == True:\n",
    "                contador_letras[key] = value + 1\n",
    "        # Si no existe la letra en el diccionario, se añade con valor 1\n",
    "        if existe_letra == False:\n",
    "            contador_letras[letra] = 1\n",
    "letra_mas_repetida = \"\"\n",
    "veces_repetida = 0\n",
    "for key, value in contador_letras.items():\n",
    "    if value > veces_repetida:\n",
    "        veces_repetida = value\n",
    "        letra_mas_repetida = key\n",
    "print(\"Letra más repetida: \" + letra_mas_repetida + \" -> \" + str(veces_repetida))"
   ]
  },
  {
   "cell_type": "markdown",
   "id": "a9442ebf",
   "metadata": {},
   "source": [
    "**Ejercicio 5**: Pide al usuario una frase y muestra el texto sin espacios."
   ]
  },
  {
   "cell_type": "code",
   "execution_count": 33,
   "id": "bb53ba47",
   "metadata": {},
   "outputs": [
    {
     "name": "stdout",
     "output_type": "stream",
     "text": [
      "holabuenasquetal\n"
     ]
    }
   ],
   "source": [
    "texto = input(\"Escribe una frase: \")\n",
    "texto_sin_espacios = texto.replace(\" \", \"\")\n",
    "print(texto_sin_espacios)"
   ]
  },
  {
   "cell_type": "markdown",
   "id": "2ceeae72",
   "metadata": {},
   "source": [
    "**Ejercicio 6**: Pide al usuario un número y muestra si es múltiplo de 3, de 5, de ambos o de ninguno."
   ]
  },
  {
   "cell_type": "code",
   "execution_count": 39,
   "id": "8822175d",
   "metadata": {},
   "outputs": [
    {
     "name": "stdout",
     "output_type": "stream",
     "text": [
      "Es múltiplo de 3\n"
     ]
    }
   ],
   "source": [
    "num = int(input(\"Escribe un número: \"))\n",
    "if num % 3 == 0 and num % 5 == 0:\n",
    "    print(\"Es múltiplo de 3 y 5\")\n",
    "elif num % 3 == 0:\n",
    "    print(\"Es múltiplo de 3\")\n",
    "elif num % 5 == 0:\n",
    "    print(\"Es múltiplo de 5\")\n",
    "else:\n",
    "    print(\"No es múltiplo ni de 3 ni de 5\")"
   ]
  },
  {
   "cell_type": "markdown",
   "id": "d77e1aae",
   "metadata": {},
   "source": [
    "**Ejercicio 7**: Solicita al usuario un número y muestra si está dentro del rango 20-50 o fuera de él."
   ]
  },
  {
   "cell_type": "code",
   "execution_count": 41,
   "id": "39045019",
   "metadata": {},
   "outputs": [
    {
     "name": "stdout",
     "output_type": "stream",
     "text": [
      "Está fuera del rango 20-50\n"
     ]
    }
   ],
   "source": [
    "num = int(input(\"Escribe un número: \"))\n",
    "if num >= 20 and num <= 50:\n",
    "    print(\"Está dentro del rango 20-50\")\n",
    "else:\n",
    "    print(\"Está fuera del rango 20-50\")"
   ]
  },
  {
   "cell_type": "markdown",
   "id": "4a552a4b",
   "metadata": {},
   "source": [
    "**Ejercicio 8**: Pide al usuario dos números y muestra cuál es par y cuál es impar (o si ambos lo son o ninguno)."
   ]
  },
  {
   "cell_type": "code",
   "execution_count": 44,
   "id": "cc66f636",
   "metadata": {},
   "outputs": [
    {
     "name": "stdout",
     "output_type": "stream",
     "text": [
      "3 es impar\n",
      "9 es impar\n"
     ]
    }
   ],
   "source": [
    "num1 = int(input(\"Escribe un número: \"))\n",
    "num2 = int(input(\"Escribe otro número: \"))\n",
    "numeros = [num1, num2]\n",
    "for num in numeros:\n",
    "    if num % 2 == 0:\n",
    "        print(f\"{num} es par\")\n",
    "    else:\n",
    "        print(f\"{num} es impar\")"
   ]
  },
  {
   "cell_type": "markdown",
   "id": "374b701d",
   "metadata": {},
   "source": [
    "**Ejercicio 9**: Pide un número y comprueba si es divisible por todos los números del 1 al 5."
   ]
  },
  {
   "cell_type": "code",
   "execution_count": 48,
   "id": "58012390",
   "metadata": {},
   "outputs": [
    {
     "name": "stdout",
     "output_type": "stream",
     "text": [
      "12 es divisible entre 1\n",
      "12 es divisible entre 2\n",
      "12 es divisible entre 3\n",
      "12 es divisible entre 4\n"
     ]
    }
   ],
   "source": [
    "num = int(input(\"Escribe un número: \"))\n",
    "for x in range(1, 6):\n",
    "    if num % x == 0:\n",
    "        print(f\"{num} es divisible entre {x}\")"
   ]
  },
  {
   "cell_type": "markdown",
   "id": "dba1b75e",
   "metadata": {},
   "source": [
    "**Ejercicio 10**: Pide al usuario un número y muestra si es positivo, negativo o cero."
   ]
  },
  {
   "cell_type": "code",
   "execution_count": 51,
   "id": "88c7fac0",
   "metadata": {},
   "outputs": [
    {
     "name": "stdout",
     "output_type": "stream",
     "text": [
      "-2 es menor que 0\n"
     ]
    }
   ],
   "source": [
    "num = int(input(\"Escribe un número: \"))\n",
    "if num > 0:\n",
    "    print(f\"{num} es mayor que 0\")\n",
    "elif num == 0:\n",
    "    print(f\"{num} es 0\")\n",
    "else:\n",
    "    print(f\"{num} es menor que 0\")"
   ]
  },
  {
   "cell_type": "markdown",
   "id": "a0e7ffc7",
   "metadata": {},
   "source": [
    "**Ejercicio 11**: Permite al usuario introducir 5 nombres y muestra la lista en orden inverso."
   ]
  },
  {
   "cell_type": "code",
   "execution_count": 52,
   "id": "3b698e33",
   "metadata": {},
   "outputs": [
    {
     "name": "stdout",
     "output_type": "stream",
     "text": [
      "['marcos', 'paula', 'pedro', 'maria', 'javi']\n"
     ]
    }
   ],
   "source": [
    "nombres = []\n",
    "for x in range(1, 6):\n",
    "    nombres.append(input(\"Introduce un nombre: \"))\n",
    "print(nombres[::-1])"
   ]
  },
  {
   "cell_type": "markdown",
   "id": "e1055434",
   "metadata": {},
   "source": [
    "**Ejercicio 12**: Pide al usuario 6 números y crea una lista con los números cuadrados."
   ]
  },
  {
   "cell_type": "code",
   "execution_count": 54,
   "id": "e59d54c1",
   "metadata": {},
   "outputs": [
    {
     "name": "stdout",
     "output_type": "stream",
     "text": [
      "[4, 25, 1, 9, 16, 25]\n"
     ]
    }
   ],
   "source": [
    "numeros = []\n",
    "for x in range(1, 7):\n",
    "    numeros.append(int(input(\"Introduce un número: \"))**2)\n",
    "print(numeros)"
   ]
  },
  {
   "cell_type": "markdown",
   "id": "50f8b39c",
   "metadata": {},
   "source": [
    "**Ejercicio 13**: Pide al usuario 7 números y muestra solo los que son menores que el promedio."
   ]
  },
  {
   "cell_type": "code",
   "execution_count": 62,
   "id": "132385ce",
   "metadata": {},
   "outputs": [
    {
     "name": "stdout",
     "output_type": "stream",
     "text": [
      "-15\n"
     ]
    }
   ],
   "source": [
    "numeros = []\n",
    "for x in range(1, 8):\n",
    "    numeros.append(int(input(\"Introduce un número: \")))\n",
    "promedio = sum(numeros) / len(numeros)\n",
    "for num in numeros:\n",
    "    if num < promedio:\n",
    "        print(num)"
   ]
  },
  {
   "cell_type": "markdown",
   "id": "b59216e5",
   "metadata": {},
   "source": [
    "**Ejercicio 14**: Permite introducir varias palabras y guarda solo aquellas que tengan exactamente 4 letras."
   ]
  },
  {
   "cell_type": "code",
   "execution_count": 64,
   "id": "f6e9b5c5",
   "metadata": {},
   "outputs": [
    {
     "name": "stdout",
     "output_type": "stream",
     "text": [
      "['hola', 'tres']\n"
     ]
    }
   ],
   "source": [
    "texto = input(\"Escribe una frase: \")\n",
    "palabras_separadas = texto.split(\" \")\n",
    "palabras_validas = []\n",
    "for palabra in palabras_separadas:\n",
    "    if palabra.__len__() == 4:\n",
    "        palabras_validas.append(palabra)\n",
    "print(palabras_validas)"
   ]
  },
  {
   "cell_type": "markdown",
   "id": "d2bd4d1a",
   "metadata": {},
   "source": [
    "**Ejercicio 15**: Pide 5 palabras y crea una lista con sus longitudes."
   ]
  },
  {
   "cell_type": "code",
   "execution_count": 65,
   "id": "d7ceed8c",
   "metadata": {},
   "outputs": [
    {
     "name": "stdout",
     "output_type": "stream",
     "text": [
      "[4, 3, 3, 5, 5]\n"
     ]
    }
   ],
   "source": [
    "longitud_palabras = []\n",
    "for x in range(1, 6):\n",
    "    palabra = input(\"Introduce una palabra: \")\n",
    "    longitud_palabras.append(len(palabra))\n",
    "print(longitud_palabras)"
   ]
  },
  {
   "cell_type": "markdown",
   "id": "696a1abd",
   "metadata": {},
   "source": [
    "**Ejercicio 16**: Pide al usuario números de manera repetida hasta que introduzca -1 y muestra cuántos números se introdujeron."
   ]
  },
  {
   "cell_type": "code",
   "execution_count": 67,
   "id": "3e55ac02",
   "metadata": {},
   "outputs": [
    {
     "ename": "ValueError",
     "evalue": "invalid literal for int() with base 10: ''",
     "output_type": "error",
     "traceback": [
      "\u001b[31m---------------------------------------------------------------------------\u001b[39m",
      "\u001b[31mValueError\u001b[39m                                Traceback (most recent call last)",
      "\u001b[36mCell\u001b[39m\u001b[36m \u001b[39m\u001b[32mIn[67]\u001b[39m\u001b[32m, line 4\u001b[39m\n\u001b[32m      2\u001b[39m cont = \u001b[32m0\u001b[39m\n\u001b[32m      3\u001b[39m \u001b[38;5;28;01mwhile\u001b[39;00m \u001b[38;5;129;01mnot\u001b[39;00m numero == -\u001b[32m1\u001b[39m:\n\u001b[32m----> \u001b[39m\u001b[32m4\u001b[39m     num = \u001b[38;5;28;43mint\u001b[39;49m\u001b[43m(\u001b[49m\u001b[38;5;28;43minput\u001b[39;49m\u001b[43m(\u001b[49m\u001b[33;43m\"\u001b[39;49m\u001b[33;43mIntroduce un número\u001b[39;49m\u001b[33;43m\"\u001b[39;49m\u001b[43m)\u001b[49m\u001b[43m)\u001b[49m\n\u001b[32m      5\u001b[39m     cont += \u001b[32m1\u001b[39m\n\u001b[32m      6\u001b[39m \u001b[38;5;28mprint\u001b[39m(\u001b[33mf\u001b[39m\u001b[33m\"\u001b[39m\u001b[38;5;132;01m{\u001b[39;00mcont\u001b[38;5;132;01m}\u001b[39;00m\u001b[33m números introducidos\u001b[39m\u001b[33m\"\u001b[39m)\n",
      "\u001b[31mValueError\u001b[39m: invalid literal for int() with base 10: ''"
     ]
    }
   ],
   "source": [
    "numero = 0\n",
    "cont = 0\n",
    "while not numero == -1:\n",
    "    num = int(input(\"Introduce un número\"))\n",
    "    cont += 1\n",
    "print(f\"{cont} números introducidos\")"
   ]
  },
  {
   "cell_type": "markdown",
   "id": "ef0645ac",
   "metadata": {},
   "source": [
    "**Ejercicio 17**: Genera un juego en el que el usuario debe adivinar un número aleatorio entre 1 y 15; muestra si es mayor o menor hasta que acierte."
   ]
  },
  {
   "cell_type": "code",
   "execution_count": null,
   "id": "be74f968",
   "metadata": {},
   "outputs": [],
   "source": []
  },
  {
   "cell_type": "markdown",
   "id": "0438fc8d",
   "metadata": {},
   "source": [
    "**Ejercicio 18**: Pide al usuario números y detén el bucle si se introduce un número repetido."
   ]
  },
  {
   "cell_type": "code",
   "execution_count": null,
   "id": "ca041dd7",
   "metadata": {},
   "outputs": [],
   "source": []
  },
  {
   "cell_type": "markdown",
   "id": "88610d36",
   "metadata": {},
   "source": [
    "**Ejercicio 19**: Pide números al usuario hasta que la suma de los números sea divisible entre 7."
   ]
  },
  {
   "cell_type": "code",
   "execution_count": null,
   "id": "6ce71038",
   "metadata": {},
   "outputs": [],
   "source": []
  },
  {
   "cell_type": "markdown",
   "id": "e41048c4",
   "metadata": {},
   "source": [
    "**Ejercicio 20**: Pide al usuario palabras hasta que introduzca 'fin' y muestra la concatenación de todas las palabras."
   ]
  },
  {
   "cell_type": "code",
   "execution_count": null,
   "id": "de417c34",
   "metadata": {},
   "outputs": [],
   "source": []
  },
  {
   "cell_type": "markdown",
   "id": "ca429c3d",
   "metadata": {},
   "source": [
    "**Ejercicio 21**: Crea un diccionario con frutas y su color; muestra únicamente las frutas cuyo color sea 'verde'."
   ]
  },
  {
   "cell_type": "code",
   "execution_count": null,
   "id": "5f4cf7a3",
   "metadata": {},
   "outputs": [],
   "source": []
  },
  {
   "cell_type": "markdown",
   "id": "b3512288",
   "metadata": {},
   "source": [
    "**Ejercicio 22**: Crea un diccionario con productos y su precio; muestra los productos cuyo precio sea múltiplo de 10."
   ]
  },
  {
   "cell_type": "code",
   "execution_count": null,
   "id": "07367935",
   "metadata": {},
   "outputs": [],
   "source": []
  },
  {
   "cell_type": "markdown",
   "id": "1c0ae217",
   "metadata": {},
   "source": [
    "**Ejercicio 23**: Crea un diccionario de ciudades con su población; muestra las ciudades con población mayor a 1 millón."
   ]
  },
  {
   "cell_type": "code",
   "execution_count": null,
   "id": "fa9152d7",
   "metadata": {},
   "outputs": [],
   "source": []
  },
  {
   "cell_type": "markdown",
   "id": "95682fa8",
   "metadata": {},
   "source": [
    "**Ejercicio 24**: Crea un diccionario de estudiantes con su nota final; muestra los estudiantes que hayan aprobado (nota >=5)."
   ]
  },
  {
   "cell_type": "code",
   "execution_count": null,
   "id": "cc3e33eb",
   "metadata": {},
   "outputs": [],
   "source": []
  },
  {
   "cell_type": "markdown",
   "id": "9a6b2f02",
   "metadata": {},
   "source": [
    "**Ejercicio 25**: Crea un diccionario con países y su continente; muestra únicamente los países que pertenezcan a Europa."
   ]
  },
  {
   "cell_type": "code",
   "execution_count": null,
   "id": "d0fade59",
   "metadata": {},
   "outputs": [],
   "source": []
  },
  {
   "cell_type": "markdown",
   "id": "ef67584c",
   "metadata": {},
   "source": [
    "**Ejercicio 26**: Define una función que reciba una lista de números y devuelva la suma de los números pares que contenga la lista."
   ]
  },
  {
   "cell_type": "code",
   "execution_count": null,
   "id": "2745cb3d",
   "metadata": {},
   "outputs": [],
   "source": []
  },
  {
   "cell_type": "markdown",
   "id": "89aa6aea",
   "metadata": {},
   "source": [
    "**Ejercicio 27**: Define una función que reciba un texto y devuelva cuántas palabras tienen más de 3 letras."
   ]
  },
  {
   "cell_type": "code",
   "execution_count": null,
   "id": "bc7c3fe3",
   "metadata": {},
   "outputs": [],
   "source": []
  },
  {
   "cell_type": "markdown",
   "id": "dd40e93c",
   "metadata": {},
   "source": [
    "**Ejercicio 28**: Crea una función que reciba dos listas y devuelva una lista con los elementos que se repitan en ambas."
   ]
  },
  {
   "cell_type": "code",
   "execution_count": null,
   "id": "1c9f119d",
   "metadata": {},
   "outputs": [],
   "source": []
  },
  {
   "cell_type": "markdown",
   "id": "9acf62af",
   "metadata": {},
   "source": [
    "**Ejercicio 29**: Define una función que reciba un número y devuelva True si es primo o False si no lo es."
   ]
  },
  {
   "cell_type": "code",
   "execution_count": null,
   "id": "5399d540",
   "metadata": {},
   "outputs": [],
   "source": []
  },
  {
   "cell_type": "markdown",
   "id": "9268706c",
   "metadata": {},
   "source": [
    "**Ejercicio 30**: Crea una función que reciba un diccionario con nombres y edades; devuelve el nombre de la persona más joven."
   ]
  },
  {
   "cell_type": "code",
   "execution_count": null,
   "id": "208f6c37",
   "metadata": {},
   "outputs": [],
   "source": []
  }
 ],
 "metadata": {
  "kernelspec": {
   "display_name": "Python 3",
   "language": "python",
   "name": "python3"
  },
  "language_info": {
   "codemirror_mode": {
    "name": "ipython",
    "version": 3
   },
   "file_extension": ".py",
   "mimetype": "text/x-python",
   "name": "python",
   "nbconvert_exporter": "python",
   "pygments_lexer": "ipython3",
   "version": "3.11.1"
  }
 },
 "nbformat": 4,
 "nbformat_minor": 5
}
