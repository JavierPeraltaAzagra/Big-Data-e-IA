{
 "cells": [
  {
   "cell_type": "markdown",
   "id": "0bdb4dbb",
   "metadata": {},
   "source": [
    "# Consultas PySpark y limpieza de datos"
   ]
  },
  {
   "cell_type": "markdown",
   "id": "0a9b094b",
   "metadata": {},
   "source": [
    "Importamos pyspark."
   ]
  },
  {
   "cell_type": "code",
   "execution_count": 4,
   "id": "5aadb995",
   "metadata": {},
   "outputs": [
    {
     "data": {
      "text/html": [
       "\n",
       "            <div>\n",
       "                <p><b>SparkSession - in-memory</b></p>\n",
       "                \n",
       "        <div>\n",
       "            <p><b>SparkContext</b></p>\n",
       "\n",
       "            <p><a href=\"http://3MASANZ-A21E14:4040\">Spark UI</a></p>\n",
       "\n",
       "            <dl>\n",
       "              <dt>Version</dt>\n",
       "                <dd><code>v4.0.1</code></dd>\n",
       "              <dt>Master</dt>\n",
       "                <dd><code>local[*]</code></dd>\n",
       "              <dt>AppName</dt>\n",
       "                <dd><code>Earthquake</code></dd>\n",
       "            </dl>\n",
       "        </div>\n",
       "        \n",
       "            </div>\n",
       "        "
      ],
      "text/plain": [
       "<pyspark.sql.session.SparkSession at 0x2e560f24390>"
      ]
     },
     "execution_count": 4,
     "metadata": {},
     "output_type": "execute_result"
    }
   ],
   "source": [
    "# Importaciones\n",
    "import pyspark\n",
    "from pyspark.sql import SparkSession, functions as F, types as T\n",
    "\n",
    "spark = SparkSession.builder.appName(\"Earthquake\").getOrCreate()\n",
    "spark"
   ]
  },
  {
   "cell_type": "markdown",
   "id": "cd7b9e22",
   "metadata": {},
   "source": [
    "Realiza la limpieza de datos del siguiente CSV."
   ]
  },
  {
   "cell_type": "code",
   "execution_count": 5,
   "id": "a11d7cd3",
   "metadata": {},
   "outputs": [],
   "source": [
    "df = (spark.read\n",
    "      .option(\"header\", True)\n",
    "      .option(\"inferSchema\", True)\n",
    "      .csv(\"earthquake_data_tsunami.csv\"))"
   ]
  },
  {
   "cell_type": "code",
   "execution_count": 8,
   "id": "b69d1247",
   "metadata": {},
   "outputs": [
    {
     "name": "stdout",
     "output_type": "stream",
     "text": [
      "+---------+---+---+---+---+----+---+-----+--------+---------+----+-----+-------+\n",
      "|magnitude|cdi|mmi|sig|nst|dmin|gap|depth|latitude|longitude|Year|Month|tsunami|\n",
      "+---------+---+---+---+---+----+---+-----+--------+---------+----+-----+-------+\n",
      "|        0|  0|  0|  0|  0|   0|  0|    0|       0|        0|   0|    0|      0|\n",
      "+---------+---+---+---+---+----+---+-----+--------+---------+----+-----+-------+\n",
      "\n"
     ]
    }
   ],
   "source": [
    "nulos = df.select([F.count(F.when(F.col(c).isNull(), c)).alias(c) for c in df.columns])\n",
    "nulos.show()\n",
    "nulos = nulos.dropna()"
   ]
  },
  {
   "cell_type": "code",
   "execution_count": 7,
   "id": "731a6c22",
   "metadata": {},
   "outputs": [
    {
     "data": {
      "text/plain": [
       "DataFrame[magnitude: double, cdi: int, mmi: int, sig: int, nst: int, dmin: double, gap: double, depth: double, latitude: double, longitude: double, Year: int, Month: int, tsunami: int]"
      ]
     },
     "execution_count": 7,
     "metadata": {},
     "output_type": "execute_result"
    }
   ],
   "source": [
    "df.dropDuplicates()"
   ]
  },
  {
   "cell_type": "markdown",
   "id": "fb382cca",
   "metadata": {},
   "source": [
    "Contar cuantos eventos suceden por mes."
   ]
  },
  {
   "cell_type": "code",
   "execution_count": 13,
   "id": "b989b582",
   "metadata": {},
   "outputs": [
    {
     "name": "stdout",
     "output_type": "stream",
     "text": [
      "+-----+-----+\n",
      "|Month|count|\n",
      "+-----+-----+\n",
      "|    1|   70|\n",
      "|    2|   63|\n",
      "|    3|   63|\n",
      "|    4|   77|\n",
      "|    5|   58|\n",
      "|    6|   42|\n",
      "|    7|   56|\n",
      "|    8|   68|\n",
      "|    9|   80|\n",
      "|   10|   69|\n",
      "|   11|   80|\n",
      "|   12|   56|\n",
      "+-----+-----+\n",
      "\n"
     ]
    }
   ],
   "source": [
    "eventos_mes = df.groupBy(\"Month\").count().orderBy(\"Month\")\n",
    "eventos_mes.show()"
   ]
  },
  {
   "cell_type": "markdown",
   "id": "b7eadcb4",
   "metadata": {},
   "source": [
    "Máximo de magnitud de terremotos."
   ]
  },
  {
   "cell_type": "code",
   "execution_count": 24,
   "id": "7e9b466c",
   "metadata": {},
   "outputs": [
    {
     "name": "stdout",
     "output_type": "stream",
     "text": [
      "+-------------+\n",
      "|max_magnitude|\n",
      "+-------------+\n",
      "|          9.1|\n",
      "+-------------+\n",
      "\n"
     ]
    }
   ],
   "source": [
    "df.createOrReplaceTempView(\"Earthquake\")\n",
    "maximo_magnitud = spark.sql(\"SELECT MAX(magnitude) as max_magnitude FROM Earthquake\")\n",
    "maximo_magnitud.show()"
   ]
  },
  {
   "cell_type": "markdown",
   "id": "548c9485",
   "metadata": {},
   "source": [
    "Top 10 años que mas aparecen en el CSV."
   ]
  },
  {
   "cell_type": "code",
   "execution_count": null,
   "id": "2327fb94",
   "metadata": {},
   "outputs": [
    {
     "name": "stdout",
     "output_type": "stream",
     "text": [
      "+---------+---+---+----+---+-----+----+-------+--------+---------+----+-----+-------+\n",
      "|magnitude|cdi|mmi| sig|nst| dmin| gap|  depth|latitude|longitude|Year|Month|tsunami|\n",
      "+---------+---+---+----+---+-----+----+-------+--------+---------+----+-----+-------+\n",
      "|      7.0|  8|  7| 768|117|0.509|17.0|   14.0| -9.7963|  159.596|2022|   11|      1|\n",
      "|      6.9|  4|  4| 735| 99|2.229|34.0|   25.0| -4.9559|  100.738|2022|   11|      0|\n",
      "|      7.0|  3|  3| 755|147|3.125|18.0|  579.0|-20.0508| -178.346|2022|   11|      1|\n",
      "|      7.3|  5|  5| 833|149|1.865|21.0|   37.0|-19.2918| -172.129|2022|   11|      1|\n",
      "|      6.6|  0|  2| 670|131|4.998|27.0|624.464|-25.5948|  178.278|2022|   11|      1|\n",
      "|      7.0|  4|  3| 755|142|4.578|26.0|  660.0|-26.0442|  178.381|2022|   11|      1|\n",
      "|      6.8|  1|  3| 711|136|4.678|22.0|630.379|-25.9678|  178.363|2022|   11|      1|\n",
      "|      6.7|  7|  6| 797|145|1.151|37.0|   20.0|  7.6712| -82.3396|2022|   10|      1|\n",
      "|      6.8|  8|  7|1179|175|2.137|92.0|   20.0|   18.33| -102.913|2022|    9|      1|\n",
      "|      7.6|  9|  8|1799|271|1.153|69.0| 26.943| 18.3667| -103.252|2022|    9|      1|\n",
      "+---------+---+---+----+---+-----+----+-------+--------+---------+----+-----+-------+\n",
      "only showing top 10 rows\n"
     ]
    }
   ],
   "source": [
    "#TODO\n",
    "años_top10 = (df.groupBy(\"Year\").count())\n",
    "df.show(10)"
   ]
  },
  {
   "cell_type": "markdown",
   "id": "2d53a3d8",
   "metadata": {},
   "source": [
    "Magnitud Media por año."
   ]
  },
  {
   "cell_type": "markdown",
   "id": "94bba789",
   "metadata": {},
   "source": [
    "Máximo de magnitud por mes."
   ]
  }
 ],
 "metadata": {
  "kernelspec": {
   "display_name": "Python 3",
   "language": "python",
   "name": "python3"
  },
  "language_info": {
   "codemirror_mode": {
    "name": "ipython",
    "version": 3
   },
   "file_extension": ".py",
   "mimetype": "text/x-python",
   "name": "python",
   "nbconvert_exporter": "python",
   "pygments_lexer": "ipython3",
   "version": "3.11.1"
  }
 },
 "nbformat": 4,
 "nbformat_minor": 5
}
