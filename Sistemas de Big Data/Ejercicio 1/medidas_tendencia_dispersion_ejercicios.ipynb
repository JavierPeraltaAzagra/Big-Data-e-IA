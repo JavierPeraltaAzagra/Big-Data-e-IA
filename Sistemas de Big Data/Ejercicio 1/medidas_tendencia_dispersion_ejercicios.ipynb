{
 "cells": [
  {
   "cell_type": "markdown",
   "id": "6ace2a20",
   "metadata": {},
   "source": [
    "\n",
    "# Medidas de tendencia central y dispersión (Python)\n",
    "\n",
    "Este cuaderno está diseñado para practicar, paso a paso, los conceptos:\n",
    "\n",
    "**Tendencia central**: media, mediana, moda, rango medio.  \n",
    "**Dispersión**: rango, cuartiles, rango intercuartílico (IQR), varianza (poblacional y muestral), desviación estándar.\n",
    "\n",
    "Dataset: `dataset_estadistica_basica.csv` (sintético con valores perdidos, outliers y 2 duplicados).\n",
    "\n",
    "> Sugerencia docente: puedes duplicar el cuaderno y ocultar las celdas de verificación si quieres que el alumnado entregue sus propios resultados.\n"
   ]
  },
  {
   "cell_type": "code",
   "execution_count": 2,
   "id": "9879749a",
   "metadata": {},
   "outputs": [],
   "source": [
    "\n",
    "# Importaciones básicas\n",
    "import numpy as np\n",
    "import pandas as pd\n",
    "import matplotlib.pyplot as plt\n",
    "\n",
    "pd.set_option(\"display.precision\", 3)\n"
   ]
  },
  {
   "cell_type": "markdown",
   "id": "cc8a4296",
   "metadata": {},
   "source": [
    "## 1. Cargar datos"
   ]
  },
  {
   "cell_type": "code",
   "execution_count": 3,
   "id": "0b00ad0c",
   "metadata": {},
   "outputs": [
    {
     "data": {
      "text/html": [
       "<div>\n",
       "<style scoped>\n",
       "    .dataframe tbody tr th:only-of-type {\n",
       "        vertical-align: middle;\n",
       "    }\n",
       "\n",
       "    .dataframe tbody tr th {\n",
       "        vertical-align: top;\n",
       "    }\n",
       "\n",
       "    .dataframe thead th {\n",
       "        text-align: right;\n",
       "    }\n",
       "</style>\n",
       "<table border=\"1\" class=\"dataframe\">\n",
       "  <thead>\n",
       "    <tr style=\"text-align: right;\">\n",
       "      <th></th>\n",
       "      <th>id</th>\n",
       "      <th>sexo</th>\n",
       "      <th>estudios</th>\n",
       "      <th>edad</th>\n",
       "      <th>altura_cm</th>\n",
       "      <th>peso_kg</th>\n",
       "      <th>imc</th>\n",
       "      <th>horas_estudio_semana</th>\n",
       "      <th>tazas_cafe_dia</th>\n",
       "      <th>sueno_horas</th>\n",
       "      <th>...</th>\n",
       "      <th>trabajo_parcial</th>\n",
       "      <th>fumador</th>\n",
       "      <th>pasos_dia</th>\n",
       "      <th>pantalla_horas</th>\n",
       "      <th>satisfaccion</th>\n",
       "      <th>fecha_alta</th>\n",
       "      <th>examenes_realizados</th>\n",
       "      <th>ausencias</th>\n",
       "      <th>cohorte</th>\n",
       "      <th>dispositivo</th>\n",
       "    </tr>\n",
       "  </thead>\n",
       "  <tbody>\n",
       "    <tr>\n",
       "      <th>0</th>\n",
       "      <td>1</td>\n",
       "      <td>Mujer</td>\n",
       "      <td>ASIR</td>\n",
       "      <td>34.0</td>\n",
       "      <td>168.1</td>\n",
       "      <td>80.8</td>\n",
       "      <td>28.6</td>\n",
       "      <td>12.5</td>\n",
       "      <td>2</td>\n",
       "      <td>9.6</td>\n",
       "      <td>...</td>\n",
       "      <td>True</td>\n",
       "      <td>False</td>\n",
       "      <td>6376.0</td>\n",
       "      <td>2.2</td>\n",
       "      <td>4.0</td>\n",
       "      <td>2025-04-11</td>\n",
       "      <td>10</td>\n",
       "      <td>3</td>\n",
       "      <td>2024</td>\n",
       "      <td>Móvil</td>\n",
       "    </tr>\n",
       "    <tr>\n",
       "      <th>1</th>\n",
       "      <td>2</td>\n",
       "      <td>Hombre</td>\n",
       "      <td>Ciberseguridad</td>\n",
       "      <td>26.0</td>\n",
       "      <td>172.8</td>\n",
       "      <td>76.5</td>\n",
       "      <td>25.6</td>\n",
       "      <td>14.0</td>\n",
       "      <td>2</td>\n",
       "      <td>7.3</td>\n",
       "      <td>...</td>\n",
       "      <td>False</td>\n",
       "      <td>True</td>\n",
       "      <td>9868.0</td>\n",
       "      <td>4.8</td>\n",
       "      <td>1.0</td>\n",
       "      <td>2025-02-15</td>\n",
       "      <td>10</td>\n",
       "      <td>2</td>\n",
       "      <td>2024</td>\n",
       "      <td>Portátil</td>\n",
       "    </tr>\n",
       "    <tr>\n",
       "      <th>2</th>\n",
       "      <td>3</td>\n",
       "      <td>Mujer</td>\n",
       "      <td>DAW</td>\n",
       "      <td>28.0</td>\n",
       "      <td>171.6</td>\n",
       "      <td>79.6</td>\n",
       "      <td>27.0</td>\n",
       "      <td>7.2</td>\n",
       "      <td>1</td>\n",
       "      <td>7.6</td>\n",
       "      <td>...</td>\n",
       "      <td>False</td>\n",
       "      <td>False</td>\n",
       "      <td>11002.0</td>\n",
       "      <td>5.6</td>\n",
       "      <td>NaN</td>\n",
       "      <td>2024-02-03</td>\n",
       "      <td>4</td>\n",
       "      <td>4</td>\n",
       "      <td>2024</td>\n",
       "      <td>Móvil</td>\n",
       "    </tr>\n",
       "    <tr>\n",
       "      <th>3</th>\n",
       "      <td>4</td>\n",
       "      <td>Mujer</td>\n",
       "      <td>DAM</td>\n",
       "      <td>25.0</td>\n",
       "      <td>177.8</td>\n",
       "      <td>55.1</td>\n",
       "      <td>17.4</td>\n",
       "      <td>12.2</td>\n",
       "      <td>0</td>\n",
       "      <td>5.7</td>\n",
       "      <td>...</td>\n",
       "      <td>True</td>\n",
       "      <td>False</td>\n",
       "      <td>7620.0</td>\n",
       "      <td>8.7</td>\n",
       "      <td>1.0</td>\n",
       "      <td>2024-02-20</td>\n",
       "      <td>3</td>\n",
       "      <td>3</td>\n",
       "      <td>2023</td>\n",
       "      <td>Portátil</td>\n",
       "    </tr>\n",
       "    <tr>\n",
       "      <th>4</th>\n",
       "      <td>5</td>\n",
       "      <td>Hombre</td>\n",
       "      <td>DAM</td>\n",
       "      <td>24.0</td>\n",
       "      <td>178.1</td>\n",
       "      <td>76.0</td>\n",
       "      <td>24.0</td>\n",
       "      <td>15.4</td>\n",
       "      <td>2</td>\n",
       "      <td>5.5</td>\n",
       "      <td>...</td>\n",
       "      <td>False</td>\n",
       "      <td>False</td>\n",
       "      <td>5559.0</td>\n",
       "      <td>5.2</td>\n",
       "      <td>1.0</td>\n",
       "      <td>2025-02-06</td>\n",
       "      <td>4</td>\n",
       "      <td>1</td>\n",
       "      <td>2025</td>\n",
       "      <td>Portátil</td>\n",
       "    </tr>\n",
       "  </tbody>\n",
       "</table>\n",
       "<p>5 rows × 24 columns</p>\n",
       "</div>"
      ],
      "text/plain": [
       "   id    sexo        estudios  edad  altura_cm  peso_kg   imc  \\\n",
       "0   1   Mujer            ASIR  34.0      168.1     80.8  28.6   \n",
       "1   2  Hombre  Ciberseguridad  26.0      172.8     76.5  25.6   \n",
       "2   3   Mujer             DAW  28.0      171.6     79.6  27.0   \n",
       "3   4   Mujer             DAM  25.0      177.8     55.1  17.4   \n",
       "4   5  Hombre             DAM  24.0      178.1     76.0  24.0   \n",
       "\n",
       "   horas_estudio_semana  tazas_cafe_dia  sueno_horas  ...  trabajo_parcial  \\\n",
       "0                  12.5               2          9.6  ...             True   \n",
       "1                  14.0               2          7.3  ...            False   \n",
       "2                   7.2               1          7.6  ...            False   \n",
       "3                  12.2               0          5.7  ...             True   \n",
       "4                  15.4               2          5.5  ...            False   \n",
       "\n",
       "   fumador pasos_dia  pantalla_horas  satisfaccion  fecha_alta  \\\n",
       "0    False    6376.0             2.2           4.0  2025-04-11   \n",
       "1     True    9868.0             4.8           1.0  2025-02-15   \n",
       "2    False   11002.0             5.6           NaN  2024-02-03   \n",
       "3    False    7620.0             8.7           1.0  2024-02-20   \n",
       "4    False    5559.0             5.2           1.0  2025-02-06   \n",
       "\n",
       "   examenes_realizados  ausencias  cohorte dispositivo  \n",
       "0                   10          3     2024       Móvil  \n",
       "1                   10          2     2024    Portátil  \n",
       "2                    4          4     2024       Móvil  \n",
       "3                    3          3     2023    Portátil  \n",
       "4                    4          1     2025    Portátil  \n",
       "\n",
       "[5 rows x 24 columns]"
      ]
     },
     "execution_count": 3,
     "metadata": {},
     "output_type": "execute_result"
    }
   ],
   "source": [
    "\n",
    "# Intenta cargar el CSV desde la carpeta actual\n",
    "from pathlib import Path\n",
    "\n",
    "posibles = [Path(\"dataset_estadistica_basica.csv\")]\n",
    "ruta = None\n",
    "for p in posibles:\n",
    "    if p.exists():\n",
    "        ruta = p\n",
    "        break\n",
    "\n",
    "assert ruta is not None, \"No se encontró el CSV. Coloca 'dataset_estadistica_basica.csv' junto al cuaderno.\"\n",
    "df = pd.read_csv(ruta, parse_dates=[\"fecha_alta\"])\n",
    "df.head()\n"
   ]
  },
  {
   "cell_type": "markdown",
   "id": "00c951a6",
   "metadata": {},
   "source": [
    "\n",
    "### Contexto del dataset\n",
    "- Filas duplicadas intencionadas (2).\n",
    "- ~3% de valores perdidos en algunas columnas.\n",
    "- Outliers en `edad` (>80) y `nota` (<0 o >10).\n",
    "\n",
    "**Tarea 1.1**: Inspecciona el dataset: tipos, valores perdidos y duplicados.\n"
   ]
  },
  {
   "cell_type": "code",
   "execution_count": 4,
   "id": "b1bc00d4",
   "metadata": {},
   "outputs": [
    {
     "name": "stdout",
     "output_type": "stream",
     "text": [
      "<class 'pandas.core.frame.DataFrame'>\n",
      "RangeIndex: 20 entries, 0 to 19\n",
      "Data columns (total 24 columns):\n",
      " #   Column                Non-Null Count  Dtype         \n",
      "---  ------                --------------  -----         \n",
      " 0   id                    20 non-null     int64         \n",
      " 1   sexo                  20 non-null     object        \n",
      " 2   estudios              20 non-null     object        \n",
      " 3   edad                  19 non-null     float64       \n",
      " 4   altura_cm             18 non-null     float64       \n",
      " 5   peso_kg               18 non-null     float64       \n",
      " 6   imc                   20 non-null     float64       \n",
      " 7   horas_estudio_semana  20 non-null     float64       \n",
      " 8   tazas_cafe_dia        20 non-null     int64         \n",
      " 9   sueno_horas           20 non-null     float64       \n",
      " 10  nota                  20 non-null     float64       \n",
      " 11  aprobado              20 non-null     bool          \n",
      " 12  ciudad                20 non-null     object        \n",
      " 13  ingresos_familiares   20 non-null     float64       \n",
      " 14  trabajo_parcial       20 non-null     bool          \n",
      " 15  fumador               20 non-null     bool          \n",
      " 16  pasos_dia             20 non-null     float64       \n",
      " 17  pantalla_horas        18 non-null     float64       \n",
      " 18  satisfaccion          18 non-null     float64       \n",
      " 19  fecha_alta            20 non-null     datetime64[ns]\n",
      " 20  examenes_realizados   20 non-null     int64         \n",
      " 21  ausencias             20 non-null     int64         \n",
      " 22  cohorte               20 non-null     int64         \n",
      " 23  dispositivo           20 non-null     object        \n",
      "dtypes: bool(3), datetime64[ns](1), float64(11), int64(5), object(4)\n",
      "memory usage: 3.5+ KB\n"
     ]
    },
    {
     "data": {
      "text/plain": [
       "(peso_kg                 0.10\n",
       " altura_cm               0.10\n",
       " pantalla_horas          0.10\n",
       " satisfaccion            0.10\n",
       " edad                    0.05\n",
       " sexo                    0.00\n",
       " estudios                0.00\n",
       " id                      0.00\n",
       " horas_estudio_semana    0.00\n",
       " imc                     0.00\n",
       " tazas_cafe_dia          0.00\n",
       " sueno_horas             0.00\n",
       " ciudad                  0.00\n",
       " ingresos_familiares     0.00\n",
       " nota                    0.00\n",
       " aprobado                0.00\n",
       " fumador                 0.00\n",
       " trabajo_parcial         0.00\n",
       " pasos_dia               0.00\n",
       " fecha_alta              0.00\n",
       " examenes_realizados     0.00\n",
       " ausencias               0.00\n",
       " cohorte                 0.00\n",
       " dispositivo             0.00\n",
       " dtype: float64,\n",
       " np.int64(0))"
      ]
     },
     "execution_count": 4,
     "metadata": {},
     "output_type": "execute_result"
    }
   ],
   "source": [
    "\n",
    "# 👉 COMPLETA: inspección inicial\n",
    "# 1) Información general\n",
    "info_df = df.info()\n",
    "\n",
    "# 2) % de NA por columna (pista: df.isna().mean())\n",
    "na_pct = df.isna().mean().sort_values(ascending=False)\n",
    "\n",
    "# 3) Número de duplicados (pista: df.duplicated().sum())\n",
    "n_dups = df.duplicated().sum()\n",
    "\n",
    "na_pct, n_dups\n"
   ]
  },
  {
   "cell_type": "markdown",
   "id": "002265dd",
   "metadata": {},
   "source": [
    "\n",
    "### Limpieza opcional\n",
    "Para algunos ejercicios compararemos resultados **antes y después** de limpiar outliers y duplicados.\n",
    "\n",
    "**Tarea 1.2**: Crea `df_clean` eliminando duplicados y marcando como NA los outliers:\n",
    "- `nota` fuera de \\[0,10]\n",
    "- `edad` > 80\n"
   ]
  },
  {
   "cell_type": "code",
   "execution_count": 5,
   "id": "a8a91562",
   "metadata": {},
   "outputs": [
    {
     "data": {
      "text/html": [
       "<div>\n",
       "<style scoped>\n",
       "    .dataframe tbody tr th:only-of-type {\n",
       "        vertical-align: middle;\n",
       "    }\n",
       "\n",
       "    .dataframe tbody tr th {\n",
       "        vertical-align: top;\n",
       "    }\n",
       "\n",
       "    .dataframe thead th {\n",
       "        text-align: right;\n",
       "    }\n",
       "</style>\n",
       "<table border=\"1\" class=\"dataframe\">\n",
       "  <thead>\n",
       "    <tr style=\"text-align: right;\">\n",
       "      <th></th>\n",
       "      <th>edad</th>\n",
       "      <th>nota</th>\n",
       "    </tr>\n",
       "  </thead>\n",
       "  <tbody>\n",
       "    <tr>\n",
       "      <th>count</th>\n",
       "      <td>19.000</td>\n",
       "      <td>18.000</td>\n",
       "    </tr>\n",
       "    <tr>\n",
       "      <th>mean</th>\n",
       "      <td>25.526</td>\n",
       "      <td>6.761</td>\n",
       "    </tr>\n",
       "    <tr>\n",
       "      <th>std</th>\n",
       "      <td>5.157</td>\n",
       "      <td>1.713</td>\n",
       "    </tr>\n",
       "    <tr>\n",
       "      <th>min</th>\n",
       "      <td>18.000</td>\n",
       "      <td>2.550</td>\n",
       "    </tr>\n",
       "    <tr>\n",
       "      <th>25%</th>\n",
       "      <td>21.500</td>\n",
       "      <td>6.070</td>\n",
       "    </tr>\n",
       "    <tr>\n",
       "      <th>50%</th>\n",
       "      <td>26.000</td>\n",
       "      <td>6.565</td>\n",
       "    </tr>\n",
       "    <tr>\n",
       "      <th>75%</th>\n",
       "      <td>28.500</td>\n",
       "      <td>7.947</td>\n",
       "    </tr>\n",
       "    <tr>\n",
       "      <th>max</th>\n",
       "      <td>34.000</td>\n",
       "      <td>9.770</td>\n",
       "    </tr>\n",
       "  </tbody>\n",
       "</table>\n",
       "</div>"
      ],
      "text/plain": [
       "         edad    nota\n",
       "count  19.000  18.000\n",
       "mean   25.526   6.761\n",
       "std     5.157   1.713\n",
       "min    18.000   2.550\n",
       "25%    21.500   6.070\n",
       "50%    26.000   6.565\n",
       "75%    28.500   7.947\n",
       "max    34.000   9.770"
      ]
     },
     "execution_count": 5,
     "metadata": {},
     "output_type": "execute_result"
    }
   ],
   "source": [
    "\n",
    "# 👉 COMPLETA: crea df_clean a partir de df\n",
    "df_clean = df.copy()\n",
    "\n",
    "# Elimina duplicados\n",
    "df_clean = df_clean.drop_duplicates()\n",
    "\n",
    "# Marca como NA outliers en nota y edad\n",
    "df_clean.loc[(df_clean[\"nota\"] < 0) | (df_clean[\"nota\"] > 10), \"nota\"] = pd.NA\n",
    "df_clean.loc[df_clean[\"edad\"] > 80, \"edad\"] = pd.NA\n",
    "\n",
    "df_clean[[\"edad\",\"nota\"]].describe(include=\"all\")\n"
   ]
  },
  {
   "cell_type": "markdown",
   "id": "4ee66f74",
   "metadata": {},
   "source": [
    "\n",
    "## 2. Medidas de tendencia central\n",
    "\n",
    "Trabajaremos con la variable `nota` (y compararemos con `df_clean`).\n",
    "\n",
    "**Tarea 2.1**: Calcula para `nota` en `df`:\n",
    "- Media (`media_nota`)\n",
    "- Mediana (`mediana_nota`)\n",
    "- Moda (`moda_nota`)  \\*si hay varias, quédate con la menor\n",
    "- Rango medio (`rango_medio_nota`) = (máximo + mínimo) / 2\n",
    "\n",
    "Repite lo mismo para `df_clean` y compáralo.\n"
   ]
  },
  {
   "cell_type": "code",
   "execution_count": 6,
   "id": "2e79a073",
   "metadata": {},
   "outputs": [
    {
     "name": "stdout",
     "output_type": "stream",
     "text": [
      "media de nota 7.2090000000000005\n",
      "mediana de nota 6.79\n",
      "moda de edad 0    18.0\n",
      "1    28.0\n",
      "Name: edad, dtype: float64\n",
      "rango medio de edad 26.0\n"
     ]
    }
   ],
   "source": [
    "\n",
    "# 👉 COMPLETA: tendencia central en df\n",
    "print(\"media de nota\", df[\"nota\"].mean())\n",
    "print(\"mediana de nota\", df[\"nota\"].median())\n",
    "print(\"moda de edad\", df[\"edad\"].mode())\n",
    "print(\"rango medio de edad\", (df[\"edad\"].max() + df[\"edad\"].min()) / 2)\n"
   ]
  },
  {
   "cell_type": "code",
   "execution_count": 8,
   "id": "a7849bd2",
   "metadata": {},
   "outputs": [
    {
     "name": "stdout",
     "output_type": "stream",
     "text": [
      "media de nota 6.761111111111111\n",
      "mediana de nota 6.565\n",
      "moda de edad 0    18.0\n",
      "1    28.0\n",
      "Name: edad, dtype: float64\n",
      "rango medio de edad 26.0\n"
     ]
    }
   ],
   "source": [
    "\n",
    "# 👉 COMPLETA: tendencia central en df_clean\n",
    "print(\"media de nota\", df_clean[\"nota\"].mean())\n",
    "print(\"mediana de nota\", df_clean[\"nota\"].median())\n",
    "print(\"moda de edad\", df_clean[\"edad\"].mode())\n",
    "print(\"rango medio de edad\", (df_clean[\"edad\"].max() + df_clean[\"edad\"].min()) / 2)"
   ]
  },
  {
   "cell_type": "markdown",
   "id": "7fb38b1a",
   "metadata": {},
   "source": [
    "\n",
    "### Verificación rápida\n",
    "Comprobamos que la mediana de `df_clean` esté más cerca de la media que en `df` (suele pasar cuando quitamos outliers extremos).\n"
   ]
  },
  {
   "cell_type": "code",
   "execution_count": 16,
   "id": "176f14be",
   "metadata": {},
   "outputs": [
    {
     "name": "stdout",
     "output_type": "stream",
     "text": [
      "Diferencia media - mediana:  0.4190000000000005\n",
      "Diferencia media - mediana clean:  0.19611111111111068\n"
     ]
    }
   ],
   "source": [
    "df_clean.dropna()\n",
    "media = df[\"nota\"].mean()\n",
    "mediana = df[\"nota\"].median()\n",
    "print(\"Diferencia media - mediana: \", media - mediana)\n",
    "\n",
    "media_clean = df_clean[\"nota\"].mean()\n",
    "mediana_clean = df_clean[\"nota\"].median()\n",
    "print(\"Diferencia media - mediana clean: \", media_clean - mediana_clean)\n"
   ]
  },
  {
   "cell_type": "markdown",
   "id": "23b4c9e9",
   "metadata": {},
   "source": [
    "\n",
    "## 3. Medidas de dispersión\n",
    "\n",
    "**Tarea 3.1**: Para `nota` en `df_clean`, calcula:\n",
    "- Rango (`max - min`)\n",
    "- Cuartiles Q1, Q2, Q3 (25%, 50%, 75%)\n",
    "- Rango intercuartílico (IQR = Q3 - Q1)\n",
    "- Varianza muestral y poblacional (usa `ddof=1` y `ddof=0`)\n",
    "- Desviación estándar muestral\n",
    "\n",
    "Luego repite para `horas_estudio_semana` y compara.\n"
   ]
  },
  {
   "cell_type": "code",
   "execution_count": 30,
   "id": "78919294",
   "metadata": {},
   "outputs": [
    {
     "name": "stdout",
     "output_type": "stream",
     "text": [
      "Cuartiles:\n",
      "0.25    21.5\n",
      "0.50    26.0\n",
      "0.75    28.5\n",
      "Name: edad, dtype: float64\n",
      "Desviación estándar:  1.7133142594497914\n"
     ]
    }
   ],
   "source": [
    "print(\"Cuartiles:\")\n",
    "print(df_clean[\"edad\"].quantile([0.25, 0.5, 0.75]))\n",
    "print(\"Desviación estándar: \", df_clean[\"nota\"].std())\n"
   ]
  },
  {
   "cell_type": "code",
   "execution_count": null,
   "id": "3284edf8",
   "metadata": {},
   "outputs": [
    {
     "data": {
      "text/plain": [
       "(np.float64(20.900000000000002),\n",
       " 8.4,\n",
       " 12.45,\n",
       " 17.925,\n",
       " 9.525,\n",
       " np.float64(36.27),\n",
       " np.float64(38.178947368421056),\n",
       " np.float64(6.178911503527224))"
      ]
     },
     "execution_count": 11,
     "metadata": {},
     "output_type": "execute_result"
    }
   ],
   "source": [
    "\n",
    "# 👉 COMPLETA: repite para 'horas_estudio_semana'\n",
    "y = df_clean[\"horas_estudio_semana\"].dropna()\n",
    "\n"
   ]
  },
  {
   "cell_type": "markdown",
   "id": "2c690405",
   "metadata": {},
   "source": [
    "\n",
    "## 4. Visualizaciones rápidas (matplotlib)\n",
    "\n",
    "Genera un histograma y un boxplot para `nota` en `df` y en `df_clean` y compara la forma.\n"
   ]
  },
  {
   "cell_type": "code",
   "execution_count": 12,
   "id": "09acf7ac",
   "metadata": {},
   "outputs": [
    {
     "data": {
      "image/png": "[encoded data removed]",
      "text/plain": [
       "<Figure size 640x480 with 1 Axes>"
      ]
     },
     "metadata": {},
     "output_type": "display_data"
    }
   ],
   "source": [
    "\n",
    "# Histograma de notas (raw)\n",
    "plt.figure()\n",
    "df[\"nota\"].hist(bins=20)\n",
    "plt.title(\"Distribución de 'nota' (raw)\")\n",
    "plt.xlabel(\"nota\")\n",
    "plt.ylabel(\"frecuencia\")\n",
    "plt.show()\n"
   ]
  },
  {
   "cell_type": "code",
   "execution_count": 13,
   "id": "eddf7c35",
   "metadata": {},
   "outputs": [
    {
     "data": {
      "image/png": "[encoded data removed]",
      "text/plain": [
       "<Figure size 640x480 with 1 Axes>"
      ]
     },
     "metadata": {},
     "output_type": "display_data"
    }
   ],
   "source": [
    "\n",
    "# Histograma de notas (clean)\n",
    "plt.figure()\n",
    "df_clean[\"nota\"].hist(bins=20)\n",
    "plt.title(\"Distribución de 'nota' (clean)\")\n",
    "plt.xlabel(\"nota\")\n",
    "plt.ylabel(\"frecuencia\")\n",
    "plt.show()\n"
   ]
  },
  {
   "cell_type": "code",
   "execution_count": 14,
   "id": "16dbbb98",
   "metadata": {},
   "outputs": [
    {
     "data": {
      "text/plain": [
       "<Figure size 640x480 with 0 Axes>"
      ]
     },
     "metadata": {},
     "output_type": "display_data"
    },
    {
     "data": {
      "image/png": "[encoded data removed]",
      "text/plain": [
       "<Figure size 640x480 with 1 Axes>"
      ]
     },
     "metadata": {},
     "output_type": "display_data"
    }
   ],
   "source": [
    "\n",
    "# Boxplot de 'nota' por 'estudios' (clean)\n",
    "plt.figure()\n",
    "df_clean.boxplot(column=\"nota\", by=\"estudios\", rot=45)\n",
    "plt.title(\"Boxplot de nota por estudios (clean)\")\n",
    "plt.suptitle(\"\")\n",
    "plt.xlabel(\"estudios\")\n",
    "plt.ylabel(\"nota\")\n",
    "plt.show()\n"
   ]
  },
  {
   "cell_type": "markdown",
   "id": "cda9901e",
   "metadata": {},
   "source": [
    "\n",
    "## 5. Función de resumen\n",
    "\n",
    "**Tarea 5.1**: Implementa una función `resumen_medidas(s)` que devuelva un diccionario con:\n",
    "- media, mediana, moda, rango_medio\n",
    "- rango, Q1, Q2, Q3, IQR\n",
    "- varianza_muestral, std_muestral\n",
    "\n",
    "Pruébala con `nota` y `horas_estudio_semana` en `df_clean`.\n"
   ]
  },
  {
   "cell_type": "code",
   "execution_count": 15,
   "id": "619159d4",
   "metadata": {},
   "outputs": [
    {
     "data": {
      "text/plain": [
       "({'media': 6.761111111111111,\n",
       "  'mediana': 6.565,\n",
       "  'moda': 2.55,\n",
       "  'rango_medio': 6.16,\n",
       "  'rango': 7.22,\n",
       "  'Q1': 6.07,\n",
       "  'Q2': 6.565,\n",
       "  'Q3': 7.9475,\n",
       "  'IQR': 1.8774999999999995,\n",
       "  'var_muestral': 2.935445751633987,\n",
       "  'std_muestral': 1.7133142594497914},\n",
       " {'media': 12.8,\n",
       "  'mediana': 12.45,\n",
       "  'moda': 7.2,\n",
       "  'rango_medio': 11.65,\n",
       "  'rango': 20.900000000000002,\n",
       "  'Q1': 8.4,\n",
       "  'Q2': 12.45,\n",
       "  'Q3': 17.925,\n",
       "  'IQR': 9.525,\n",
       "  'var_muestral': 38.178947368421056,\n",
       "  'std_muestral': 6.178911503527224})"
      ]
     },
     "execution_count": 15,
     "metadata": {},
     "output_type": "execute_result"
    }
   ],
   "source": [
    "\n",
    "# 👉 COMPLETA: función resumen\n",
    "def resumen_medidas(s):\n",
    "    s = s.dropna()\n",
    "    media = s.mean()\n",
    "    mediana = s.median()\n",
    "    mode_vals = s.mode()\n",
    "    moda = mode_vals.min() if not mode_vals.empty else np.nan\n",
    "    rango_medio = (s.max() + s.min()) / 2\n",
    "    rango = s.max() - s.min()\n",
    "    q1, q2, q3 = s.quantile([0.25, 0.5, 0.75])\n",
    "    iqr = q3 - q1\n",
    "    var_m = s.var(ddof=1)\n",
    "    std_m = s.std(ddof=1)\n",
    "    return {\n",
    "        \"media\": float(media),\n",
    "        \"mediana\": float(mediana),\n",
    "        \"moda\": float(moda) if pd.api.types.is_numeric_dtype(s) else moda,\n",
    "        \"rango_medio\": float(rango_medio),\n",
    "        \"rango\": float(rango),\n",
    "        \"Q1\": float(q1), \"Q2\": float(q2), \"Q3\": float(q3),\n",
    "        \"IQR\": float(iqr),\n",
    "        \"var_muestral\": float(var_m),\n",
    "        \"std_muestral\": float(std_m),\n",
    "    }\n",
    "\n",
    "resumen_medidas(df_clean[\"nota\"]), resumen_medidas(df_clean[\"horas_estudio_semana\"])\n"
   ]
  },
  {
   "cell_type": "markdown",
   "id": "263af103",
   "metadata": {},
   "source": [
    "\n",
    "## 6. Ejercicio aplicado\n",
    "\n",
    "Elabora un **miniinforme** (máx. 5 líneas) comparando `nota` entre grupos de `estudios`:\n",
    "1. Calcula la media y la desviación estándar de `nota` por `estudios` (en `df_clean`).\n",
    "2. Ordena de mayor a menor media.\n",
    "3. Interpreta brevemente si hay diferencias relevantes y si la dispersión es similar.\n",
    "\n"
   ]
  },
  {
   "cell_type": "code",
   "execution_count": 16,
   "id": "c3dd708b",
   "metadata": {},
   "outputs": [
    {
     "data": {
      "text/html": [
       "<div>\n",
       "<style scoped>\n",
       "    .dataframe tbody tr th:only-of-type {\n",
       "        vertical-align: middle;\n",
       "    }\n",
       "\n",
       "    .dataframe tbody tr th {\n",
       "        vertical-align: top;\n",
       "    }\n",
       "\n",
       "    .dataframe thead th {\n",
       "        text-align: right;\n",
       "    }\n",
       "</style>\n",
       "<table border=\"1\" class=\"dataframe\">\n",
       "  <thead>\n",
       "    <tr style=\"text-align: right;\">\n",
       "      <th></th>\n",
       "      <th>media</th>\n",
       "      <th>std</th>\n",
       "      <th>n</th>\n",
       "    </tr>\n",
       "    <tr>\n",
       "      <th>estudios</th>\n",
       "      <th></th>\n",
       "      <th></th>\n",
       "      <th></th>\n",
       "    </tr>\n",
       "  </thead>\n",
       "  <tbody>\n",
       "    <tr>\n",
       "      <th>DAW</th>\n",
       "      <td>8.733</td>\n",
       "      <td>0.931</td>\n",
       "      <td>3</td>\n",
       "    </tr>\n",
       "    <tr>\n",
       "      <th>ASIR</th>\n",
       "      <td>7.950</td>\n",
       "      <td>0.113</td>\n",
       "      <td>2</td>\n",
       "    </tr>\n",
       "    <tr>\n",
       "      <th>Ciberseguridad</th>\n",
       "      <td>6.940</td>\n",
       "      <td>1.329</td>\n",
       "      <td>2</td>\n",
       "    </tr>\n",
       "    <tr>\n",
       "      <th>Data Science</th>\n",
       "      <td>6.380</td>\n",
       "      <td>0.085</td>\n",
       "      <td>2</td>\n",
       "    </tr>\n",
       "    <tr>\n",
       "      <th>DAM</th>\n",
       "      <td>5.884</td>\n",
       "      <td>1.754</td>\n",
       "      <td>9</td>\n",
       "    </tr>\n",
       "  </tbody>\n",
       "</table>\n",
       "</div>"
      ],
      "text/plain": [
       "                media    std  n\n",
       "estudios                       \n",
       "DAW             8.733  0.931  3\n",
       "ASIR            7.950  0.113  2\n",
       "Ciberseguridad  6.940  1.329  2\n",
       "Data Science    6.380  0.085  2\n",
       "DAM             5.884  1.754  9"
      ]
     },
     "execution_count": 16,
     "metadata": {},
     "output_type": "execute_result"
    }
   ],
   "source": [
    "\n",
    "# 👉 COMPLETA: comparativa por estudios\n",
    "tabla = (df_clean.groupby(\"estudios\")[\"nota\"]\n",
    "         .agg(media=\"mean\", std=\"std\", n=\"count\")\n",
    "         .sort_values(\"media\", ascending=False))\n",
    "tabla\n"
   ]
  },
  {
   "cell_type": "markdown",
   "id": "1e897590",
   "metadata": {},
   "source": [
    "\n",
    "---\n",
    "\n",
    "### Notas\n",
    "- La media es sensible a outliers; la mediana es más robusta.\n",
    "- El IQR mide la dispersión del 50% central de los datos.\n",
    "- Varianza muestral usa `ddof=1` (insesgada para muestras).\n"
   ]
  }
 ],
 "metadata": {
  "kernelspec": {
   "display_name": "Python 3",
   "language": "python",
   "name": "python3"
  },
  "language_info": {
   "codemirror_mode": {
    "name": "ipython",
    "version": 3
   },
   "file_extension": ".py",
   "mimetype": "text/x-python",
   "name": "python",
   "nbconvert_exporter": "python",
   "pygments_lexer": "ipython3",
   "version": "3.11.1"
  }
 },
 "nbformat": 4,
 "nbformat_minor": 5
}
