{
 "cells": [
  {
   "cell_type": "markdown",
   "id": "b06e5eed",
   "metadata": {},
   "source": [
    "# PRÁCTICA DE LIMPIEZA DE DATOS "
   ]
  },
  {
   "cell_type": "markdown",
   "id": "c8798446",
   "metadata": {},
   "source": [
    "Importamos pyspark."
   ]
  },
  {
   "cell_type": "code",
   "execution_count": 1,
   "id": "a452db78",
   "metadata": {},
   "outputs": [
    {
     "data": {
      "text/html": [
       "\n",
       "            <div>\n",
       "                <p><b>SparkSession - in-memory</b></p>\n",
       "                \n",
       "        <div>\n",
       "            <p><b>SparkContext</b></p>\n",
       "\n",
       "            <p><a href=\"http://3MASANZ-A21E14:4040\">Spark UI</a></p>\n",
       "\n",
       "            <dl>\n",
       "              <dt>Version</dt>\n",
       "                <dd><code>v4.0.1</code></dd>\n",
       "              <dt>Master</dt>\n",
       "                <dd><code>local[*]</code></dd>\n",
       "              <dt>AppName</dt>\n",
       "                <dd><code>Fish</code></dd>\n",
       "            </dl>\n",
       "        </div>\n",
       "        \n",
       "            </div>\n",
       "        "
      ],
      "text/plain": [
       "<pyspark.sql.session.SparkSession at 0x1472d55d810>"
      ]
     },
     "execution_count": 1,
     "metadata": {},
     "output_type": "execute_result"
    }
   ],
   "source": [
    "# Importaciones\n",
    "import pyspark\n",
    "from pyspark.sql import SparkSession, functions as F, types as T\n",
    "\n",
    "spark = SparkSession.builder.appName(\"Fish\").getOrCreate()\n",
    "spark"
   ]
  },
  {
   "cell_type": "markdown",
   "id": "e04359a5",
   "metadata": {},
   "source": [
    "Leemos el csv para guardarlo en la variable df."
   ]
  },
  {
   "cell_type": "code",
   "execution_count": 2,
   "id": "6cd0cb03",
   "metadata": {},
   "outputs": [],
   "source": [
    "df = (spark.read\n",
    "      .option(\"header\", True)\n",
    "      .option(\"inferSchema\", True)\n",
    "      .csv(\"Fish.csv\"))"
   ]
  },
  {
   "cell_type": "code",
   "execution_count": 3,
   "id": "0913608a",
   "metadata": {},
   "outputs": [
    {
     "name": "stdout",
     "output_type": "stream",
     "text": [
      "root\n",
      " |-- Species: string (nullable = true)\n",
      " |-- Weight: double (nullable = true)\n",
      " |-- Length1: double (nullable = true)\n",
      " |-- Length2: double (nullable = true)\n",
      " |-- Length3: double (nullable = true)\n",
      " |-- Height: double (nullable = true)\n",
      " |-- Width: double (nullable = true)\n",
      "\n"
     ]
    }
   ],
   "source": [
    "df.printSchema()"
   ]
  },
  {
   "cell_type": "markdown",
   "id": "70503c65",
   "metadata": {},
   "source": [
    "Con show(5) mostramos las 5 primeras filas."
   ]
  },
  {
   "cell_type": "code",
   "execution_count": 5,
   "id": "fd87008f",
   "metadata": {},
   "outputs": [
    {
     "name": "stdout",
     "output_type": "stream",
     "text": [
      "+-------+------+-------+-------+-------+-------+------+\n",
      "|Species|Weight|Length1|Length2|Length3| Height| Width|\n",
      "+-------+------+-------+-------+-------+-------+------+\n",
      "|  Bream| 242.0|   23.2|   25.4|   30.0|  11.52|  4.02|\n",
      "|  Bream| 290.0|   24.0|   26.3|   31.2|  12.48|4.3056|\n",
      "|  Bream| 340.0|   23.9|   26.5|   31.1|12.3778|4.6961|\n",
      "|  Bream| 363.0|   26.3|   29.0|   33.5|  12.73|4.4555|\n",
      "|  Bream| 430.0|   26.5|   29.0|   34.0| 12.444| 5.134|\n",
      "+-------+------+-------+-------+-------+-------+------+\n",
      "only showing top 5 rows\n"
     ]
    }
   ],
   "source": [
    "df.show(5)"
   ]
  },
  {
   "cell_type": "markdown",
   "id": "6ffc242a",
   "metadata": {},
   "source": [
    "Sentencia parecida a SQL para ver el nº de nulos que hay en cada columna."
   ]
  },
  {
   "cell_type": "code",
   "execution_count": 6,
   "id": "3787eaaf",
   "metadata": {},
   "outputs": [
    {
     "name": "stdout",
     "output_type": "stream",
     "text": [
      "+-------+------+-------+-------+-------+------+-----+\n",
      "|Species|Weight|Length1|Length2|Length3|Height|Width|\n",
      "+-------+------+-------+-------+-------+------+-----+\n",
      "|      0|     0|      0|      0|      0|     0|    0|\n",
      "+-------+------+-------+-------+-------+------+-----+\n",
      "\n"
     ]
    }
   ],
   "source": [
    "nulos = df.select([F.sum(F.col(c).isNull().cast(\"int\")).alias(c) for c in df.columns])\n",
    "nulos.show()"
   ]
  },
  {
   "cell_type": "markdown",
   "id": "54e2abcf",
   "metadata": {},
   "source": [
    "Borramos los datos duplicados."
   ]
  },
  {
   "cell_type": "code",
   "execution_count": 7,
   "id": "85f8c94f",
   "metadata": {},
   "outputs": [
    {
     "data": {
      "text/plain": [
       "DataFrame[Species: string, Weight: double, Length1: double, Length2: double, Length3: double, Height: double, Width: double]"
      ]
     },
     "execution_count": 7,
     "metadata": {},
     "output_type": "execute_result"
    }
   ],
   "source": [
    "df.dropDuplicates()"
   ]
  },
  {
   "cell_type": "markdown",
   "id": "ace45c6f",
   "metadata": {},
   "source": [
    "Muestra datos del csv usando SQL."
   ]
  },
  {
   "cell_type": "code",
   "execution_count": null,
   "id": "730bf67c",
   "metadata": {},
   "outputs": [
    {
     "name": "stdout",
     "output_type": "stream",
     "text": [
      "+-------+------+-------+-------+-------+------+------+\n",
      "|Species|Weight|Length1|Length2|Length3|Height| Width|\n",
      "+-------+------+-------+-------+-------+------+------+\n",
      "|  Roach|  40.0|   12.9|   14.1|   16.2|4.1472| 2.268|\n",
      "| Parkki|  55.0|   13.5|   14.7|   16.5|6.8475|2.3265|\n",
      "| Parkki|  60.0|   14.3|   15.5|   17.4|6.5772|2.3142|\n",
      "|  Perch|   5.9|    7.5|    8.4|    8.8| 2.112| 1.408|\n",
      "|  Perch|  32.0|   12.5|   13.7|   14.7| 3.528|1.9992|\n",
      "|  Perch|  40.0|   13.8|   15.0|   16.0| 3.824| 2.432|\n",
      "|  Smelt|   6.7|    9.3|    9.8|   10.8|1.7388|1.0476|\n",
      "|  Smelt|   7.5|   10.0|   10.5|   11.6| 1.972|  1.16|\n",
      "|  Smelt|   7.0|   10.1|   10.6|   11.6|1.7284|1.1484|\n",
      "|  Smelt|   9.7|   10.4|   11.0|   12.0| 2.196|  1.38|\n",
      "|  Smelt|   9.8|   10.7|   11.2|   12.4|2.0832|1.2772|\n",
      "|  Smelt|   8.7|   10.8|   11.3|   12.6|1.9782|1.2852|\n",
      "|  Smelt|  10.0|   11.3|   11.8|   13.1|2.2139|1.2838|\n",
      "|  Smelt|   9.9|   11.3|   11.8|   13.1|2.2139|1.1659|\n",
      "|  Smelt|   9.8|   11.4|   12.0|   13.2|2.2044|1.1484|\n",
      "|  Smelt|  12.2|   11.5|   12.2|   13.4|2.0904|1.3936|\n",
      "|  Smelt|  13.4|   11.7|   12.4|   13.5|  2.43| 1.269|\n",
      "|  Smelt|  12.2|   12.1|   13.0|   13.8| 2.277|1.2558|\n",
      "|  Smelt|  19.7|   13.2|   14.3|   15.2|2.8728|2.0672|\n",
      "|  Smelt|  19.9|   13.8|   15.0|   16.2|2.9322|1.8792|\n",
      "+-------+------+-------+-------+-------+------+------+\n",
      "\n"
     ]
    }
   ],
   "source": [
    "df.createOrReplaceTempView(\"fish\")\n",
    "q1 = spark.sql(\"SELECT * FROM fish WHERE Length1 < 15\")\n",
    "q1.show()"
   ]
  }
 ],
 "metadata": {
  "kernelspec": {
   "display_name": "Python 3",
   "language": "python",
   "name": "python3"
  },
  "language_info": {
   "codemirror_mode": {
    "name": "ipython",
    "version": 3
   },
   "file_extension": ".py",
   "mimetype": "text/x-python",
   "name": "python",
   "nbconvert_exporter": "python",
   "pygments_lexer": "ipython3",
   "version": "3.11.1"
  }
 },
 "nbformat": 4,
 "nbformat_minor": 5
}
