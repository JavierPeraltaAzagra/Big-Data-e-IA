{
 "cells": [
  {
   "cell_type": "code",
   "execution_count": null,
   "id": "a8ca9179-150b-49a5-a7e3-f456ab68a7a5",
   "metadata": {},
   "outputs": [],
   "source": [
    "Ejercicios practica 1."
   ]
  },
  {
   "cell_type": "markdown",
   "id": "d714c190-5b93-42ef-9008-46a3f475578c",
   "metadata": {},
   "source": [
    "Función para graficar y analizar una variable numérica\n",
    "\n",
    "Objetivo\n",
    "\n",
    "Desarrollar una función en Python que permita representar gráficamente la distribución de una variable numérica de un conjunto de datos, utilizando un diagrama de caja (boxplot). Además, la función debe calcular y mostrar las principales estadísticas descriptivas de dicha variable.\n",
    "\n",
    "Instrucciones\n",
    "\n",
    "Crea una función llamada boxplot_variable(df, var) que reciba como parámetros:\n",
    "\n",
    "df: un DataFrame de pandas con los datos.\n",
    "\n",
    "var: una cadena (str) con el nombre de la columna numérica a analizar.\n",
    "\n",
    "Dentro de la función:\n",
    "\n",
    "Dibuja el boxplot de la variable seleccionada.\n",
    "\n",
    "Calcula las siguientes estadísticas y almacénalas en un diccionario vacío llamado stats:\n",
    "\n",
    "Primer cuartil (Q1)\n",
    "\n",
    "Tercer cuartil (Q3)\n",
    "\n",
    "Mediana (median)\n",
    "\n",
    "Media (mean)\n",
    "\n",
    "Mínimo (min)\n",
    "\n",
    "Máximo (max)\n",
    "\n",
    "Rango intercuartílico (IQR = Q3 - Q1)\n",
    "\n",
    "Límite inferior (Q1 - 1.5 * IQR)\n",
    "\n",
    "Límite superior (Q3 + 1.5 * IQR)\n",
    "\n",
    "Utiliza un bucle for para dibujar líneas horizontales en el gráfico que indiquen la media, mediana, máximo y mínimo, cada una con un color y estilo de línea diferente.\n",
    "\n",
    "Emplea otro bucle for para agregar textos en el gráfico con los valores de las estadísticas (Q1, Q3, máximo, mínimo y límites superior e inferior).\n",
    "\n",
    "Muestra la leyenda, activa la cuadrícula y presenta la figura.\n",
    "\n",
    "La función debe retornar el diccionario stats con las estadísticas calculadas.\n",
    "\n",
    "Ejemplo de uso:\n",
    "\n",
    "resultado = boxplot_variable(df, 'plas')\n",
    "print(resultado)\n",
    "Salida esperada:\n",
    "\n",
    "Un gráfico de caja con:\n",
    "\n",
    "Líneas horizontales que indican la media, mediana, máximo y mínimo.\n",
    "\n",
    "Textos con los valores de Q1, Q3, límites superior e inferior, etc.\n",
    "\n",
    "Leyenda y cuadrícula activadas.\n",
    "\n",
    "En consola, un diccionario con las estadísticas calculadas, por ejemplo:\n",
    "\n",
    "{\n",
    "  'Q1': 85.0,\n",
    "  'Q3': 140.0,\n",
    "  'median': 110.0,\n",
    "  'mean': 118.3,\n",
    "  'max': 200.0,\n",
    "  'min': 45.0,\n",
    "  'IQR': 55.0,\n",
    "  'lim_sup': 222.5,\n",
    "  'lim_inf': 2.5\n",
    "}\n"
   ]
  },
  {
   "cell_type": "markdown",
   "id": "e35384bb-3f5b-4632-8882-d9edaad8e242",
   "metadata": {},
   "source": [
    "Comparación de variables numéricas mediante boxplots\n",
    "\n",
    "**Objetivo**\n",
    "\n",
    "Desarrollar una función en Python que permita visualizar de manera comparativa la distribución de todas las variables numéricas de un conjunto de datos, utilizando un único gráfico de boxplots (diagramas de caja).\n",
    "\n",
    "Además, la función debe calcular las principales estadísticas descriptivas de cada variable, almacenándolas en un diccionario para su análisis posterior.\n",
    "\n",
    "**Instrucciones**\n",
    "\n",
    "Crea una función llamada boxplot_todas(df) que reciba como parámetro:\n",
    "\n",
    "df: un DataFrame de pandas.\n",
    "\n",
    "Dentro de la función:\n",
    "\n",
    "Identifica automáticamente todas las columnas numéricas del DataFrame usando select_dtypes(include=['number']).\n",
    "\n",
    "Crea un único gráfico de boxplots combinados con todas las variables numéricas.\n",
    "\n",
    "Calcula las siguientes estadísticas para cada variable y guárdalas en un diccionario llamado estadisticas (crea dos diccionarios, uno que guarda los diccionarios de estadísticas de cada variable (stats{}) y otro para guardar las estadísticas de cada variable (estadisticas{})):\n",
    "\n",
    "Primer cuartil (Q1)\n",
    "\n",
    "Tercer cuartil (Q3)\n",
    "\n",
    "Mediana (median)\n",
    "\n",
    "Media (mean)\n",
    "\n",
    "Mínimo (min)\n",
    "\n",
    "Máximo (max)\n",
    "\n",
    "Rango intercuartílico (IQR = Q3 - Q1)\n",
    "\n",
    "Límite inferior (Q1 - 1.5 * IQR)\n",
    "\n",
    "Límite superior (Q3 + 1.5 * IQR)\n",
    "\n",
    "La función debe retornar el diccionario estadisticas con todas las variables y sus valores calculados.\n",
    "\n",
    "resultados = boxplot_todas(df)\n",
    "\n",
    "Ejemplo de uso:\n",
    "\n",
    "```python\n",
    "# Mostrar resumen de estadísticas\n",
    "for var, stats in resultados.items():\n",
    "    print(f\"\\nEstadísticas de {var}:\")\n",
    "    for k, v in stats.items():\n",
    "        print(f\"  {k}: {v:.2f}\")\n",
    "```\n",
    "\n",
    "\n",
    "Salida esperada:\n",
    "\n",
    "Un gráfico único que muestre las cajas (boxplots) de todas las columnas numéricas del DataFrame.\n",
    "\n",
    "Cajas de color verde claro (lightgreen), una cuadrícula visible y etiquetas con los nombres de las variables.\n",
    "\n",
    "En consola, un diccionario con las estadísticas descriptivas de cada variable, por ejemplo:\n",
    "\n",
    "```python\n",
    "{\n",
    "  'plas': {'Q1': 84.0, 'Q3': 145.0, 'median': 109.0, 'mean': 118.7, 'max': 199.0, 'min': 40.0, 'IQR': 61.0, 'lim_sup': 236.5, 'lim_inf': -7.5},\n",
    "  'mass': {'Q1': 27.3, 'Q3': 36.6, 'median': 32.0, 'mean': 32.4, 'max': 50.0, 'min': 18.2, 'IQR': 9.3, 'lim_sup': 50.55, 'lim_inf': 13.35},\n",
    "  'age':  {'Q1': 22.0, 'Q3': 41.0, 'median': 29.0, 'mean': 33.2, 'max': 81.0, 'min': 21.0, 'IQR': 19.0, 'lim_sup': 69.5, 'lim_inf': -6.5}\n",
    "}\n",
    "```"
   ]
  },
  {
   "cell_type": "markdown",
   "id": "77aa457a",
   "metadata": {},
   "source": [
    "# Cuaderno de ejercicios: .loc, .iloc y .groupby con winequality-red\n",
    "\n",
    "En esta práctica trabajaremos con el archivo **`winequality-red.csv`** para convertirlo a un `DataFrame` de pandas.\n",
    "\n",
    "**Instrucciones:**\n",
    "1. Ejecuta la celda de código siguiente para cargar el archivo en un `DataFrame` llamado `df`.\n",
    "2. Verifica que las columnas coinciden con la tabla de variables y que los tipos son razonables.\n",
    "3. A continuación encontrarás los 30 ejercicios: 10 de `.loc`, 10 de `.iloc` y 10 de `groupby`.\n"
   ]
  },
  {
   "cell_type": "code",
   "execution_count": 4,
   "id": "9a2d7de5",
   "metadata": {},
   "outputs": [
    {
     "data": {
      "text/html": [
       "<div>\n",
       "<style scoped>\n",
       "    .dataframe tbody tr th:only-of-type {\n",
       "        vertical-align: middle;\n",
       "    }\n",
       "\n",
       "    .dataframe tbody tr th {\n",
       "        vertical-align: top;\n",
       "    }\n",
       "\n",
       "    .dataframe thead th {\n",
       "        text-align: right;\n",
       "    }\n",
       "</style>\n",
       "<table border=\"1\" class=\"dataframe\">\n",
       "  <thead>\n",
       "    <tr style=\"text-align: right;\">\n",
       "      <th></th>\n",
       "      <th>fixed acidity</th>\n",
       "      <th>volatile acidity</th>\n",
       "      <th>citric acid</th>\n",
       "      <th>residual sugar</th>\n",
       "      <th>chlorides</th>\n",
       "      <th>free sulfur dioxide</th>\n",
       "      <th>total sulfur dioxide</th>\n",
       "      <th>density</th>\n",
       "      <th>pH</th>\n",
       "      <th>sulphates</th>\n",
       "      <th>alcohol</th>\n",
       "      <th>quality</th>\n",
       "    </tr>\n",
       "  </thead>\n",
       "  <tbody>\n",
       "    <tr>\n",
       "      <th>0</th>\n",
       "      <td>7.4</td>\n",
       "      <td>0.70</td>\n",
       "      <td>0.00</td>\n",
       "      <td>1.9</td>\n",
       "      <td>0.076</td>\n",
       "      <td>11.0</td>\n",
       "      <td>34.0</td>\n",
       "      <td>0.9978</td>\n",
       "      <td>3.51</td>\n",
       "      <td>0.56</td>\n",
       "      <td>9.4</td>\n",
       "      <td>5</td>\n",
       "    </tr>\n",
       "    <tr>\n",
       "      <th>1</th>\n",
       "      <td>7.8</td>\n",
       "      <td>0.88</td>\n",
       "      <td>0.00</td>\n",
       "      <td>2.6</td>\n",
       "      <td>0.098</td>\n",
       "      <td>25.0</td>\n",
       "      <td>67.0</td>\n",
       "      <td>0.9968</td>\n",
       "      <td>3.20</td>\n",
       "      <td>0.68</td>\n",
       "      <td>9.8</td>\n",
       "      <td>5</td>\n",
       "    </tr>\n",
       "    <tr>\n",
       "      <th>2</th>\n",
       "      <td>7.8</td>\n",
       "      <td>0.76</td>\n",
       "      <td>0.04</td>\n",
       "      <td>2.3</td>\n",
       "      <td>0.092</td>\n",
       "      <td>15.0</td>\n",
       "      <td>54.0</td>\n",
       "      <td>0.9970</td>\n",
       "      <td>3.26</td>\n",
       "      <td>0.65</td>\n",
       "      <td>9.8</td>\n",
       "      <td>5</td>\n",
       "    </tr>\n",
       "    <tr>\n",
       "      <th>3</th>\n",
       "      <td>11.2</td>\n",
       "      <td>0.28</td>\n",
       "      <td>0.56</td>\n",
       "      <td>1.9</td>\n",
       "      <td>0.075</td>\n",
       "      <td>17.0</td>\n",
       "      <td>60.0</td>\n",
       "      <td>0.9980</td>\n",
       "      <td>3.16</td>\n",
       "      <td>0.58</td>\n",
       "      <td>9.8</td>\n",
       "      <td>6</td>\n",
       "    </tr>\n",
       "    <tr>\n",
       "      <th>4</th>\n",
       "      <td>7.4</td>\n",
       "      <td>0.70</td>\n",
       "      <td>0.00</td>\n",
       "      <td>1.9</td>\n",
       "      <td>0.076</td>\n",
       "      <td>11.0</td>\n",
       "      <td>34.0</td>\n",
       "      <td>0.9978</td>\n",
       "      <td>3.51</td>\n",
       "      <td>0.56</td>\n",
       "      <td>9.4</td>\n",
       "      <td>5</td>\n",
       "    </tr>\n",
       "  </tbody>\n",
       "</table>\n",
       "</div>"
      ],
      "text/plain": [
       "   fixed acidity  volatile acidity  citric acid  residual sugar  chlorides  \\\n",
       "0            7.4              0.70         0.00             1.9      0.076   \n",
       "1            7.8              0.88         0.00             2.6      0.098   \n",
       "2            7.8              0.76         0.04             2.3      0.092   \n",
       "3           11.2              0.28         0.56             1.9      0.075   \n",
       "4            7.4              0.70         0.00             1.9      0.076   \n",
       "\n",
       "   free sulfur dioxide  total sulfur dioxide  density    pH  sulphates  \\\n",
       "0                 11.0                  34.0   0.9978  3.51       0.56   \n",
       "1                 25.0                  67.0   0.9968  3.20       0.68   \n",
       "2                 15.0                  54.0   0.9970  3.26       0.65   \n",
       "3                 17.0                  60.0   0.9980  3.16       0.58   \n",
       "4                 11.0                  34.0   0.9978  3.51       0.56   \n",
       "\n",
       "   alcohol  quality  \n",
       "0      9.4        5  \n",
       "1      9.8        5  \n",
       "2      9.8        5  \n",
       "3      9.8        6  \n",
       "4      9.4        5  "
      ]
     },
     "execution_count": 4,
     "metadata": {},
     "output_type": "execute_result"
    }
   ],
   "source": [
    "import pandas as pd\n",
    "path = \"winequality-red.csv\"\n",
    "df = pd.read_csv(path)\n",
    "df.head()"
   ]
  },
  {
   "cell_type": "markdown",
   "id": "ad99dd74",
   "metadata": {},
   "source": [
    "## Guía de variables del dataset `winequality-red.csv`\n",
    "\n",
    "| Variable | Tipo | Unidad / Rango aproximado | Descripción |\n",
    "|---|---|---|---|\n",
    "| `fixed acidity` | numérica | g/dm³ | Ácidos fijos (principalmente tartárico). Cambian poco con la fermentación. |\n",
    "| `volatile acidity` | numérica | g/dm³ de ácido acético | Ácidos volátiles; niveles altos pueden dar aromas avinagrados. |\n",
    "| `citric acid` | numérica | g/dm³ | Ácido cítrico; aporta frescor y estabilidad. |\n",
    "| `residual sugar` | numérica | g/dm³ | Azúcar residual no fermentado. |\n",
    "| `chlorides` | numérica | g/dm³ de cloruro de sodio | Concentración de sales; niveles altos pueden dar sabor salado. |\n",
    "| `free sulfur dioxide` | numérica | mg/dm³ | SO₂ libre; fracción activa con efecto antimicrobiano/antioxidante. |\n",
    "| `total sulfur dioxide` | numérica | mg/dm³ | SO₂ total; incluye formas libres y combinadas. |\n",
    "| `density` | numérica | g/cm³ (aprox. 0.99–1.01) | Densidad del vino; se relaciona con azúcar y alcohol. |\n",
    "| `pH` | numérica | escala 0–14 (aprox. 2.8–4.0) | Acidez global; valores más bajos implican mayor acidez. |\n",
    "| `sulphates` | numérica | g/dm³ | Sulfatos; pueden potenciar el efecto del SO₂ y la estabilidad. |\n",
    "| `alcohol` | numérica | % vol (aprox. 8–15) | Graduación alcohólica del vino. |\n",
    "| `quality` | entera | escala ordinal (0–10, típico 3–8) | Puntuación sensorial global de calidad otorgada por catadores. |\n"
   ]
  },
  {
   "cell_type": "markdown",
   "id": "1bb1801a",
   "metadata": {},
   "source": [
    "## Ejercicios de `.loc` (selección por etiquetas y condiciones)"
   ]
  },
  {
   "cell_type": "markdown",
   "id": "d75a0493",
   "metadata": {},
   "source": [
    "**Ejercicio .loc 1.** Selecciona las filas donde `alcohol` sea mayor o igual a 12 y muestra solo las columnas `alcohol`, `quality` y `pH` usando `.loc`."
   ]
  },
  {
   "cell_type": "code",
   "execution_count": null,
   "id": "1869f7f2",
   "metadata": {},
   "outputs": [],
   "source": [
    "# Escribe tu solución aquí\n"
   ]
  },
  {
   "cell_type": "markdown",
   "id": "74b160a8",
   "metadata": {},
   "source": [
    "**Ejercicio .loc 2.** Filtra las filas en las que `volatile acidity` sea mayor a 0.6 y `quality` sea menor o igual a 5. Devuelve todas las columnas con `.loc`."
   ]
  },
  {
   "cell_type": "code",
   "execution_count": null,
   "id": "90a88c66",
   "metadata": {},
   "outputs": [],
   "source": [
    "# Escribe tu solución aquí\n"
   ]
  },
  {
   "cell_type": "markdown",
   "id": "c663f3bb",
   "metadata": {},
   "source": [
    "**Ejercicio .loc 3.** Selecciona las filas donde `citric acid` esté entre 0.25 y 0.5 (inclusive). Devuelve `citric acid`, `fixed acidity` y `quality`."
   ]
  },
  {
   "cell_type": "code",
   "execution_count": null,
   "id": "2a3e6879",
   "metadata": {},
   "outputs": [],
   "source": [
    "# Escribe tu solución aquí\n"
   ]
  },
  {
   "cell_type": "markdown",
   "id": "6b48f693",
   "metadata": {},
   "source": [
    "**Ejercicio .loc 4.** Crea una columna nueva `high_alcohol` que valga \"yes\" si `alcohol >= 12` y \"no\" en caso contrario, utilizando `.loc`."
   ]
  },
  {
   "cell_type": "code",
   "execution_count": null,
   "id": "bf81a259",
   "metadata": {},
   "outputs": [],
   "source": [
    "# Escribe tu solución aquí\n"
   ]
  },
  {
   "cell_type": "markdown",
   "id": "d0e6d1ae",
   "metadata": {},
   "source": [
    "**Ejercicio .loc 5.** Reemplaza con `NaN` los valores de `residual sugar` que sean menores que 0.5 mediante `.loc`, sin afectar el resto del `DataFrame`."
   ]
  },
  {
   "cell_type": "code",
   "execution_count": null,
   "id": "aceadd57",
   "metadata": {},
   "outputs": [],
   "source": [
    "# Escribe tu solución aquí\n"
   ]
  },
  {
   "cell_type": "markdown",
   "id": "82bb278a",
   "metadata": {},
   "source": [
    "**Ejercicio .loc 6.** Devuelve solo las filas donde `pH` esté entre 3.2 y 3.5 y, simultáneamente, `sulphates` sea mayor a 0.6, mostrando `pH`, `sulphates`, `quality`."
   ]
  },
  {
   "cell_type": "code",
   "execution_count": null,
   "id": "4812c7e2",
   "metadata": {},
   "outputs": [],
   "source": [
    "# Escribe tu solución aquí\n"
   ]
  },
  {
   "cell_type": "markdown",
   "id": "3fd3778f",
   "metadata": {},
   "source": [
    "**Ejercicio .loc 7.** Selecciona todas las filas, pero únicamente las columnas cuyo nombre contenga la palabra \"sulfur\" (por ejemplo, `free sulfur dioxide`, `total sulfur dioxide`) usando una lista de columnas con `.loc`. Utiliza una lista por comprensión para guardar las columnas."
   ]
  },
  {
   "cell_type": "code",
   "execution_count": null,
   "id": "6aa371db",
   "metadata": {},
   "outputs": [],
   "source": [
    "# Escribe tu solución aquí\n"
   ]
  },
  {
   "cell_type": "markdown",
   "id": "614a55de",
   "metadata": {},
   "source": [
    "**Ejercicio .loc 8.** Con `.loc`, selecciona las filas donde `quality` sea 7 u 8 o `alcohol` sea mayor que 13. Muestra `alcohol`, `quality`, `volatile acidity`."
   ]
  },
  {
   "cell_type": "code",
   "execution_count": null,
   "id": "965605ac",
   "metadata": {},
   "outputs": [],
   "source": [
    "# Escribe tu solución aquí\n"
   ]
  },
  {
   "cell_type": "markdown",
   "id": "e7640da3",
   "metadata": {},
   "source": [
    "**Ejercicio .loc 9.** Establece `chlorides = chlorides * 1.05` solamente en las filas donde `density` sea mayor a 1.0, usando `.loc`."
   ]
  },
  {
   "cell_type": "code",
   "execution_count": null,
   "id": "b1cd1913",
   "metadata": {},
   "outputs": [],
   "source": [
    "# Escribe tu solución aquí\n"
   ]
  },
  {
   "cell_type": "markdown",
   "id": "41c08f05",
   "metadata": {},
   "source": [
    "**Ejercicio .loc 10.** Usando `.loc`, devuelve las filas con índice entre 200 y 230 (inclusive) y las columnas desde `fixed acidity` hasta `density` (rango de etiquetas de columnas)."
   ]
  },
  {
   "cell_type": "code",
   "execution_count": null,
   "id": "04b4b996",
   "metadata": {},
   "outputs": [],
   "source": [
    "# Escribe tu solución aquí\n"
   ]
  },
  {
   "cell_type": "markdown",
   "id": "39333e37",
   "metadata": {},
   "source": [
    "## Ejercicios de `.iloc` (selección por posición)"
   ]
  },
  {
   "cell_type": "markdown",
   "id": "496cd894",
   "metadata": {},
   "source": [
    "**Ejercicio .iloc 1.** Selecciona las filas en posiciones del 100 al 199 de 20 en 20 y todas las columnas, usando `.iloc`."
   ]
  },
  {
   "cell_type": "code",
   "execution_count": null,
   "id": "1d2cdc4c",
   "metadata": {},
   "outputs": [],
   "source": [
    "# Escribe tu solución aquí\n"
   ]
  },
  {
   "cell_type": "markdown",
   "id": "6ee57fb4",
   "metadata": {},
   "source": [
    "**Ejercicio .iloc 2.** Selecciona las primeras 25 filas y las columnas en posiciones 0, 3 y 10 con `.iloc`."
   ]
  },
  {
   "cell_type": "code",
   "execution_count": null,
   "id": "c458ba77",
   "metadata": {},
   "outputs": [],
   "source": [
    "# Escribe tu solución aquí\n"
   ]
  },
  {
   "cell_type": "markdown",
   "id": "66940552",
   "metadata": {},
   "source": [
    "**Ejercicio .iloc 3.** Selecciona las últimas 20 filas del `DataFrame` y las columnas en posiciones de la 1 a la 4 (excluyendo la 5)."
   ]
  },
  {
   "cell_type": "code",
   "execution_count": null,
   "id": "d6f84cf1",
   "metadata": {},
   "outputs": [],
   "source": [
    "# Escribe tu solución aquí\n"
   ]
  },
  {
   "cell_type": "markdown",
   "id": "ffedfd74",
   "metadata": {},
   "source": [
    "**Ejercicio .iloc 4.** Toma las filas 50 a 80 (excluyendo la 81) y solamente la columna en posición 2."
   ]
  },
  {
   "cell_type": "code",
   "execution_count": null,
   "id": "ddfad0bd",
   "metadata": {},
   "outputs": [],
   "source": [
    "# Escribe tu solución aquí\n"
   ]
  },
  {
   "cell_type": "markdown",
   "id": "d233be66",
   "metadata": {},
   "source": [
    "**Ejercicio .iloc 5.** Selecciona las filas en posiciones `[0, 5, 10, 15, 20]` y las columnas en posiciones `[1, 4, 7]`."
   ]
  },
  {
   "cell_type": "code",
   "execution_count": null,
   "id": "a8a1d766",
   "metadata": {},
   "outputs": [],
   "source": [
    "# Escribe tu solución aquí\n"
   ]
  },
  {
   "cell_type": "markdown",
   "id": "e8a02cc7",
   "metadata": {},
   "source": [
    "**Ejercicio .iloc 6.** Selecciona cada 8 filas desde la 0 hasta la 80 (excluyendo la 81) y las columnas en posiciones pares."
   ]
  },
  {
   "cell_type": "code",
   "execution_count": null,
   "id": "e9709289",
   "metadata": {},
   "outputs": [],
   "source": [
    "# Escribe tu solución aquí\n"
   ]
  },
  {
   "cell_type": "markdown",
   "id": "f348ddf6",
   "metadata": {},
   "source": [
    "**Ejercicio .iloc 7.** Selecciona un bloque rectangular de filas 120 a 170 (excluyendo 171) y columnas 2 a 6 (excluyendo 7)."
   ]
  },
  {
   "cell_type": "code",
   "execution_count": null,
   "id": "d6758ac2",
   "metadata": {},
   "outputs": [],
   "source": [
    "# Escribe tu solución aquí\n"
   ]
  },
  {
   "cell_type": "markdown",
   "id": "90786f2f",
   "metadata": {},
   "source": [
    "**Ejercicio .iloc 8.** Usa `.iloc` para obtener una sola fila en la posición 42. Muéstrala e identifica el tipo de objeto que es esa fila."
   ]
  },
  {
   "cell_type": "code",
   "execution_count": null,
   "id": "30432ab4",
   "metadata": {},
   "outputs": [],
   "source": [
    "# Escribe tu solución aquí\n"
   ]
  },
  {
   "cell_type": "markdown",
   "id": "9b486320",
   "metadata": {},
   "source": [
    "**Ejercicio .iloc 9.** Usa `.iloc` para obtener un valor escalar en la fila 10, columna 3."
   ]
  },
  {
   "cell_type": "code",
   "execution_count": null,
   "id": "053a3f3e",
   "metadata": {},
   "outputs": [],
   "source": [
    "# Escribe tu solución aquí\n"
   ]
  },
  {
   "cell_type": "markdown",
   "id": "308293bc-bedf-4ddc-b162-908a7c66f05e",
   "metadata": {},
   "source": [
    "### Preparación del dataset para los ejercicios con groupby\n",
    "\n",
    "#### pd.cut() divide una variable numérica continua (aquí df['quality']) en intervalos o “cajones”.\n",
    "\n",
    "El argumento bins define los límites de esos intervalos:\n",
    "\n",
    "1. (-∞, 5] → vinos de baja calidad\n",
    "\n",
    "2. (5, 6] → vinos de calidad media\n",
    "\n",
    "3. (6, ∞) → vinos de alta calidad\n",
    "\n",
    "labels asigna nombres a cada intervalo (low, mid, high). El resultado es una serie categórica, que se guarda como una nueva columna df['quality_label']\n",
    "\n",
    "#### Se clasifica el azúcar residual (residual sugar) en tres niveles:\n",
    "\n",
    "1. (-∞, 2.0] → bajo (low)\n",
    "\n",
    "2. (2.0, 4.0] → medio (mid)\n",
    "\n",
    "3. (4.0, ∞) → alto (high)\n",
    "\n",
    "El resultado se guarda en df['sugar_level'].\n",
    "\n",
    "En resumen:\n",
    "\n",
    "| Columna creada  | Variable base    | Rangos (bins)                | Etiquetas      | Objetivo                            |\n",
    "| --------------- | ---------------- | ---------------------------- | -------------- | ----------------------------------- |\n",
    "| `quality_label` | `quality`        | (-∞,5], (5,6], (6,∞)         | low, mid, high | Clasificar calidad del vino         |\n",
    "| `sugar_level`   | `residual sugar` | (-∞,2.0], (2.0,4.0], (4.0,∞) | low, mid, high | Clasificar nivel de azúcar residual |\n"
   ]
  },
  {
   "cell_type": "code",
   "execution_count": null,
   "id": "9abfe982-2f3b-49f2-ba65-5d954d94e5d5",
   "metadata": {},
   "outputs": [],
   "source": [
    "# Preparación opcional de columnas auxiliares\n",
    "if 'quality_label' not in df.columns:\n",
    "    df['quality_label'] = pd.cut(\n",
    "        df['quality'],\n",
    "        bins=[-float('inf'), 5, 6, float('inf')],\n",
    "        labels=['low','mid','high']\n",
    "    )\n",
    "if 'sugar_level' not in df.columns:\n",
    "    sugar = df['residual sugar']\n",
    "    df['sugar_level'] = pd.cut(\n",
    "        sugar,\n",
    "        bins=[-float('inf'), 2.0, 4.0, float('inf')],\n",
    "        labels=['low','mid','high']\n",
    "    )\n",
    "df[['quality','quality_label','residual sugar','sugar_level']].head()"
   ]
  },
  {
   "cell_type": "markdown",
   "id": "84c72ecf",
   "metadata": {},
   "source": [
    "## Ejercicios de `groupby` (agregaciones y tablas cruzadas)"
   ]
  },
  {
   "cell_type": "markdown",
   "id": "a0da6b00",
   "metadata": {},
   "source": [
    "Antes de comenzar, hemos creado las  columnas auxiliares:\n",
    "\n",
    "- `quality_label`: \"low\" si `quality <= 5`, \"mid\" si `quality == 6`, \"high\" si `quality >= 7`.\n",
    "- `sugar_level`: \"low\" si `residual sugar < 2.0`, \"mid\" si `2.0 <= residual sugar < 4.0`, \"high` si `residual sugar >= 4.0`.\n"
   ]
  },
  {
   "cell_type": "markdown",
   "id": "eb65c858",
   "metadata": {},
   "source": [
    "**Ejercicio groupby 1.** Agrupa por `quality` y calcula la media de `alcohol`, `density` y `pH`. Devuelve un `DataFrame` con esas medias."
   ]
  },
  {
   "cell_type": "code",
   "execution_count": null,
   "id": "b36ec33a",
   "metadata": {},
   "outputs": [],
   "source": [
    "# Escribe tu solución aquí\n"
   ]
  },
  {
   "cell_type": "markdown",
   "id": "e4d6a977",
   "metadata": {},
   "source": [
    "**Ejercicio groupby 2.** Agrupa por `quality_label` y calcula el conteo de filas y la media de `alcohol`."
   ]
  },
  {
   "cell_type": "code",
   "execution_count": null,
   "id": "a22a2231",
   "metadata": {},
   "outputs": [],
   "source": [
    "# Escribe tu solución aquí\n"
   ]
  },
  {
   "cell_type": "markdown",
   "id": "c85b4119",
   "metadata": {},
   "source": [
    "**Ejercicio groupby 3.** Agrupa por quality y calcula el promedio y la desviación estándar de alcohol para cada grupo.\n",
    "Devuelve un DataFrame con las columnas mean_alcohol y std_alcohol, renombradas explícitamente con estos nombres."
   ]
  },
  {
   "cell_type": "code",
   "execution_count": null,
   "id": "171496ca",
   "metadata": {},
   "outputs": [],
   "source": [
    "# Escribe tu solución aquí\n"
   ]
  },
  {
   "cell_type": "markdown",
   "id": "d9a2a847",
   "metadata": {},
   "source": [
    "**Ejercicio groupby 4.** Agrupa por `quality` y calcula la desviación estándar de `volatile acidity` y `citric acid`."
   ]
  },
  {
   "cell_type": "code",
   "execution_count": null,
   "id": "caa2559b",
   "metadata": {},
   "outputs": [],
   "source": [
    "# Escribe tu solución aquí\n"
   ]
  },
  {
   "cell_type": "markdown",
   "id": "6497ba25",
   "metadata": {},
   "source": [
    "**Ejercicio groupby 5.** Agrupa por `sugar_level` y calcula la mediana de `alcohol` y `pH`."
   ]
  },
  {
   "cell_type": "code",
   "execution_count": null,
   "id": "77ba9e42",
   "metadata": {},
   "outputs": [],
   "source": [
    "# Escribe tu solución aquí\n"
   ]
  },
  {
   "cell_type": "markdown",
   "id": "2614545d",
   "metadata": {},
   "source": [
    "**Ejercicio groupby 6.** Agrupa por `quality_label` y `sugar_level` y calcula el promedio de `sulphates`, devolviendo el resultado como una tabla cruzada (usa `.unstack()` o `pivot_table`)."
   ]
  },
  {
   "cell_type": "code",
   "execution_count": null,
   "id": "9a1040c5",
   "metadata": {},
   "outputs": [],
   "source": [
    "# Escribe tu solución aquí\n"
   ]
  },
  {
   "cell_type": "markdown",
   "id": "40bf320b",
   "metadata": {},
   "source": [
    "**Ejercicio groupby 8.** Agrupa por `quality` y calcula max y min de `density` y `alcohol`."
   ]
  },
  {
   "cell_type": "code",
   "execution_count": null,
   "id": "ee090c2c",
   "metadata": {},
   "outputs": [],
   "source": [
    "# Escribe tu solución aquí\n"
   ]
  },
  {
   "cell_type": "markdown",
   "id": "6a7a3914",
   "metadata": {},
   "source": [
    "**Ejercicio groupby 9.** Agrupa por `quality_label` y calcula los percentiles 25, 50 y 75 de `alcohol` en cada grupo. Devuelve un `DataFrame` con columnas `p25`, `p50`, `p75`."
   ]
  },
  {
   "cell_type": "code",
   "execution_count": null,
   "id": "82831d6b",
   "metadata": {},
   "outputs": [],
   "source": [
    "# Escribe tu solución aquí\n"
   ]
  },
  {
   "cell_type": "markdown",
   "id": "9c47a41c",
   "metadata": {},
   "source": [
    "**Ejercicio groupby 10.** Agrupa por `sugar_level` y calcula, para `free sulfur dioxide`, las métricas: media, mediana, mínimo y máximo usando `.agg()`."
   ]
  },
  {
   "cell_type": "code",
   "execution_count": null,
   "id": "8a3156bc",
   "metadata": {},
   "outputs": [],
   "source": [
    "# Escribe tu solución aquí\n"
   ]
  }
 ],
 "metadata": {
  "kernelspec": {
   "display_name": "Python 3",
   "language": "python",
   "name": "python3"
  },
  "language_info": {
   "codemirror_mode": {
    "name": "ipython",
    "version": 3
   },
   "file_extension": ".py",
   "mimetype": "text/x-python",
   "name": "python",
   "nbconvert_exporter": "python",
   "pygments_lexer": "ipython3",
   "version": "3.11.1"
  }
 },
 "nbformat": 4,
 "nbformat_minor": 5
}
